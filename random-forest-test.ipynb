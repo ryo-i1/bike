{
 "cells": [
  {
   "cell_type": "code",
   "execution_count": 1,
   "id": "3e547365",
   "metadata": {
    "_cell_guid": "0fcc0b76-8d0b-4fb9-b53d-ec37d6745775",
    "_uuid": "962fcc11-2712-40c8-b8a2-3abccf1526ec",
    "collapsed": false,
    "execution": {
     "iopub.execute_input": "2023-05-23T07:02:47.909636Z",
     "iopub.status.busy": "2023-05-23T07:02:47.908435Z",
     "iopub.status.idle": "2023-05-23T07:02:47.924737Z",
     "shell.execute_reply": "2023-05-23T07:02:47.923398Z"
    },
    "jupyter": {
     "outputs_hidden": false
    },
    "papermill": {
     "duration": 0.029866,
     "end_time": "2023-05-23T07:02:47.927423",
     "exception": false,
     "start_time": "2023-05-23T07:02:47.897557",
     "status": "completed"
    },
    "tags": []
   },
   "outputs": [
    {
     "name": "stdout",
     "output_type": "stream",
     "text": [
      "/kaggle/input/bike-sharing-demand/sampleSubmission.csv\n",
      "/kaggle/input/bike-sharing-demand/train.csv\n",
      "/kaggle/input/bike-sharing-demand/test.csv\n"
     ]
    }
   ],
   "source": [
    "import numpy as np \n",
    "import pandas as pd \n",
    "\n",
    "import os\n",
    "for dirname, _, filenames in os.walk('/kaggle/input'):\n",
    "    for filename in filenames:\n",
    "        print(os.path.join(dirname, filename))"
   ]
  },
  {
   "cell_type": "code",
   "execution_count": 2,
   "id": "92218bdb",
   "metadata": {
    "_cell_guid": "1e7d1d34-8cfd-4468-8311-d74ec1816f46",
    "_uuid": "88221de3-1eb5-4e7c-ad34-ff06091e72b1",
    "collapsed": false,
    "execution": {
     "iopub.execute_input": "2023-05-23T07:02:47.947155Z",
     "iopub.status.busy": "2023-05-23T07:02:47.946571Z",
     "iopub.status.idle": "2023-05-23T07:02:50.573687Z",
     "shell.execute_reply": "2023-05-23T07:02:50.572593Z"
    },
    "jupyter": {
     "outputs_hidden": false
    },
    "papermill": {
     "duration": 2.639482,
     "end_time": "2023-05-23T07:02:50.575716",
     "exception": false,
     "start_time": "2023-05-23T07:02:47.936234",
     "status": "completed"
    },
    "tags": []
   },
   "outputs": [
    {
     "name": "stderr",
     "output_type": "stream",
     "text": [
      "/opt/conda/lib/python3.10/site-packages/scipy/__init__.py:146: UserWarning: A NumPy version >=1.16.5 and <1.23.0 is required for this version of SciPy (detected version 1.23.5\n",
      "  warnings.warn(f\"A NumPy version >={np_minversion} and <{np_maxversion}\"\n"
     ]
    }
   ],
   "source": [
    "# importとデータ読み込み\n",
    "import matplotlib.pyplot as plt\n",
    "import seaborn as sns\n",
    "import lightgbm as lgb\n",
    "\n",
    "df_train = pd.read_csv('../input/bike-sharing-demand/train.csv', parse_dates=['datetime'])\n",
    "df_test = pd.read_csv('../input/bike-sharing-demand/test.csv', parse_dates=['datetime'])"
   ]
  },
  {
   "cell_type": "code",
   "execution_count": 3,
   "id": "780e731e",
   "metadata": {
    "_cell_guid": "f93f79f2-2041-44d9-b027-f4e9e359476c",
    "_uuid": "e58dde3e-91eb-4de9-af0b-01bb0a16f8d6",
    "collapsed": false,
    "execution": {
     "iopub.execute_input": "2023-05-23T07:02:50.592037Z",
     "iopub.status.busy": "2023-05-23T07:02:50.591635Z",
     "iopub.status.idle": "2023-05-23T07:02:50.597219Z",
     "shell.execute_reply": "2023-05-23T07:02:50.596129Z"
    },
    "jupyter": {
     "outputs_hidden": false
    },
    "papermill": {
     "duration": 0.015691,
     "end_time": "2023-05-23T07:02:50.598927",
     "exception": false,
     "start_time": "2023-05-23T07:02:50.583236",
     "status": "completed"
    },
    "tags": []
   },
   "outputs": [],
   "source": [
    "def split_datetime(df):\n",
    "    df['year'] = df['datetime'].dt.year\n",
    "    df['month'] = df['datetime'].dt.month\n",
    "    df['day'] = df['datetime'].dt.day\n",
    "    df['hour'] = df['datetime'].dt.hour\n",
    "    df = df.drop(['datetime'],axis = 1)\n",
    "    return df"
   ]
  },
  {
   "cell_type": "code",
   "execution_count": 4,
   "id": "56fe6348",
   "metadata": {
    "_cell_guid": "8ed8d150-d84a-403d-930a-aaae8ed0c55c",
    "_uuid": "96643708-27c5-479e-850d-d055248be615",
    "collapsed": false,
    "execution": {
     "iopub.execute_input": "2023-05-23T07:02:50.614925Z",
     "iopub.status.busy": "2023-05-23T07:02:50.614353Z",
     "iopub.status.idle": "2023-05-23T07:02:50.662235Z",
     "shell.execute_reply": "2023-05-23T07:02:50.661534Z"
    },
    "jupyter": {
     "outputs_hidden": false
    },
    "papermill": {
     "duration": 0.057678,
     "end_time": "2023-05-23T07:02:50.663790",
     "exception": false,
     "start_time": "2023-05-23T07:02:50.606112",
     "status": "completed"
    },
    "tags": []
   },
   "outputs": [
    {
     "data": {
      "text/html": [
       "<div>\n",
       "<style scoped>\n",
       "    .dataframe tbody tr th:only-of-type {\n",
       "        vertical-align: middle;\n",
       "    }\n",
       "\n",
       "    .dataframe tbody tr th {\n",
       "        vertical-align: top;\n",
       "    }\n",
       "\n",
       "    .dataframe thead th {\n",
       "        text-align: right;\n",
       "    }\n",
       "</style>\n",
       "<table border=\"1\" class=\"dataframe\">\n",
       "  <thead>\n",
       "    <tr style=\"text-align: right;\">\n",
       "      <th></th>\n",
       "      <th>season</th>\n",
       "      <th>holiday</th>\n",
       "      <th>workingday</th>\n",
       "      <th>weather</th>\n",
       "      <th>temp</th>\n",
       "      <th>atemp</th>\n",
       "      <th>humidity</th>\n",
       "      <th>windspeed</th>\n",
       "      <th>count</th>\n",
       "      <th>year</th>\n",
       "      <th>month</th>\n",
       "      <th>day</th>\n",
       "      <th>hour</th>\n",
       "    </tr>\n",
       "  </thead>\n",
       "  <tbody>\n",
       "    <tr>\n",
       "      <th>0</th>\n",
       "      <td>1</td>\n",
       "      <td>0</td>\n",
       "      <td>0</td>\n",
       "      <td>1</td>\n",
       "      <td>9.84</td>\n",
       "      <td>14.395</td>\n",
       "      <td>81</td>\n",
       "      <td>0.0</td>\n",
       "      <td>16</td>\n",
       "      <td>2011</td>\n",
       "      <td>1</td>\n",
       "      <td>1</td>\n",
       "      <td>0</td>\n",
       "    </tr>\n",
       "    <tr>\n",
       "      <th>1</th>\n",
       "      <td>1</td>\n",
       "      <td>0</td>\n",
       "      <td>0</td>\n",
       "      <td>1</td>\n",
       "      <td>9.02</td>\n",
       "      <td>13.635</td>\n",
       "      <td>80</td>\n",
       "      <td>0.0</td>\n",
       "      <td>40</td>\n",
       "      <td>2011</td>\n",
       "      <td>1</td>\n",
       "      <td>1</td>\n",
       "      <td>1</td>\n",
       "    </tr>\n",
       "    <tr>\n",
       "      <th>2</th>\n",
       "      <td>1</td>\n",
       "      <td>0</td>\n",
       "      <td>0</td>\n",
       "      <td>1</td>\n",
       "      <td>9.02</td>\n",
       "      <td>13.635</td>\n",
       "      <td>80</td>\n",
       "      <td>0.0</td>\n",
       "      <td>32</td>\n",
       "      <td>2011</td>\n",
       "      <td>1</td>\n",
       "      <td>1</td>\n",
       "      <td>2</td>\n",
       "    </tr>\n",
       "    <tr>\n",
       "      <th>3</th>\n",
       "      <td>1</td>\n",
       "      <td>0</td>\n",
       "      <td>0</td>\n",
       "      <td>1</td>\n",
       "      <td>9.84</td>\n",
       "      <td>14.395</td>\n",
       "      <td>75</td>\n",
       "      <td>0.0</td>\n",
       "      <td>13</td>\n",
       "      <td>2011</td>\n",
       "      <td>1</td>\n",
       "      <td>1</td>\n",
       "      <td>3</td>\n",
       "    </tr>\n",
       "    <tr>\n",
       "      <th>4</th>\n",
       "      <td>1</td>\n",
       "      <td>0</td>\n",
       "      <td>0</td>\n",
       "      <td>1</td>\n",
       "      <td>9.84</td>\n",
       "      <td>14.395</td>\n",
       "      <td>75</td>\n",
       "      <td>0.0</td>\n",
       "      <td>1</td>\n",
       "      <td>2011</td>\n",
       "      <td>1</td>\n",
       "      <td>1</td>\n",
       "      <td>4</td>\n",
       "    </tr>\n",
       "  </tbody>\n",
       "</table>\n",
       "</div>"
      ],
      "text/plain": [
       "   season  holiday  workingday  weather  temp   atemp  humidity  windspeed  \\\n",
       "0       1        0           0        1  9.84  14.395        81        0.0   \n",
       "1       1        0           0        1  9.02  13.635        80        0.0   \n",
       "2       1        0           0        1  9.02  13.635        80        0.0   \n",
       "3       1        0           0        1  9.84  14.395        75        0.0   \n",
       "4       1        0           0        1  9.84  14.395        75        0.0   \n",
       "\n",
       "   count  year  month  day  hour  \n",
       "0     16  2011      1    1     0  \n",
       "1     40  2011      1    1     1  \n",
       "2     32  2011      1    1     2  \n",
       "3     13  2011      1    1     3  \n",
       "4      1  2011      1    1     4  "
      ]
     },
     "execution_count": 4,
     "metadata": {},
     "output_type": "execute_result"
    }
   ],
   "source": [
    "df_train = split_datetime(df_train)\n",
    "df_test = split_datetime(df_test)\n",
    "df_train = df_train.drop(['casual','registered'],axis = 1)\n",
    "df_train.head()"
   ]
  },
  {
   "cell_type": "code",
   "execution_count": 5,
   "id": "f8245825",
   "metadata": {
    "_cell_guid": "19bd0016-436f-4bcf-ba82-d279c77f7d1a",
    "_uuid": "3706af3d-ddb2-4df7-a1ec-f7e391f450ee",
    "collapsed": false,
    "execution": {
     "iopub.execute_input": "2023-05-23T07:02:50.679916Z",
     "iopub.status.busy": "2023-05-23T07:02:50.679570Z",
     "iopub.status.idle": "2023-05-23T07:02:50.691339Z",
     "shell.execute_reply": "2023-05-23T07:02:50.690166Z"
    },
    "jupyter": {
     "outputs_hidden": false
    },
    "papermill": {
     "duration": 0.022338,
     "end_time": "2023-05-23T07:02:50.693527",
     "exception": false,
     "start_time": "2023-05-23T07:02:50.671189",
     "status": "completed"
    },
    "tags": []
   },
   "outputs": [],
   "source": [
    "#split train & test （x：入力値、y：目的値）\n",
    "from sklearn.model_selection import train_test_split\n",
    "X_train_val, X_test, y_train_val, y_test = train_test_split(df_train.drop(['count'], axis = 1), df_train['count'], test_size = 0.3, random_state = 1)\n",
    "X_train, X_val, y_train, y_val = train_test_split(X_train_val, y_train_val, test_size = 0.3, random_state = 1)"
   ]
  },
  {
   "cell_type": "code",
   "execution_count": 6,
   "id": "b432047a",
   "metadata": {
    "_cell_guid": "154d1b9c-c1a0-4a20-9f50-fd6de134d93e",
    "_uuid": "16c13afa-7d14-4580-9858-b08dccd7e445",
    "collapsed": false,
    "execution": {
     "iopub.execute_input": "2023-05-23T07:02:50.710277Z",
     "iopub.status.busy": "2023-05-23T07:02:50.709508Z",
     "iopub.status.idle": "2023-05-23T07:02:50.715183Z",
     "shell.execute_reply": "2023-05-23T07:02:50.714120Z"
    },
    "jupyter": {
     "outputs_hidden": false
    },
    "papermill": {
     "duration": 0.016383,
     "end_time": "2023-05-23T07:02:50.717352",
     "exception": false,
     "start_time": "2023-05-23T07:02:50.700969",
     "status": "completed"
    },
    "tags": []
   },
   "outputs": [
    {
     "data": {
      "text/plain": [
       "((5334, 12), (2286, 12), (3266, 12))"
      ]
     },
     "execution_count": 6,
     "metadata": {},
     "output_type": "execute_result"
    }
   ],
   "source": [
    "X_train.shape, X_val.shape, X_test.shape"
   ]
  },
  {
   "cell_type": "markdown",
   "id": "869aa597",
   "metadata": {
    "_cell_guid": "ba710e84-0d08-4fef-9b9b-f2c74e5dad4e",
    "_uuid": "f1042b73-26fc-48e1-aa66-e4c850569375",
    "papermill": {
     "duration": 0.006906,
     "end_time": "2023-05-23T07:02:50.731973",
     "exception": false,
     "start_time": "2023-05-23T07:02:50.725067",
     "status": "completed"
    },
    "tags": []
   },
   "source": [
    "## RandomForestRegressor"
   ]
  },
  {
   "cell_type": "code",
   "execution_count": 7,
   "id": "58e9ffa5",
   "metadata": {
    "_cell_guid": "5e7c5770-dd62-4a50-8b80-bdaf14e47e95",
    "_uuid": "63497a85-d45e-4c0a-b75c-657fb14ab312",
    "collapsed": false,
    "execution": {
     "iopub.execute_input": "2023-05-23T07:02:50.748684Z",
     "iopub.status.busy": "2023-05-23T07:02:50.748074Z",
     "iopub.status.idle": "2023-05-23T07:02:52.212351Z",
     "shell.execute_reply": "2023-05-23T07:02:52.211131Z"
    },
    "jupyter": {
     "outputs_hidden": false
    },
    "papermill": {
     "duration": 1.475489,
     "end_time": "2023-05-23T07:02:52.214823",
     "exception": false,
     "start_time": "2023-05-23T07:02:50.739334",
     "status": "completed"
    },
    "tags": []
   },
   "outputs": [
    {
     "data": {
      "text/html": [
       "<style>#sk-container-id-1 {color: black;background-color: white;}#sk-container-id-1 pre{padding: 0;}#sk-container-id-1 div.sk-toggleable {background-color: white;}#sk-container-id-1 label.sk-toggleable__label {cursor: pointer;display: block;width: 100%;margin-bottom: 0;padding: 0.3em;box-sizing: border-box;text-align: center;}#sk-container-id-1 label.sk-toggleable__label-arrow:before {content: \"▸\";float: left;margin-right: 0.25em;color: #696969;}#sk-container-id-1 label.sk-toggleable__label-arrow:hover:before {color: black;}#sk-container-id-1 div.sk-estimator:hover label.sk-toggleable__label-arrow:before {color: black;}#sk-container-id-1 div.sk-toggleable__content {max-height: 0;max-width: 0;overflow: hidden;text-align: left;background-color: #f0f8ff;}#sk-container-id-1 div.sk-toggleable__content pre {margin: 0.2em;color: black;border-radius: 0.25em;background-color: #f0f8ff;}#sk-container-id-1 input.sk-toggleable__control:checked~div.sk-toggleable__content {max-height: 200px;max-width: 100%;overflow: auto;}#sk-container-id-1 input.sk-toggleable__control:checked~label.sk-toggleable__label-arrow:before {content: \"▾\";}#sk-container-id-1 div.sk-estimator input.sk-toggleable__control:checked~label.sk-toggleable__label {background-color: #d4ebff;}#sk-container-id-1 div.sk-label input.sk-toggleable__control:checked~label.sk-toggleable__label {background-color: #d4ebff;}#sk-container-id-1 input.sk-hidden--visually {border: 0;clip: rect(1px 1px 1px 1px);clip: rect(1px, 1px, 1px, 1px);height: 1px;margin: -1px;overflow: hidden;padding: 0;position: absolute;width: 1px;}#sk-container-id-1 div.sk-estimator {font-family: monospace;background-color: #f0f8ff;border: 1px dotted black;border-radius: 0.25em;box-sizing: border-box;margin-bottom: 0.5em;}#sk-container-id-1 div.sk-estimator:hover {background-color: #d4ebff;}#sk-container-id-1 div.sk-parallel-item::after {content: \"\";width: 100%;border-bottom: 1px solid gray;flex-grow: 1;}#sk-container-id-1 div.sk-label:hover label.sk-toggleable__label {background-color: #d4ebff;}#sk-container-id-1 div.sk-serial::before {content: \"\";position: absolute;border-left: 1px solid gray;box-sizing: border-box;top: 0;bottom: 0;left: 50%;z-index: 0;}#sk-container-id-1 div.sk-serial {display: flex;flex-direction: column;align-items: center;background-color: white;padding-right: 0.2em;padding-left: 0.2em;position: relative;}#sk-container-id-1 div.sk-item {position: relative;z-index: 1;}#sk-container-id-1 div.sk-parallel {display: flex;align-items: stretch;justify-content: center;background-color: white;position: relative;}#sk-container-id-1 div.sk-item::before, #sk-container-id-1 div.sk-parallel-item::before {content: \"\";position: absolute;border-left: 1px solid gray;box-sizing: border-box;top: 0;bottom: 0;left: 50%;z-index: -1;}#sk-container-id-1 div.sk-parallel-item {display: flex;flex-direction: column;z-index: 1;position: relative;background-color: white;}#sk-container-id-1 div.sk-parallel-item:first-child::after {align-self: flex-end;width: 50%;}#sk-container-id-1 div.sk-parallel-item:last-child::after {align-self: flex-start;width: 50%;}#sk-container-id-1 div.sk-parallel-item:only-child::after {width: 0;}#sk-container-id-1 div.sk-dashed-wrapped {border: 1px dashed gray;margin: 0 0.4em 0.5em 0.4em;box-sizing: border-box;padding-bottom: 0.4em;background-color: white;}#sk-container-id-1 div.sk-label label {font-family: monospace;font-weight: bold;display: inline-block;line-height: 1.2em;}#sk-container-id-1 div.sk-label-container {text-align: center;}#sk-container-id-1 div.sk-container {/* jupyter's `normalize.less` sets `[hidden] { display: none; }` but bootstrap.min.css set `[hidden] { display: none !important; }` so we also need the `!important` here to be able to override the default hidden behavior on the sphinx rendered scikit-learn.org. See: https://github.com/scikit-learn/scikit-learn/issues/21755 */display: inline-block !important;position: relative;}#sk-container-id-1 div.sk-text-repr-fallback {display: none;}</style><div id=\"sk-container-id-1\" class=\"sk-top-container\"><div class=\"sk-text-repr-fallback\"><pre>RandomForestRegressor(max_depth=10, min_samples_split=30, random_state=0)</pre><b>In a Jupyter environment, please rerun this cell to show the HTML representation or trust the notebook. <br />On GitHub, the HTML representation is unable to render, please try loading this page with nbviewer.org.</b></div><div class=\"sk-container\" hidden><div class=\"sk-item\"><div class=\"sk-estimator sk-toggleable\"><input class=\"sk-toggleable__control sk-hidden--visually\" id=\"sk-estimator-id-1\" type=\"checkbox\" checked><label for=\"sk-estimator-id-1\" class=\"sk-toggleable__label sk-toggleable__label-arrow\">RandomForestRegressor</label><div class=\"sk-toggleable__content\"><pre>RandomForestRegressor(max_depth=10, min_samples_split=30, random_state=0)</pre></div></div></div></div></div>"
      ],
      "text/plain": [
       "RandomForestRegressor(max_depth=10, min_samples_split=30, random_state=0)"
      ]
     },
     "execution_count": 7,
     "metadata": {},
     "output_type": "execute_result"
    }
   ],
   "source": [
    "from sklearn.ensemble import RandomForestRegressor\n",
    "\n",
    "model_RF=RandomForestRegressor(max_depth=10, min_samples_split=30 ,random_state=0)\n",
    "model_RF.fit(X_train, y_train)"
   ]
  },
  {
   "cell_type": "code",
   "execution_count": 8,
   "id": "ea435042",
   "metadata": {
    "_cell_guid": "c8612d26-7c23-4383-bd46-51088f3ca77f",
    "_uuid": "b068d988-e299-4b8e-8e9d-1f2e8cf7a37c",
    "collapsed": false,
    "execution": {
     "iopub.execute_input": "2023-05-23T07:02:52.232763Z",
     "iopub.status.busy": "2023-05-23T07:02:52.231608Z",
     "iopub.status.idle": "2023-05-23T07:02:52.309063Z",
     "shell.execute_reply": "2023-05-23T07:02:52.307679Z"
    },
    "jupyter": {
     "outputs_hidden": false
    },
    "papermill": {
     "duration": 0.088994,
     "end_time": "2023-05-23T07:02:52.311653",
     "exception": false,
     "start_time": "2023-05-23T07:02:52.222659",
     "status": "completed"
    },
    "tags": []
   },
   "outputs": [
    {
     "name": "stdout",
     "output_type": "stream",
     "text": [
      "train score: 0.9224389893598652\n",
      "val score: 0.9060219451955863\n"
     ]
    }
   ],
   "source": [
    "print(f'train score: {model_RF.score(X_train, y_train)}')\n",
    "print(f'val score: {model_RF.score(X_val, y_val)}')"
   ]
  },
  {
   "cell_type": "code",
   "execution_count": 9,
   "id": "29c722eb",
   "metadata": {
    "_cell_guid": "ae41fbb9-876a-400a-a5b4-edf104bcce37",
    "_uuid": "d60f6c33-53c5-4ecc-aca6-0c43886d6a22",
    "collapsed": false,
    "execution": {
     "iopub.execute_input": "2023-05-23T07:02:52.328450Z",
     "iopub.status.busy": "2023-05-23T07:02:52.328125Z",
     "iopub.status.idle": "2023-05-23T07:02:52.366177Z",
     "shell.execute_reply": "2023-05-23T07:02:52.364999Z"
    },
    "jupyter": {
     "outputs_hidden": false
    },
    "papermill": {
     "duration": 0.048869,
     "end_time": "2023-05-23T07:02:52.368320",
     "exception": false,
     "start_time": "2023-05-23T07:02:52.319451",
     "status": "completed"
    },
    "tags": []
   },
   "outputs": [
    {
     "name": "stdout",
     "output_type": "stream",
     "text": [
      "test score: 0.907878640884704\n"
     ]
    }
   ],
   "source": [
    "print(f'test score: {model_RF.score(X_test, y_test)}')"
   ]
  },
  {
   "cell_type": "code",
   "execution_count": 10,
   "id": "1ef67164",
   "metadata": {
    "_cell_guid": "0b123815-c78d-480b-9ce2-4b58ab2d5879",
    "_uuid": "35d36aa6-c3a3-47e7-a19a-2fb069d6611f",
    "collapsed": false,
    "execution": {
     "iopub.execute_input": "2023-05-23T07:02:52.385841Z",
     "iopub.status.busy": "2023-05-23T07:02:52.385496Z",
     "iopub.status.idle": "2023-05-23T07:02:52.391476Z",
     "shell.execute_reply": "2023-05-23T07:02:52.390082Z"
    },
    "jupyter": {
     "outputs_hidden": false
    },
    "papermill": {
     "duration": 0.017201,
     "end_time": "2023-05-23T07:02:52.393679",
     "exception": false,
     "start_time": "2023-05-23T07:02:52.376478",
     "status": "completed"
    },
    "tags": []
   },
   "outputs": [],
   "source": [
    "def rmsle(y,pred):\n",
    "    log_y=np.log1p(y)\n",
    "    log_pred=np.log1p(pred)\n",
    "    squared_error=np.square(log_y-log_pred)\n",
    "    return (np.sqrt(np.mean(squared_error)))"
   ]
  },
  {
   "cell_type": "code",
   "execution_count": 11,
   "id": "8353bc31",
   "metadata": {
    "_cell_guid": "d0726093-ca85-4d2a-8eeb-683faaf8b03b",
    "_uuid": "2aba4164-dd5e-4217-aced-9ceb78e38323",
    "collapsed": false,
    "execution": {
     "iopub.execute_input": "2023-05-23T07:02:52.411317Z",
     "iopub.status.busy": "2023-05-23T07:02:52.410955Z",
     "iopub.status.idle": "2023-05-23T07:02:52.451961Z",
     "shell.execute_reply": "2023-05-23T07:02:52.449636Z"
    },
    "jupyter": {
     "outputs_hidden": false
    },
    "papermill": {
     "duration": 0.053018,
     "end_time": "2023-05-23T07:02:52.454591",
     "exception": false,
     "start_time": "2023-05-23T07:02:52.401573",
     "status": "completed"
    },
    "tags": []
   },
   "outputs": [
    {
     "data": {
      "text/plain": [
       "0.4223303508647249"
      ]
     },
     "execution_count": 11,
     "metadata": {},
     "output_type": "execute_result"
    }
   ],
   "source": [
    "pred_x = model_RF.predict(X_test)\n",
    "rmsle(y_test,pred_x)"
   ]
  },
  {
   "cell_type": "code",
   "execution_count": 12,
   "id": "3c8811fa",
   "metadata": {
    "_cell_guid": "c11f949e-fdf8-41b4-9dce-4cbae51fde6f",
    "_uuid": "25b036a8-8368-49eb-beb7-8ec9eba20332",
    "collapsed": false,
    "execution": {
     "iopub.execute_input": "2023-05-23T07:02:52.472474Z",
     "iopub.status.busy": "2023-05-23T07:02:52.472086Z",
     "iopub.status.idle": "2023-05-23T07:02:52.476809Z",
     "shell.execute_reply": "2023-05-23T07:02:52.475849Z"
    },
    "jupyter": {
     "outputs_hidden": false
    },
    "papermill": {
     "duration": 0.016345,
     "end_time": "2023-05-23T07:02:52.479616",
     "exception": false,
     "start_time": "2023-05-23T07:02:52.463271",
     "status": "completed"
    },
    "tags": []
   },
   "outputs": [],
   "source": [
    "from sklearn.model_selection import GridSearchCV"
   ]
  },
  {
   "cell_type": "code",
   "execution_count": 13,
   "id": "d96605a9",
   "metadata": {
    "_cell_guid": "b9397f25-05e5-42d5-8602-b983ce27fe6c",
    "_uuid": "7cde73d7-5236-461c-aa63-ab3665d27806",
    "collapsed": false,
    "execution": {
     "iopub.execute_input": "2023-05-23T07:02:52.496982Z",
     "iopub.status.busy": "2023-05-23T07:02:52.496681Z",
     "iopub.status.idle": "2023-05-23T07:02:52.502348Z",
     "shell.execute_reply": "2023-05-23T07:02:52.501086Z"
    },
    "jupyter": {
     "outputs_hidden": false
    },
    "papermill": {
     "duration": 0.016259,
     "end_time": "2023-05-23T07:02:52.504126",
     "exception": false,
     "start_time": "2023-05-23T07:02:52.487867",
     "status": "completed"
    },
    "tags": []
   },
   "outputs": [],
   "source": [
    "estimator = RandomForestRegressor(random_state=0)\n",
    "param_grid = [{\n",
    "    'max_depth':[20, 35, 50],\n",
    "    'min_samples_split':[2, 3, 4]\n",
    "}]\n",
    "cv = 5 \n",
    "\n",
    "tuned_model = GridSearchCV(estimator=estimator, param_grid=param_grid, cv=cv)"
   ]
  },
  {
   "cell_type": "code",
   "execution_count": 14,
   "id": "0423b244",
   "metadata": {
    "_cell_guid": "5418a895-ccb1-4e8c-8e18-69ca8d59912c",
    "_uuid": "64e638ad-b087-4152-9a40-cf8f311f5246",
    "collapsed": false,
    "execution": {
     "iopub.execute_input": "2023-05-23T07:02:52.521713Z",
     "iopub.status.busy": "2023-05-23T07:02:52.521082Z",
     "iopub.status.idle": "2023-05-23T07:04:23.906725Z",
     "shell.execute_reply": "2023-05-23T07:04:23.905491Z"
    },
    "jupyter": {
     "outputs_hidden": false
    },
    "papermill": {
     "duration": 91.403866,
     "end_time": "2023-05-23T07:04:23.915912",
     "exception": false,
     "start_time": "2023-05-23T07:02:52.512046",
     "status": "completed"
    },
    "tags": []
   },
   "outputs": [
    {
     "data": {
      "text/html": [
       "<style>#sk-container-id-2 {color: black;background-color: white;}#sk-container-id-2 pre{padding: 0;}#sk-container-id-2 div.sk-toggleable {background-color: white;}#sk-container-id-2 label.sk-toggleable__label {cursor: pointer;display: block;width: 100%;margin-bottom: 0;padding: 0.3em;box-sizing: border-box;text-align: center;}#sk-container-id-2 label.sk-toggleable__label-arrow:before {content: \"▸\";float: left;margin-right: 0.25em;color: #696969;}#sk-container-id-2 label.sk-toggleable__label-arrow:hover:before {color: black;}#sk-container-id-2 div.sk-estimator:hover label.sk-toggleable__label-arrow:before {color: black;}#sk-container-id-2 div.sk-toggleable__content {max-height: 0;max-width: 0;overflow: hidden;text-align: left;background-color: #f0f8ff;}#sk-container-id-2 div.sk-toggleable__content pre {margin: 0.2em;color: black;border-radius: 0.25em;background-color: #f0f8ff;}#sk-container-id-2 input.sk-toggleable__control:checked~div.sk-toggleable__content {max-height: 200px;max-width: 100%;overflow: auto;}#sk-container-id-2 input.sk-toggleable__control:checked~label.sk-toggleable__label-arrow:before {content: \"▾\";}#sk-container-id-2 div.sk-estimator input.sk-toggleable__control:checked~label.sk-toggleable__label {background-color: #d4ebff;}#sk-container-id-2 div.sk-label input.sk-toggleable__control:checked~label.sk-toggleable__label {background-color: #d4ebff;}#sk-container-id-2 input.sk-hidden--visually {border: 0;clip: rect(1px 1px 1px 1px);clip: rect(1px, 1px, 1px, 1px);height: 1px;margin: -1px;overflow: hidden;padding: 0;position: absolute;width: 1px;}#sk-container-id-2 div.sk-estimator {font-family: monospace;background-color: #f0f8ff;border: 1px dotted black;border-radius: 0.25em;box-sizing: border-box;margin-bottom: 0.5em;}#sk-container-id-2 div.sk-estimator:hover {background-color: #d4ebff;}#sk-container-id-2 div.sk-parallel-item::after {content: \"\";width: 100%;border-bottom: 1px solid gray;flex-grow: 1;}#sk-container-id-2 div.sk-label:hover label.sk-toggleable__label {background-color: #d4ebff;}#sk-container-id-2 div.sk-serial::before {content: \"\";position: absolute;border-left: 1px solid gray;box-sizing: border-box;top: 0;bottom: 0;left: 50%;z-index: 0;}#sk-container-id-2 div.sk-serial {display: flex;flex-direction: column;align-items: center;background-color: white;padding-right: 0.2em;padding-left: 0.2em;position: relative;}#sk-container-id-2 div.sk-item {position: relative;z-index: 1;}#sk-container-id-2 div.sk-parallel {display: flex;align-items: stretch;justify-content: center;background-color: white;position: relative;}#sk-container-id-2 div.sk-item::before, #sk-container-id-2 div.sk-parallel-item::before {content: \"\";position: absolute;border-left: 1px solid gray;box-sizing: border-box;top: 0;bottom: 0;left: 50%;z-index: -1;}#sk-container-id-2 div.sk-parallel-item {display: flex;flex-direction: column;z-index: 1;position: relative;background-color: white;}#sk-container-id-2 div.sk-parallel-item:first-child::after {align-self: flex-end;width: 50%;}#sk-container-id-2 div.sk-parallel-item:last-child::after {align-self: flex-start;width: 50%;}#sk-container-id-2 div.sk-parallel-item:only-child::after {width: 0;}#sk-container-id-2 div.sk-dashed-wrapped {border: 1px dashed gray;margin: 0 0.4em 0.5em 0.4em;box-sizing: border-box;padding-bottom: 0.4em;background-color: white;}#sk-container-id-2 div.sk-label label {font-family: monospace;font-weight: bold;display: inline-block;line-height: 1.2em;}#sk-container-id-2 div.sk-label-container {text-align: center;}#sk-container-id-2 div.sk-container {/* jupyter's `normalize.less` sets `[hidden] { display: none; }` but bootstrap.min.css set `[hidden] { display: none !important; }` so we also need the `!important` here to be able to override the default hidden behavior on the sphinx rendered scikit-learn.org. See: https://github.com/scikit-learn/scikit-learn/issues/21755 */display: inline-block !important;position: relative;}#sk-container-id-2 div.sk-text-repr-fallback {display: none;}</style><div id=\"sk-container-id-2\" class=\"sk-top-container\"><div class=\"sk-text-repr-fallback\"><pre>GridSearchCV(cv=5, estimator=RandomForestRegressor(random_state=0),\n",
       "             param_grid=[{&#x27;max_depth&#x27;: [20, 35, 50],\n",
       "                          &#x27;min_samples_split&#x27;: [2, 3, 4]}])</pre><b>In a Jupyter environment, please rerun this cell to show the HTML representation or trust the notebook. <br />On GitHub, the HTML representation is unable to render, please try loading this page with nbviewer.org.</b></div><div class=\"sk-container\" hidden><div class=\"sk-item sk-dashed-wrapped\"><div class=\"sk-label-container\"><div class=\"sk-label sk-toggleable\"><input class=\"sk-toggleable__control sk-hidden--visually\" id=\"sk-estimator-id-2\" type=\"checkbox\" ><label for=\"sk-estimator-id-2\" class=\"sk-toggleable__label sk-toggleable__label-arrow\">GridSearchCV</label><div class=\"sk-toggleable__content\"><pre>GridSearchCV(cv=5, estimator=RandomForestRegressor(random_state=0),\n",
       "             param_grid=[{&#x27;max_depth&#x27;: [20, 35, 50],\n",
       "                          &#x27;min_samples_split&#x27;: [2, 3, 4]}])</pre></div></div></div><div class=\"sk-parallel\"><div class=\"sk-parallel-item\"><div class=\"sk-item\"><div class=\"sk-label-container\"><div class=\"sk-label sk-toggleable\"><input class=\"sk-toggleable__control sk-hidden--visually\" id=\"sk-estimator-id-3\" type=\"checkbox\" ><label for=\"sk-estimator-id-3\" class=\"sk-toggleable__label sk-toggleable__label-arrow\">estimator: RandomForestRegressor</label><div class=\"sk-toggleable__content\"><pre>RandomForestRegressor(random_state=0)</pre></div></div></div><div class=\"sk-serial\"><div class=\"sk-item\"><div class=\"sk-estimator sk-toggleable\"><input class=\"sk-toggleable__control sk-hidden--visually\" id=\"sk-estimator-id-4\" type=\"checkbox\" ><label for=\"sk-estimator-id-4\" class=\"sk-toggleable__label sk-toggleable__label-arrow\">RandomForestRegressor</label><div class=\"sk-toggleable__content\"><pre>RandomForestRegressor(random_state=0)</pre></div></div></div></div></div></div></div></div></div></div>"
      ],
      "text/plain": [
       "GridSearchCV(cv=5, estimator=RandomForestRegressor(random_state=0),\n",
       "             param_grid=[{'max_depth': [20, 35, 50],\n",
       "                          'min_samples_split': [2, 3, 4]}])"
      ]
     },
     "execution_count": 14,
     "metadata": {},
     "output_type": "execute_result"
    }
   ],
   "source": [
    "tuned_model.fit(X_train_val, y_train_val)"
   ]
  },
  {
   "cell_type": "code",
   "execution_count": 15,
   "id": "c2b9d25b",
   "metadata": {
    "_cell_guid": "f0fb21d8-2df3-4f68-a3d5-acb96cb0b3df",
    "_uuid": "34302b23-30ea-4ae9-b4d7-65324e9f55bc",
    "collapsed": false,
    "execution": {
     "iopub.execute_input": "2023-05-23T07:04:23.933492Z",
     "iopub.status.busy": "2023-05-23T07:04:23.933154Z",
     "iopub.status.idle": "2023-05-23T07:04:23.955363Z",
     "shell.execute_reply": "2023-05-23T07:04:23.954158Z"
    },
    "jupyter": {
     "outputs_hidden": false
    },
    "papermill": {
     "duration": 0.033607,
     "end_time": "2023-05-23T07:04:23.957356",
     "exception": false,
     "start_time": "2023-05-23T07:04:23.923749",
     "status": "completed"
    },
    "tags": []
   },
   "outputs": [
    {
     "data": {
      "text/html": [
       "<div>\n",
       "<style scoped>\n",
       "    .dataframe tbody tr th:only-of-type {\n",
       "        vertical-align: middle;\n",
       "    }\n",
       "\n",
       "    .dataframe tbody tr th {\n",
       "        vertical-align: top;\n",
       "    }\n",
       "\n",
       "    .dataframe thead th {\n",
       "        text-align: right;\n",
       "    }\n",
       "</style>\n",
       "<table border=\"1\" class=\"dataframe\">\n",
       "  <thead>\n",
       "    <tr style=\"text-align: right;\">\n",
       "      <th></th>\n",
       "      <th>0</th>\n",
       "      <th>1</th>\n",
       "      <th>2</th>\n",
       "      <th>3</th>\n",
       "      <th>4</th>\n",
       "      <th>5</th>\n",
       "      <th>6</th>\n",
       "      <th>7</th>\n",
       "      <th>8</th>\n",
       "    </tr>\n",
       "  </thead>\n",
       "  <tbody>\n",
       "    <tr>\n",
       "      <th>mean_fit_time</th>\n",
       "      <td>2.011141</td>\n",
       "      <td>1.947397</td>\n",
       "      <td>1.844686</td>\n",
       "      <td>2.024512</td>\n",
       "      <td>1.921833</td>\n",
       "      <td>1.843479</td>\n",
       "      <td>2.016463</td>\n",
       "      <td>1.931448</td>\n",
       "      <td>1.852583</td>\n",
       "    </tr>\n",
       "    <tr>\n",
       "      <th>std_fit_time</th>\n",
       "      <td>0.007929</td>\n",
       "      <td>0.057375</td>\n",
       "      <td>0.021197</td>\n",
       "      <td>0.00528</td>\n",
       "      <td>0.006721</td>\n",
       "      <td>0.007563</td>\n",
       "      <td>0.011158</td>\n",
       "      <td>0.010904</td>\n",
       "      <td>0.00609</td>\n",
       "    </tr>\n",
       "    <tr>\n",
       "      <th>mean_score_time</th>\n",
       "      <td>0.042757</td>\n",
       "      <td>0.039061</td>\n",
       "      <td>0.036382</td>\n",
       "      <td>0.043896</td>\n",
       "      <td>0.039532</td>\n",
       "      <td>0.035683</td>\n",
       "      <td>0.044303</td>\n",
       "      <td>0.040313</td>\n",
       "      <td>0.037191</td>\n",
       "    </tr>\n",
       "    <tr>\n",
       "      <th>std_score_time</th>\n",
       "      <td>0.000532</td>\n",
       "      <td>0.000604</td>\n",
       "      <td>0.000215</td>\n",
       "      <td>0.000431</td>\n",
       "      <td>0.000749</td>\n",
       "      <td>0.000407</td>\n",
       "      <td>0.001263</td>\n",
       "      <td>0.00062</td>\n",
       "      <td>0.002262</td>\n",
       "    </tr>\n",
       "    <tr>\n",
       "      <th>param_max_depth</th>\n",
       "      <td>20</td>\n",
       "      <td>20</td>\n",
       "      <td>20</td>\n",
       "      <td>35</td>\n",
       "      <td>35</td>\n",
       "      <td>35</td>\n",
       "      <td>50</td>\n",
       "      <td>50</td>\n",
       "      <td>50</td>\n",
       "    </tr>\n",
       "    <tr>\n",
       "      <th>param_min_samples_split</th>\n",
       "      <td>2</td>\n",
       "      <td>3</td>\n",
       "      <td>4</td>\n",
       "      <td>2</td>\n",
       "      <td>3</td>\n",
       "      <td>4</td>\n",
       "      <td>2</td>\n",
       "      <td>3</td>\n",
       "      <td>4</td>\n",
       "    </tr>\n",
       "    <tr>\n",
       "      <th>params</th>\n",
       "      <td>{'max_depth': 20, 'min_samples_split': 2}</td>\n",
       "      <td>{'max_depth': 20, 'min_samples_split': 3}</td>\n",
       "      <td>{'max_depth': 20, 'min_samples_split': 4}</td>\n",
       "      <td>{'max_depth': 35, 'min_samples_split': 2}</td>\n",
       "      <td>{'max_depth': 35, 'min_samples_split': 3}</td>\n",
       "      <td>{'max_depth': 35, 'min_samples_split': 4}</td>\n",
       "      <td>{'max_depth': 50, 'min_samples_split': 2}</td>\n",
       "      <td>{'max_depth': 50, 'min_samples_split': 3}</td>\n",
       "      <td>{'max_depth': 50, 'min_samples_split': 4}</td>\n",
       "    </tr>\n",
       "    <tr>\n",
       "      <th>split0_test_score</th>\n",
       "      <td>0.938892</td>\n",
       "      <td>0.938089</td>\n",
       "      <td>0.937709</td>\n",
       "      <td>0.93836</td>\n",
       "      <td>0.93794</td>\n",
       "      <td>0.937956</td>\n",
       "      <td>0.93836</td>\n",
       "      <td>0.93794</td>\n",
       "      <td>0.937956</td>\n",
       "    </tr>\n",
       "    <tr>\n",
       "      <th>split1_test_score</th>\n",
       "      <td>0.928019</td>\n",
       "      <td>0.927479</td>\n",
       "      <td>0.927797</td>\n",
       "      <td>0.928419</td>\n",
       "      <td>0.927752</td>\n",
       "      <td>0.92827</td>\n",
       "      <td>0.928419</td>\n",
       "      <td>0.927752</td>\n",
       "      <td>0.92827</td>\n",
       "    </tr>\n",
       "    <tr>\n",
       "      <th>split2_test_score</th>\n",
       "      <td>0.93335</td>\n",
       "      <td>0.93342</td>\n",
       "      <td>0.932431</td>\n",
       "      <td>0.933313</td>\n",
       "      <td>0.933212</td>\n",
       "      <td>0.932499</td>\n",
       "      <td>0.933313</td>\n",
       "      <td>0.933212</td>\n",
       "      <td>0.932499</td>\n",
       "    </tr>\n",
       "    <tr>\n",
       "      <th>split3_test_score</th>\n",
       "      <td>0.935875</td>\n",
       "      <td>0.935612</td>\n",
       "      <td>0.935621</td>\n",
       "      <td>0.936711</td>\n",
       "      <td>0.936348</td>\n",
       "      <td>0.935649</td>\n",
       "      <td>0.936711</td>\n",
       "      <td>0.936348</td>\n",
       "      <td>0.935649</td>\n",
       "    </tr>\n",
       "    <tr>\n",
       "      <th>split4_test_score</th>\n",
       "      <td>0.936046</td>\n",
       "      <td>0.936944</td>\n",
       "      <td>0.937543</td>\n",
       "      <td>0.936419</td>\n",
       "      <td>0.937365</td>\n",
       "      <td>0.937094</td>\n",
       "      <td>0.936419</td>\n",
       "      <td>0.937365</td>\n",
       "      <td>0.937094</td>\n",
       "    </tr>\n",
       "    <tr>\n",
       "      <th>mean_test_score</th>\n",
       "      <td>0.934436</td>\n",
       "      <td>0.934309</td>\n",
       "      <td>0.93422</td>\n",
       "      <td>0.934644</td>\n",
       "      <td>0.934523</td>\n",
       "      <td>0.934294</td>\n",
       "      <td>0.934644</td>\n",
       "      <td>0.934523</td>\n",
       "      <td>0.934294</td>\n",
       "    </tr>\n",
       "    <tr>\n",
       "      <th>std_test_score</th>\n",
       "      <td>0.003657</td>\n",
       "      <td>0.003752</td>\n",
       "      <td>0.003732</td>\n",
       "      <td>0.003514</td>\n",
       "      <td>0.003759</td>\n",
       "      <td>0.003538</td>\n",
       "      <td>0.003514</td>\n",
       "      <td>0.003759</td>\n",
       "      <td>0.003538</td>\n",
       "    </tr>\n",
       "    <tr>\n",
       "      <th>rank_test_score</th>\n",
       "      <td>5</td>\n",
       "      <td>6</td>\n",
       "      <td>9</td>\n",
       "      <td>1</td>\n",
       "      <td>3</td>\n",
       "      <td>7</td>\n",
       "      <td>1</td>\n",
       "      <td>3</td>\n",
       "      <td>7</td>\n",
       "    </tr>\n",
       "  </tbody>\n",
       "</table>\n",
       "</div>"
      ],
      "text/plain": [
       "                                                                 0  \\\n",
       "mean_fit_time                                             2.011141   \n",
       "std_fit_time                                              0.007929   \n",
       "mean_score_time                                           0.042757   \n",
       "std_score_time                                            0.000532   \n",
       "param_max_depth                                                 20   \n",
       "param_min_samples_split                                          2   \n",
       "params                   {'max_depth': 20, 'min_samples_split': 2}   \n",
       "split0_test_score                                         0.938892   \n",
       "split1_test_score                                         0.928019   \n",
       "split2_test_score                                          0.93335   \n",
       "split3_test_score                                         0.935875   \n",
       "split4_test_score                                         0.936046   \n",
       "mean_test_score                                           0.934436   \n",
       "std_test_score                                            0.003657   \n",
       "rank_test_score                                                  5   \n",
       "\n",
       "                                                                 1  \\\n",
       "mean_fit_time                                             1.947397   \n",
       "std_fit_time                                              0.057375   \n",
       "mean_score_time                                           0.039061   \n",
       "std_score_time                                            0.000604   \n",
       "param_max_depth                                                 20   \n",
       "param_min_samples_split                                          3   \n",
       "params                   {'max_depth': 20, 'min_samples_split': 3}   \n",
       "split0_test_score                                         0.938089   \n",
       "split1_test_score                                         0.927479   \n",
       "split2_test_score                                          0.93342   \n",
       "split3_test_score                                         0.935612   \n",
       "split4_test_score                                         0.936944   \n",
       "mean_test_score                                           0.934309   \n",
       "std_test_score                                            0.003752   \n",
       "rank_test_score                                                  6   \n",
       "\n",
       "                                                                 2  \\\n",
       "mean_fit_time                                             1.844686   \n",
       "std_fit_time                                              0.021197   \n",
       "mean_score_time                                           0.036382   \n",
       "std_score_time                                            0.000215   \n",
       "param_max_depth                                                 20   \n",
       "param_min_samples_split                                          4   \n",
       "params                   {'max_depth': 20, 'min_samples_split': 4}   \n",
       "split0_test_score                                         0.937709   \n",
       "split1_test_score                                         0.927797   \n",
       "split2_test_score                                         0.932431   \n",
       "split3_test_score                                         0.935621   \n",
       "split4_test_score                                         0.937543   \n",
       "mean_test_score                                            0.93422   \n",
       "std_test_score                                            0.003732   \n",
       "rank_test_score                                                  9   \n",
       "\n",
       "                                                                 3  \\\n",
       "mean_fit_time                                             2.024512   \n",
       "std_fit_time                                               0.00528   \n",
       "mean_score_time                                           0.043896   \n",
       "std_score_time                                            0.000431   \n",
       "param_max_depth                                                 35   \n",
       "param_min_samples_split                                          2   \n",
       "params                   {'max_depth': 35, 'min_samples_split': 2}   \n",
       "split0_test_score                                          0.93836   \n",
       "split1_test_score                                         0.928419   \n",
       "split2_test_score                                         0.933313   \n",
       "split3_test_score                                         0.936711   \n",
       "split4_test_score                                         0.936419   \n",
       "mean_test_score                                           0.934644   \n",
       "std_test_score                                            0.003514   \n",
       "rank_test_score                                                  1   \n",
       "\n",
       "                                                                 4  \\\n",
       "mean_fit_time                                             1.921833   \n",
       "std_fit_time                                              0.006721   \n",
       "mean_score_time                                           0.039532   \n",
       "std_score_time                                            0.000749   \n",
       "param_max_depth                                                 35   \n",
       "param_min_samples_split                                          3   \n",
       "params                   {'max_depth': 35, 'min_samples_split': 3}   \n",
       "split0_test_score                                          0.93794   \n",
       "split1_test_score                                         0.927752   \n",
       "split2_test_score                                         0.933212   \n",
       "split3_test_score                                         0.936348   \n",
       "split4_test_score                                         0.937365   \n",
       "mean_test_score                                           0.934523   \n",
       "std_test_score                                            0.003759   \n",
       "rank_test_score                                                  3   \n",
       "\n",
       "                                                                 5  \\\n",
       "mean_fit_time                                             1.843479   \n",
       "std_fit_time                                              0.007563   \n",
       "mean_score_time                                           0.035683   \n",
       "std_score_time                                            0.000407   \n",
       "param_max_depth                                                 35   \n",
       "param_min_samples_split                                          4   \n",
       "params                   {'max_depth': 35, 'min_samples_split': 4}   \n",
       "split0_test_score                                         0.937956   \n",
       "split1_test_score                                          0.92827   \n",
       "split2_test_score                                         0.932499   \n",
       "split3_test_score                                         0.935649   \n",
       "split4_test_score                                         0.937094   \n",
       "mean_test_score                                           0.934294   \n",
       "std_test_score                                            0.003538   \n",
       "rank_test_score                                                  7   \n",
       "\n",
       "                                                                 6  \\\n",
       "mean_fit_time                                             2.016463   \n",
       "std_fit_time                                              0.011158   \n",
       "mean_score_time                                           0.044303   \n",
       "std_score_time                                            0.001263   \n",
       "param_max_depth                                                 50   \n",
       "param_min_samples_split                                          2   \n",
       "params                   {'max_depth': 50, 'min_samples_split': 2}   \n",
       "split0_test_score                                          0.93836   \n",
       "split1_test_score                                         0.928419   \n",
       "split2_test_score                                         0.933313   \n",
       "split3_test_score                                         0.936711   \n",
       "split4_test_score                                         0.936419   \n",
       "mean_test_score                                           0.934644   \n",
       "std_test_score                                            0.003514   \n",
       "rank_test_score                                                  1   \n",
       "\n",
       "                                                                 7  \\\n",
       "mean_fit_time                                             1.931448   \n",
       "std_fit_time                                              0.010904   \n",
       "mean_score_time                                           0.040313   \n",
       "std_score_time                                             0.00062   \n",
       "param_max_depth                                                 50   \n",
       "param_min_samples_split                                          3   \n",
       "params                   {'max_depth': 50, 'min_samples_split': 3}   \n",
       "split0_test_score                                          0.93794   \n",
       "split1_test_score                                         0.927752   \n",
       "split2_test_score                                         0.933212   \n",
       "split3_test_score                                         0.936348   \n",
       "split4_test_score                                         0.937365   \n",
       "mean_test_score                                           0.934523   \n",
       "std_test_score                                            0.003759   \n",
       "rank_test_score                                                  3   \n",
       "\n",
       "                                                                 8  \n",
       "mean_fit_time                                             1.852583  \n",
       "std_fit_time                                               0.00609  \n",
       "mean_score_time                                           0.037191  \n",
       "std_score_time                                            0.002262  \n",
       "param_max_depth                                                 50  \n",
       "param_min_samples_split                                          4  \n",
       "params                   {'max_depth': 50, 'min_samples_split': 4}  \n",
       "split0_test_score                                         0.937956  \n",
       "split1_test_score                                          0.92827  \n",
       "split2_test_score                                         0.932499  \n",
       "split3_test_score                                         0.935649  \n",
       "split4_test_score                                         0.937094  \n",
       "mean_test_score                                           0.934294  \n",
       "std_test_score                                            0.003538  \n",
       "rank_test_score                                                  7  "
      ]
     },
     "execution_count": 15,
     "metadata": {},
     "output_type": "execute_result"
    }
   ],
   "source": [
    "pd.DataFrame(tuned_model.cv_results_).T"
   ]
  },
  {
   "cell_type": "code",
   "execution_count": 16,
   "id": "196427dd",
   "metadata": {
    "_cell_guid": "5d5ab7b1-ed12-4bc2-bf76-bf91de8c982d",
    "_uuid": "8ac135aa-987a-4464-b68d-6ca8e4791c94",
    "collapsed": false,
    "execution": {
     "iopub.execute_input": "2023-05-23T07:04:23.976597Z",
     "iopub.status.busy": "2023-05-23T07:04:23.976106Z",
     "iopub.status.idle": "2023-05-23T07:04:23.981104Z",
     "shell.execute_reply": "2023-05-23T07:04:23.980168Z"
    },
    "jupyter": {
     "outputs_hidden": false
    },
    "papermill": {
     "duration": 0.017326,
     "end_time": "2023-05-23T07:04:23.983430",
     "exception": false,
     "start_time": "2023-05-23T07:04:23.966104",
     "status": "completed"
    },
    "tags": []
   },
   "outputs": [
    {
     "data": {
      "text/plain": [
       "{'max_depth': 35, 'min_samples_split': 2}"
      ]
     },
     "execution_count": 16,
     "metadata": {},
     "output_type": "execute_result"
    }
   ],
   "source": [
    "tuned_model.best_params_"
   ]
  },
  {
   "cell_type": "code",
   "execution_count": 17,
   "id": "6fe40e45",
   "metadata": {
    "_cell_guid": "ac000a77-d4dc-40f2-b89c-d451b77a24da",
    "_uuid": "9fc1afb0-29eb-49f4-bf52-eb88e83715b2",
    "collapsed": false,
    "execution": {
     "iopub.execute_input": "2023-05-23T07:04:24.003016Z",
     "iopub.status.busy": "2023-05-23T07:04:24.002626Z",
     "iopub.status.idle": "2023-05-23T07:04:24.181487Z",
     "shell.execute_reply": "2023-05-23T07:04:24.180468Z"
    },
    "jupyter": {
     "outputs_hidden": false
    },
    "papermill": {
     "duration": 0.1918,
     "end_time": "2023-05-23T07:04:24.183770",
     "exception": false,
     "start_time": "2023-05-23T07:04:23.991970",
     "status": "completed"
    },
    "tags": []
   },
   "outputs": [
    {
     "name": "stdout",
     "output_type": "stream",
     "text": [
      "train score: 0.9914332879959791\n",
      "val score: 0.9914444309229077\n"
     ]
    }
   ],
   "source": [
    "best_model = tuned_model.best_estimator_\n",
    "print(f'train score: {best_model.score(X_train, y_train)}')\n",
    "print(f'val score: {best_model.score(X_val, y_val)}')"
   ]
  },
  {
   "cell_type": "code",
   "execution_count": 18,
   "id": "e5a3b693",
   "metadata": {
    "_cell_guid": "a058c4a2-701c-478a-a930-b55d142cbbd0",
    "_uuid": "55994fd6-d28e-43ac-9799-0fbf62346bba",
    "collapsed": false,
    "execution": {
     "iopub.execute_input": "2023-05-23T07:04:24.204930Z",
     "iopub.status.busy": "2023-05-23T07:04:24.203608Z",
     "iopub.status.idle": "2023-05-23T07:04:24.289520Z",
     "shell.execute_reply": "2023-05-23T07:04:24.288382Z"
    },
    "jupyter": {
     "outputs_hidden": false
    },
    "papermill": {
     "duration": 0.098856,
     "end_time": "2023-05-23T07:04:24.292310",
     "exception": false,
     "start_time": "2023-05-23T07:04:24.193454",
     "status": "completed"
    },
    "tags": []
   },
   "outputs": [
    {
     "name": "stdout",
     "output_type": "stream",
     "text": [
      "test score: 0.9459870849204794\n"
     ]
    }
   ],
   "source": [
    "print(f'test score: {best_model.score(X_test, y_test)}')"
   ]
  },
  {
   "cell_type": "code",
   "execution_count": 19,
   "id": "4c964f85",
   "metadata": {
    "_cell_guid": "6b1dd541-9950-4edb-8314-de7017760ed6",
    "_uuid": "d6909906-991b-404e-88fa-560b164b4917",
    "collapsed": false,
    "execution": {
     "iopub.execute_input": "2023-05-23T07:04:24.312343Z",
     "iopub.status.busy": "2023-05-23T07:04:24.311964Z",
     "iopub.status.idle": "2023-05-23T07:04:24.400262Z",
     "shell.execute_reply": "2023-05-23T07:04:24.398897Z"
    },
    "jupyter": {
     "outputs_hidden": false
    },
    "papermill": {
     "duration": 0.101164,
     "end_time": "2023-05-23T07:04:24.402881",
     "exception": false,
     "start_time": "2023-05-23T07:04:24.301717",
     "status": "completed"
    },
    "tags": []
   },
   "outputs": [
    {
     "data": {
      "text/plain": [
       "0.34929499281332826"
      ]
     },
     "execution_count": 19,
     "metadata": {},
     "output_type": "execute_result"
    }
   ],
   "source": [
    "pred_x = best_model.predict(X_test)\n",
    "rmsle(y_test,pred_x)"
   ]
  },
  {
   "cell_type": "code",
   "execution_count": 20,
   "id": "9f176185",
   "metadata": {
    "execution": {
     "iopub.execute_input": "2023-05-23T07:04:24.422620Z",
     "iopub.status.busy": "2023-05-23T07:04:24.422233Z",
     "iopub.status.idle": "2023-05-23T07:04:24.511808Z",
     "shell.execute_reply": "2023-05-23T07:04:24.510570Z"
    },
    "papermill": {
     "duration": 0.102053,
     "end_time": "2023-05-23T07:04:24.514178",
     "exception": false,
     "start_time": "2023-05-23T07:04:24.412125",
     "status": "completed"
    },
    "tags": []
   },
   "outputs": [],
   "source": [
    "result = best_model.predict(df_test)"
   ]
  },
  {
   "cell_type": "code",
   "execution_count": 21,
   "id": "fb539d26",
   "metadata": {
    "_cell_guid": "b74f1062-feca-4e5d-8e0d-9219b300a8cb",
    "_uuid": "158e47ee-138d-42c5-beac-3b7a3a1f6fe5",
    "collapsed": false,
    "execution": {
     "iopub.execute_input": "2023-05-23T07:04:24.534261Z",
     "iopub.status.busy": "2023-05-23T07:04:24.533136Z",
     "iopub.status.idle": "2023-05-23T07:04:24.555704Z",
     "shell.execute_reply": "2023-05-23T07:04:24.554805Z"
    },
    "jupyter": {
     "outputs_hidden": false
    },
    "papermill": {
     "duration": 0.035019,
     "end_time": "2023-05-23T07:04:24.558111",
     "exception": false,
     "start_time": "2023-05-23T07:04:24.523092",
     "status": "completed"
    },
    "tags": []
   },
   "outputs": [
    {
     "data": {
      "text/html": [
       "<div>\n",
       "<style scoped>\n",
       "    .dataframe tbody tr th:only-of-type {\n",
       "        vertical-align: middle;\n",
       "    }\n",
       "\n",
       "    .dataframe tbody tr th {\n",
       "        vertical-align: top;\n",
       "    }\n",
       "\n",
       "    .dataframe thead th {\n",
       "        text-align: right;\n",
       "    }\n",
       "</style>\n",
       "<table border=\"1\" class=\"dataframe\">\n",
       "  <thead>\n",
       "    <tr style=\"text-align: right;\">\n",
       "      <th></th>\n",
       "      <th>datetime</th>\n",
       "      <th>count</th>\n",
       "    </tr>\n",
       "  </thead>\n",
       "  <tbody>\n",
       "    <tr>\n",
       "      <th>0</th>\n",
       "      <td>2011-01-20 00:00:00</td>\n",
       "      <td>0</td>\n",
       "    </tr>\n",
       "    <tr>\n",
       "      <th>1</th>\n",
       "      <td>2011-01-20 01:00:00</td>\n",
       "      <td>0</td>\n",
       "    </tr>\n",
       "    <tr>\n",
       "      <th>2</th>\n",
       "      <td>2011-01-20 02:00:00</td>\n",
       "      <td>0</td>\n",
       "    </tr>\n",
       "    <tr>\n",
       "      <th>3</th>\n",
       "      <td>2011-01-20 03:00:00</td>\n",
       "      <td>0</td>\n",
       "    </tr>\n",
       "    <tr>\n",
       "      <th>4</th>\n",
       "      <td>2011-01-20 04:00:00</td>\n",
       "      <td>0</td>\n",
       "    </tr>\n",
       "    <tr>\n",
       "      <th>...</th>\n",
       "      <td>...</td>\n",
       "      <td>...</td>\n",
       "    </tr>\n",
       "    <tr>\n",
       "      <th>6488</th>\n",
       "      <td>2012-12-31 19:00:00</td>\n",
       "      <td>0</td>\n",
       "    </tr>\n",
       "    <tr>\n",
       "      <th>6489</th>\n",
       "      <td>2012-12-31 20:00:00</td>\n",
       "      <td>0</td>\n",
       "    </tr>\n",
       "    <tr>\n",
       "      <th>6490</th>\n",
       "      <td>2012-12-31 21:00:00</td>\n",
       "      <td>0</td>\n",
       "    </tr>\n",
       "    <tr>\n",
       "      <th>6491</th>\n",
       "      <td>2012-12-31 22:00:00</td>\n",
       "      <td>0</td>\n",
       "    </tr>\n",
       "    <tr>\n",
       "      <th>6492</th>\n",
       "      <td>2012-12-31 23:00:00</td>\n",
       "      <td>0</td>\n",
       "    </tr>\n",
       "  </tbody>\n",
       "</table>\n",
       "<p>6493 rows × 2 columns</p>\n",
       "</div>"
      ],
      "text/plain": [
       "                 datetime  count\n",
       "0     2011-01-20 00:00:00      0\n",
       "1     2011-01-20 01:00:00      0\n",
       "2     2011-01-20 02:00:00      0\n",
       "3     2011-01-20 03:00:00      0\n",
       "4     2011-01-20 04:00:00      0\n",
       "...                   ...    ...\n",
       "6488  2012-12-31 19:00:00      0\n",
       "6489  2012-12-31 20:00:00      0\n",
       "6490  2012-12-31 21:00:00      0\n",
       "6491  2012-12-31 22:00:00      0\n",
       "6492  2012-12-31 23:00:00      0\n",
       "\n",
       "[6493 rows x 2 columns]"
      ]
     },
     "execution_count": 21,
     "metadata": {},
     "output_type": "execute_result"
    }
   ],
   "source": [
    "submission = pd.read_csv('../input/bike-sharing-demand/sampleSubmission.csv')\n",
    "submission"
   ]
  },
  {
   "cell_type": "code",
   "execution_count": 22,
   "id": "999dfe2d",
   "metadata": {
    "execution": {
     "iopub.execute_input": "2023-05-23T07:04:24.578246Z",
     "iopub.status.busy": "2023-05-23T07:04:24.577821Z",
     "iopub.status.idle": "2023-05-23T07:04:24.584585Z",
     "shell.execute_reply": "2023-05-23T07:04:24.583434Z"
    },
    "papermill": {
     "duration": 0.020227,
     "end_time": "2023-05-23T07:04:24.587532",
     "exception": false,
     "start_time": "2023-05-23T07:04:24.567305",
     "status": "completed"
    },
    "tags": []
   },
   "outputs": [
    {
     "data": {
      "text/plain": [
       "(6493,)"
      ]
     },
     "execution_count": 22,
     "metadata": {},
     "output_type": "execute_result"
    }
   ],
   "source": [
    "result.shape"
   ]
  },
  {
   "cell_type": "code",
   "execution_count": 23,
   "id": "cfaebe53",
   "metadata": {
    "_cell_guid": "0f27c0dc-5afc-4155-8443-40c6b3a8e557",
    "_uuid": "1bd1cc5c-908a-447f-b9f0-ed690a813961",
    "collapsed": false,
    "execution": {
     "iopub.execute_input": "2023-05-23T07:04:24.607657Z",
     "iopub.status.busy": "2023-05-23T07:04:24.607290Z",
     "iopub.status.idle": "2023-05-23T07:04:24.620626Z",
     "shell.execute_reply": "2023-05-23T07:04:24.619329Z"
    },
    "jupyter": {
     "outputs_hidden": false
    },
    "papermill": {
     "duration": 0.026384,
     "end_time": "2023-05-23T07:04:24.623217",
     "exception": false,
     "start_time": "2023-05-23T07:04:24.596833",
     "status": "completed"
    },
    "tags": []
   },
   "outputs": [
    {
     "data": {
      "text/html": [
       "<div>\n",
       "<style scoped>\n",
       "    .dataframe tbody tr th:only-of-type {\n",
       "        vertical-align: middle;\n",
       "    }\n",
       "\n",
       "    .dataframe tbody tr th {\n",
       "        vertical-align: top;\n",
       "    }\n",
       "\n",
       "    .dataframe thead th {\n",
       "        text-align: right;\n",
       "    }\n",
       "</style>\n",
       "<table border=\"1\" class=\"dataframe\">\n",
       "  <thead>\n",
       "    <tr style=\"text-align: right;\">\n",
       "      <th></th>\n",
       "      <th>datetime</th>\n",
       "      <th>count</th>\n",
       "    </tr>\n",
       "  </thead>\n",
       "  <tbody>\n",
       "    <tr>\n",
       "      <th>0</th>\n",
       "      <td>2011-01-20 00:00:00</td>\n",
       "      <td>11.66</td>\n",
       "    </tr>\n",
       "    <tr>\n",
       "      <th>1</th>\n",
       "      <td>2011-01-20 01:00:00</td>\n",
       "      <td>5.98</td>\n",
       "    </tr>\n",
       "    <tr>\n",
       "      <th>2</th>\n",
       "      <td>2011-01-20 02:00:00</td>\n",
       "      <td>5.52</td>\n",
       "    </tr>\n",
       "    <tr>\n",
       "      <th>3</th>\n",
       "      <td>2011-01-20 03:00:00</td>\n",
       "      <td>3.27</td>\n",
       "    </tr>\n",
       "    <tr>\n",
       "      <th>4</th>\n",
       "      <td>2011-01-20 04:00:00</td>\n",
       "      <td>2.65</td>\n",
       "    </tr>\n",
       "    <tr>\n",
       "      <th>...</th>\n",
       "      <td>...</td>\n",
       "      <td>...</td>\n",
       "    </tr>\n",
       "    <tr>\n",
       "      <th>6488</th>\n",
       "      <td>2012-12-31 19:00:00</td>\n",
       "      <td>319.60</td>\n",
       "    </tr>\n",
       "    <tr>\n",
       "      <th>6489</th>\n",
       "      <td>2012-12-31 20:00:00</td>\n",
       "      <td>216.68</td>\n",
       "    </tr>\n",
       "    <tr>\n",
       "      <th>6490</th>\n",
       "      <td>2012-12-31 21:00:00</td>\n",
       "      <td>158.67</td>\n",
       "    </tr>\n",
       "    <tr>\n",
       "      <th>6491</th>\n",
       "      <td>2012-12-31 22:00:00</td>\n",
       "      <td>119.90</td>\n",
       "    </tr>\n",
       "    <tr>\n",
       "      <th>6492</th>\n",
       "      <td>2012-12-31 23:00:00</td>\n",
       "      <td>80.84</td>\n",
       "    </tr>\n",
       "  </tbody>\n",
       "</table>\n",
       "<p>6493 rows × 2 columns</p>\n",
       "</div>"
      ],
      "text/plain": [
       "                 datetime   count\n",
       "0     2011-01-20 00:00:00   11.66\n",
       "1     2011-01-20 01:00:00    5.98\n",
       "2     2011-01-20 02:00:00    5.52\n",
       "3     2011-01-20 03:00:00    3.27\n",
       "4     2011-01-20 04:00:00    2.65\n",
       "...                   ...     ...\n",
       "6488  2012-12-31 19:00:00  319.60\n",
       "6489  2012-12-31 20:00:00  216.68\n",
       "6490  2012-12-31 21:00:00  158.67\n",
       "6491  2012-12-31 22:00:00  119.90\n",
       "6492  2012-12-31 23:00:00   80.84\n",
       "\n",
       "[6493 rows x 2 columns]"
      ]
     },
     "execution_count": 23,
     "metadata": {},
     "output_type": "execute_result"
    }
   ],
   "source": [
    "submission.loc[:, 'count'] = result\n",
    "submission"
   ]
  },
  {
   "cell_type": "code",
   "execution_count": 24,
   "id": "44e7d27a",
   "metadata": {
    "_cell_guid": "2495e537-97bf-4d26-ae28-3a2d7a889575",
    "_uuid": "6f1eb366-e5ef-4e6f-be1f-8e733a4945f7",
    "collapsed": false,
    "execution": {
     "iopub.execute_input": "2023-05-23T07:04:24.643853Z",
     "iopub.status.busy": "2023-05-23T07:04:24.643480Z",
     "iopub.status.idle": "2023-05-23T07:04:24.672404Z",
     "shell.execute_reply": "2023-05-23T07:04:24.671088Z"
    },
    "jupyter": {
     "outputs_hidden": false
    },
    "papermill": {
     "duration": 0.041951,
     "end_time": "2023-05-23T07:04:24.674716",
     "exception": false,
     "start_time": "2023-05-23T07:04:24.632765",
     "status": "completed"
    },
    "tags": []
   },
   "outputs": [
    {
     "data": {
      "text/html": [
       "<div>\n",
       "<style scoped>\n",
       "    .dataframe tbody tr th:only-of-type {\n",
       "        vertical-align: middle;\n",
       "    }\n",
       "\n",
       "    .dataframe tbody tr th {\n",
       "        vertical-align: top;\n",
       "    }\n",
       "\n",
       "    .dataframe thead th {\n",
       "        text-align: right;\n",
       "    }\n",
       "</style>\n",
       "<table border=\"1\" class=\"dataframe\">\n",
       "  <thead>\n",
       "    <tr style=\"text-align: right;\">\n",
       "      <th></th>\n",
       "      <th>datetime</th>\n",
       "      <th>count</th>\n",
       "    </tr>\n",
       "  </thead>\n",
       "  <tbody>\n",
       "    <tr>\n",
       "      <th>0</th>\n",
       "      <td>2011-01-20 00:00:00</td>\n",
       "      <td>11.66</td>\n",
       "    </tr>\n",
       "    <tr>\n",
       "      <th>1</th>\n",
       "      <td>2011-01-20 01:00:00</td>\n",
       "      <td>5.98</td>\n",
       "    </tr>\n",
       "    <tr>\n",
       "      <th>2</th>\n",
       "      <td>2011-01-20 02:00:00</td>\n",
       "      <td>5.52</td>\n",
       "    </tr>\n",
       "    <tr>\n",
       "      <th>3</th>\n",
       "      <td>2011-01-20 03:00:00</td>\n",
       "      <td>3.27</td>\n",
       "    </tr>\n",
       "    <tr>\n",
       "      <th>4</th>\n",
       "      <td>2011-01-20 04:00:00</td>\n",
       "      <td>2.65</td>\n",
       "    </tr>\n",
       "    <tr>\n",
       "      <th>...</th>\n",
       "      <td>...</td>\n",
       "      <td>...</td>\n",
       "    </tr>\n",
       "    <tr>\n",
       "      <th>6488</th>\n",
       "      <td>2012-12-31 19:00:00</td>\n",
       "      <td>319.60</td>\n",
       "    </tr>\n",
       "    <tr>\n",
       "      <th>6489</th>\n",
       "      <td>2012-12-31 20:00:00</td>\n",
       "      <td>216.68</td>\n",
       "    </tr>\n",
       "    <tr>\n",
       "      <th>6490</th>\n",
       "      <td>2012-12-31 21:00:00</td>\n",
       "      <td>158.67</td>\n",
       "    </tr>\n",
       "    <tr>\n",
       "      <th>6491</th>\n",
       "      <td>2012-12-31 22:00:00</td>\n",
       "      <td>119.90</td>\n",
       "    </tr>\n",
       "    <tr>\n",
       "      <th>6492</th>\n",
       "      <td>2012-12-31 23:00:00</td>\n",
       "      <td>80.84</td>\n",
       "    </tr>\n",
       "  </tbody>\n",
       "</table>\n",
       "<p>6493 rows × 2 columns</p>\n",
       "</div>"
      ],
      "text/plain": [
       "                 datetime   count\n",
       "0     2011-01-20 00:00:00   11.66\n",
       "1     2011-01-20 01:00:00    5.98\n",
       "2     2011-01-20 02:00:00    5.52\n",
       "3     2011-01-20 03:00:00    3.27\n",
       "4     2011-01-20 04:00:00    2.65\n",
       "...                   ...     ...\n",
       "6488  2012-12-31 19:00:00  319.60\n",
       "6489  2012-12-31 20:00:00  216.68\n",
       "6490  2012-12-31 21:00:00  158.67\n",
       "6491  2012-12-31 22:00:00  119.90\n",
       "6492  2012-12-31 23:00:00   80.84\n",
       "\n",
       "[6493 rows x 2 columns]"
      ]
     },
     "execution_count": 24,
     "metadata": {},
     "output_type": "execute_result"
    }
   ],
   "source": [
    "submission.to_csv(\"submission.csv\", index = False)\n",
    "submission"
   ]
  },
  {
   "cell_type": "markdown",
   "id": "396bb544",
   "metadata": {
    "_cell_guid": "e684300f-148d-4ef5-8d20-b5543dadebf5",
    "_uuid": "e0be3a62-35ec-4f18-81e5-0f4a8f97674b",
    "papermill": {
     "duration": 0.0095,
     "end_time": "2023-05-23T07:04:24.694183",
     "exception": false,
     "start_time": "2023-05-23T07:04:24.684683",
     "status": "completed"
    },
    "tags": []
   },
   "source": [
    "##  特徴量重要度"
   ]
  },
  {
   "cell_type": "code",
   "execution_count": 25,
   "id": "77a3435d",
   "metadata": {
    "_cell_guid": "b22c2b21-a37c-4e54-8855-df38b8e19f1e",
    "_uuid": "d6305727-8b8f-451d-b894-fe3909e0c070",
    "collapsed": false,
    "execution": {
     "iopub.execute_input": "2023-05-23T07:04:24.714624Z",
     "iopub.status.busy": "2023-05-23T07:04:24.714290Z",
     "iopub.status.idle": "2023-05-23T07:04:24.729799Z",
     "shell.execute_reply": "2023-05-23T07:04:24.729075Z"
    },
    "jupyter": {
     "outputs_hidden": false
    },
    "papermill": {
     "duration": 0.028471,
     "end_time": "2023-05-23T07:04:24.732185",
     "exception": false,
     "start_time": "2023-05-23T07:04:24.703714",
     "status": "completed"
    },
    "tags": []
   },
   "outputs": [],
   "source": [
    "# 特徴量重要度の算出 (データフレームで取得)\n",
    "cols = list(df_train.drop('count',axis=1).columns) \n",
    "f_importance = np.array(model_RF.feature_importances_) # 特徴量重要度の算出\n",
    "f_importance = f_importance / np.sum(f_importance)  # 正規化(必要ない場合はコメントアウト)\n",
    "df_importance = pd.DataFrame({'feature':cols, 'importance':f_importance}).sort_values(\"importance\",ascending=False)\n",
    "# lgb.plot_importance(model_RF)"
   ]
  },
  {
   "cell_type": "code",
   "execution_count": 26,
   "id": "00e23d27",
   "metadata": {
    "_cell_guid": "9d180429-023d-476c-9b84-6ad87f5f881b",
    "_uuid": "e582c9c1-7bce-4ed4-b9c9-22572622ef96",
    "collapsed": false,
    "execution": {
     "iopub.execute_input": "2023-05-23T07:04:24.753407Z",
     "iopub.status.busy": "2023-05-23T07:04:24.752951Z",
     "iopub.status.idle": "2023-05-23T07:04:24.759459Z",
     "shell.execute_reply": "2023-05-23T07:04:24.758099Z"
    },
    "jupyter": {
     "outputs_hidden": false
    },
    "papermill": {
     "duration": 0.01984,
     "end_time": "2023-05-23T07:04:24.762020",
     "exception": false,
     "start_time": "2023-05-23T07:04:24.742180",
     "status": "completed"
    },
    "tags": []
   },
   "outputs": [],
   "source": [
    "# 特徴量重要度を棒グラフでプロットする関数 \n",
    "def plot_feature_importance(df): \n",
    "      n_features = len(df)                              # 特徴量数(説明変数の個数) \n",
    "      df_plot = df.sort_values('importance')            # df_importanceをプロット用に特徴量重要度を昇順ソート \n",
    "      f_importance_plot = df_plot['importance'].values  # 特徴量重要度の取得 \n",
    "      plt.barh(range(n_features), f_importance_plot, align='center') \n",
    "      cols_plot = df_plot['feature'].values             # 特徴量の取得 \n",
    "      plt.yticks(np.arange(n_features), cols_plot)      # x軸,y軸の値の設定\n",
    "      plt.xlabel('Feature importance')                  # x軸のタイトル\n",
    "      plt.ylabel('Feature')                             # y軸のタイトル"
   ]
  },
  {
   "cell_type": "code",
   "execution_count": 27,
   "id": "806dd5b7",
   "metadata": {
    "_cell_guid": "35a3d21b-6175-4ee8-9d12-c58d6f6eb348",
    "_uuid": "ea2b8c5f-837a-4095-8412-56e3a6a3b399",
    "collapsed": false,
    "execution": {
     "iopub.execute_input": "2023-05-23T07:04:24.784093Z",
     "iopub.status.busy": "2023-05-23T07:04:24.783644Z",
     "iopub.status.idle": "2023-05-23T07:04:25.011650Z",
     "shell.execute_reply": "2023-05-23T07:04:25.009930Z"
    },
    "jupyter": {
     "outputs_hidden": false
    },
    "papermill": {
     "duration": 0.241735,
     "end_time": "2023-05-23T07:04:25.014118",
     "exception": false,
     "start_time": "2023-05-23T07:04:24.772383",
     "status": "completed"
    },
    "tags": []
   },
   "outputs": [
    {
     "data": {
      "image/png": "[encoded data removed]",
      "text/plain": [
       "<Figure size 640x480 with 1 Axes>"
      ]
     },
     "metadata": {},
     "output_type": "display_data"
    }
   ],
   "source": [
    "plot_feature_importance(df_importance)"
   ]
  },
  {
   "cell_type": "markdown",
   "id": "81b6a349",
   "metadata": {
    "_cell_guid": "e9a1d9d8-0a18-4e57-85c7-8dec24e99271",
    "_uuid": "260ba0e3-1d6e-40d4-999f-9130b9722407",
    "papermill": {
     "duration": 0.009441,
     "end_time": "2023-05-23T07:04:25.033605",
     "exception": false,
     "start_time": "2023-05-23T07:04:25.024164",
     "status": "completed"
    },
    "tags": []
   },
   "source": [
    "## モデルのチューニング"
   ]
  },
  {
   "cell_type": "code",
   "execution_count": null,
   "id": "bb8008a1",
   "metadata": {
    "_cell_guid": "0b909b11-9092-492f-9a5c-ea12ceda4995",
    "_uuid": "cc42f203-8364-4694-836c-bb452461c1fe",
    "collapsed": false,
    "jupyter": {
     "outputs_hidden": false
    },
    "papermill": {
     "duration": 0.009395,
     "end_time": "2023-05-23T07:04:25.052486",
     "exception": false,
     "start_time": "2023-05-23T07:04:25.043091",
     "status": "completed"
    },
    "tags": []
   },
   "outputs": [],
   "source": []
  }
 ],
 "metadata": {
  "kernelspec": {
   "display_name": "Python 3",
   "language": "python",
   "name": "python3"
  },
  "language_info": {
   "codemirror_mode": {
    "name": "ipython",
    "version": 3
   },
   "file_extension": ".py",
   "mimetype": "text/x-python",
   "name": "python",
   "nbconvert_exporter": "python",
   "pygments_lexer": "ipython3",
   "version": "3.10.10"
  },
  "papermill": {
   "default_parameters": {},
   "duration": 107.421993,
   "end_time": "2023-05-23T07:04:26.187234",
   "environment_variables": {},
   "exception": null,
   "input_path": "__notebook__.ipynb",
   "output_path": "__notebook__.ipynb",
   "parameters": {},
   "start_time": "2023-05-23T07:02:38.765241",
   "version": "2.4.0"
  }
 },
 "nbformat": 4,
 "nbformat_minor": 5
}
