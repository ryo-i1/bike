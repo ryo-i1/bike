{
 "cells": [
  {
   "cell_type": "code",
   "execution_count": 1,
   "metadata": {},
   "outputs": [],
   "source": [
    "import numpy as np\n",
    "import pandas as pd\n",
    "import matplotlib.pyplot as plt\n",
    "import seaborn as sns\n",
    "%matplotlib inline\n",
    "from sklearn.model_selection import train_test_split, GridSearchCV\n",
    "from sklearn.ensemble import RandomForestRegressor as RFR\n",
    "\n",
    "train = pd.read_csv('./data/input/train.csv')\n",
    "test = pd.read_csv('./data/input/test.csv')"
   ]
  },
  {
   "cell_type": "code",
   "execution_count": 2,
   "metadata": {},
   "outputs": [],
   "source": [
    "def rmsle(y, y_):\n",
    "    log1 = np.log(y + 1)\n",
    "    log2 = np.log(y_ + 1)\n",
    "    mean = np.square((log1- log2)).mean()\n",
    "    return np.sqrt(mean)"
   ]
  },
  {
   "cell_type": "code",
   "execution_count": 3,
   "metadata": {},
   "outputs": [],
   "source": [
    "scores_cols = ['conditions', 'descriptions', 'train', 'valid', 'submissions']\n",
    "scores = pd.DataFrame(columns=scores_cols)"
   ]
  },
  {
   "attachments": {},
   "cell_type": "markdown",
   "metadata": {},
   "source": [
    "# データ前処理"
   ]
  },
  {
   "attachments": {},
   "cell_type": "markdown",
   "metadata": {},
   "source": [
    "## datetime の処理"
   ]
  },
  {
   "cell_type": "code",
   "execution_count": 4,
   "metadata": {},
   "outputs": [],
   "source": [
    "train['year'] = train.datetime.apply(lambda x: x.split()[0].split('-')[0]).astype('int')\n",
    "train['month'] = train.datetime.apply(lambda x: x.split()[0].split('-')[1]).astype('int')\n",
    "train['day'] = train.datetime.apply(lambda x: x.split()[0].split('-')[2]).astype('int')\n",
    "train['hour'] = train.datetime.apply(lambda x: x.split()[1].split(':')[0]).astype('int')\n",
    "\n",
    "test['year'] = test.datetime.apply(lambda x: x.split()[0].split('-')[0]).astype('int')\n",
    "test['month'] = test.datetime.apply(lambda x: x.split()[0].split('-')[1]).astype('int')\n",
    "test['day'] = test.datetime.apply(lambda x: x.split()[0].split('-')[2]).astype('int')\n",
    "test['hour'] = test.datetime.apply(lambda x: x.split()[1].split(':')[0]).astype('int')"
   ]
  },
  {
   "attachments": {},
   "cell_type": "markdown",
   "metadata": {},
   "source": [
    "## 検証用データの作成"
   ]
  },
  {
   "cell_type": "code",
   "execution_count": 5,
   "metadata": {},
   "outputs": [],
   "source": [
    "drop_cols = ['datetime', 'count', 'casual', 'registered']\n",
    "test_use_cols = [col for col in train.columns if col not in drop_cols]\n",
    "\n",
    "train_X, valid_X, train_y, valid_y = train_test_split(\n",
    "    train.drop(columns=drop_cols),\n",
    "    train.loc[:, ['registered', 'casual', 'count']],\n",
    "    test_size=0.3, random_state=0)"
   ]
  },
  {
   "attachments": {},
   "cell_type": "markdown",
   "metadata": {},
   "source": [
    "## RF 実装\n",
    "count を直接予測する．"
   ]
  },
  {
   "cell_type": "code",
   "execution_count": 6,
   "metadata": {},
   "outputs": [
    {
     "name": "stdout",
     "output_type": "stream",
     "text": [
      "  conditions descriptions     train     valid submissions\n",
      "0      First               0.158527  0.352344        None\n"
     ]
    }
   ],
   "source": [
    "model_rf = RFR(random_state=0)\n",
    "model_rf.fit(train_X, train_y.loc[:, 'count'])\n",
    "\n",
    "train_pred = model_rf.predict(train_X)\n",
    "train_score = rmsle(train_y.loc[:, 'count'], train_pred)\n",
    "\n",
    "valid_pred = model_rf.predict(valid_X)\n",
    "valid_score = rmsle(valid_y.loc[:, 'count'], valid_pred)\n",
    "\n",
    "score = pd.DataFrame([['First', '', train_score, valid_score, None]], columns=scores_cols)\n",
    "if score.values[0][0] not in scores.values:\n",
    "    scores = pd.concat([scores, score], axis=0)\n",
    "print(scores)"
   ]
  },
  {
   "attachments": {},
   "cell_type": "markdown",
   "metadata": {},
   "source": [
    "### Highperparameter Tuning 1"
   ]
  },
  {
   "cell_type": "code",
   "execution_count": 7,
   "metadata": {},
   "outputs": [],
   "source": [
    "# RF GridSearchCV\n",
    "if False:\n",
    "    params = [{\n",
    "        'n_estimators': [700, 1000, 1300],\n",
    "        'max_depth': [10, 15, 20],\n",
    "        'min_samples_split': [3, 5, 7],\n",
    "        'max_features': ['sqrt', 'log2', None]\n",
    "    }]\n",
    "\n",
    "    gscv = GridSearchCV(\n",
    "        RFR(random_state=0, n_jobs=-1),\n",
    "        param_grid=params,\n",
    "        cv=5,\n",
    "        verbose=2\n",
    "        )\n",
    "\n",
    "    gscv.fit(train_X, train_y.loc[:, 'count'])"
   ]
  },
  {
   "cell_type": "code",
   "execution_count": 8,
   "metadata": {},
   "outputs": [],
   "source": [
    "# RF GridSearchCV check params\n",
    "if False:\n",
    "    model_rf_best = gscv.best_estimator_\n",
    "    print(gscv.best_params_)\n",
    "\n",
    "    print(pd.DataFrame(gscv.cv_results_).sort_values('rank_test_score').loc[:, 'params'].values)"
   ]
  },
  {
   "cell_type": "code",
   "execution_count": 9,
   "metadata": {},
   "outputs": [
    {
     "name": "stdout",
     "output_type": "stream",
     "text": [
      "  conditions     descriptions     train     valid submissions\n",
      "0      First                   0.158527  0.352344        None\n",
      "1        0-1  Hparam Tuning 1  0.283048  0.362909        None\n"
     ]
    }
   ],
   "source": [
    "model_rf_best = RFR(random_state=0, max_depth=20, min_samples_leaf=5, n_estimators=200)\n",
    "model_rf_best.fit(train_X, train_y.loc[:, 'count'])\n",
    "\n",
    "train_pred = model_rf_best.predict(train_X)\n",
    "train_score = rmsle(train_y.loc[:, 'count'], train_pred)\n",
    "\n",
    "test_pred = model_rf_best.predict(valid_X)\n",
    "test_score = rmsle(valid_y.loc[:, 'count'], test_pred)\n",
    "\n",
    "sc = pd.DataFrame([['0-1', 'Hparam Tuning 1', train_score, test_score, None]], columns=scores_cols)\n",
    "if sc.values[0][0] not in scores.values:\n",
    "    scores = pd.concat([scores, sc], axis=0, ignore_index=True)\n",
    "print(scores)"
   ]
  },
  {
   "cell_type": "code",
   "execution_count": 10,
   "metadata": {},
   "outputs": [],
   "source": [
    "model_rf_test = RFR(random_state=0, max_depth=20, min_samples_leaf=5, n_estimators=200)\n",
    "model_rf_test.fit(train.drop(columns=drop_cols), train.loc[:, 'count'])\n",
    "\n",
    "pred = model_rf_test.predict(test.loc[:, test_use_cols])\n",
    "df_submit = pd.DataFrame({'datetime': test.datetime, 'count': pred})\n",
    "df_submit.to_csv('./data/output/submittion_RFR.csv', index=False)"
   ]
  },
  {
   "cell_type": "code",
   "execution_count": 11,
   "metadata": {},
   "outputs": [
    {
     "name": "stdout",
     "output_type": "stream",
     "text": [
      "  conditions     descriptions     train     valid submissions\n",
      "0      First                   0.158527  0.352344        None\n",
      "1        0-1  Hparam Tuning 1  0.283048  0.362909     0.48367\n"
     ]
    }
   ],
   "source": [
    "scores.loc[scores['conditions'] == '0-1', 'submissions'] = 0.48367\n",
    "print(scores)"
   ]
  },
  {
   "attachments": {},
   "cell_type": "markdown",
   "metadata": {},
   "source": [
    "### Highper parameter Tuning 2"
   ]
  },
  {
   "cell_type": "code",
   "execution_count": 12,
   "metadata": {},
   "outputs": [
    {
     "name": "stdout",
     "output_type": "stream",
     "text": [
      "  conditions     descriptions     train     valid submissions\n",
      "0      First                   0.158527  0.352344        None\n",
      "1        0-1  Hparam Tuning 1  0.283048  0.362909     0.48367\n",
      "2        0-2  Hparam Tuning 2  0.195116  0.354192        None\n"
     ]
    }
   ],
   "source": [
    "model_rf = RFR(random_state=0, max_depth=20, min_samples_split=5, n_estimators=700, n_jobs=-1)\n",
    "model_rf.fit(train_X, train_y.loc[:, 'count'])\n",
    "\n",
    "train_pred = model_rf.predict(train_X)\n",
    "train_score = rmsle(train_y.loc[:, 'count'], train_pred)\n",
    "\n",
    "test_pred = model_rf.predict(valid_X)\n",
    "test_score = rmsle(valid_y.loc[:, 'count'], test_pred)\n",
    "\n",
    "sc = pd.DataFrame([['0-2', 'Hparam Tuning 2', train_score, test_score, None]], columns=scores_cols)\n",
    "if sc.values[0][0] not in scores.values:\n",
    "    scores = pd.concat([scores, sc], axis=0, ignore_index=True)\n",
    "print(scores)"
   ]
  },
  {
   "attachments": {},
   "cell_type": "markdown",
   "metadata": {},
   "source": [
    "## 仮説検証"
   ]
  },
  {
   "attachments": {},
   "cell_type": "markdown",
   "metadata": {},
   "source": [
    "### 仮説 1\n",
    "count を registered と casual の和として予測する．"
   ]
  },
  {
   "cell_type": "code",
   "execution_count": 13,
   "metadata": {},
   "outputs": [
    {
     "data": {
      "text/html": [
       "<style>#sk-container-id-1 {color: black;background-color: white;}#sk-container-id-1 pre{padding: 0;}#sk-container-id-1 div.sk-toggleable {background-color: white;}#sk-container-id-1 label.sk-toggleable__label {cursor: pointer;display: block;width: 100%;margin-bottom: 0;padding: 0.3em;box-sizing: border-box;text-align: center;}#sk-container-id-1 label.sk-toggleable__label-arrow:before {content: \"▸\";float: left;margin-right: 0.25em;color: #696969;}#sk-container-id-1 label.sk-toggleable__label-arrow:hover:before {color: black;}#sk-container-id-1 div.sk-estimator:hover label.sk-toggleable__label-arrow:before {color: black;}#sk-container-id-1 div.sk-toggleable__content {max-height: 0;max-width: 0;overflow: hidden;text-align: left;background-color: #f0f8ff;}#sk-container-id-1 div.sk-toggleable__content pre {margin: 0.2em;color: black;border-radius: 0.25em;background-color: #f0f8ff;}#sk-container-id-1 input.sk-toggleable__control:checked~div.sk-toggleable__content {max-height: 200px;max-width: 100%;overflow: auto;}#sk-container-id-1 input.sk-toggleable__control:checked~label.sk-toggleable__label-arrow:before {content: \"▾\";}#sk-container-id-1 div.sk-estimator input.sk-toggleable__control:checked~label.sk-toggleable__label {background-color: #d4ebff;}#sk-container-id-1 div.sk-label input.sk-toggleable__control:checked~label.sk-toggleable__label {background-color: #d4ebff;}#sk-container-id-1 input.sk-hidden--visually {border: 0;clip: rect(1px 1px 1px 1px);clip: rect(1px, 1px, 1px, 1px);height: 1px;margin: -1px;overflow: hidden;padding: 0;position: absolute;width: 1px;}#sk-container-id-1 div.sk-estimator {font-family: monospace;background-color: #f0f8ff;border: 1px dotted black;border-radius: 0.25em;box-sizing: border-box;margin-bottom: 0.5em;}#sk-container-id-1 div.sk-estimator:hover {background-color: #d4ebff;}#sk-container-id-1 div.sk-parallel-item::after {content: \"\";width: 100%;border-bottom: 1px solid gray;flex-grow: 1;}#sk-container-id-1 div.sk-label:hover label.sk-toggleable__label {background-color: #d4ebff;}#sk-container-id-1 div.sk-serial::before {content: \"\";position: absolute;border-left: 1px solid gray;box-sizing: border-box;top: 0;bottom: 0;left: 50%;z-index: 0;}#sk-container-id-1 div.sk-serial {display: flex;flex-direction: column;align-items: center;background-color: white;padding-right: 0.2em;padding-left: 0.2em;position: relative;}#sk-container-id-1 div.sk-item {position: relative;z-index: 1;}#sk-container-id-1 div.sk-parallel {display: flex;align-items: stretch;justify-content: center;background-color: white;position: relative;}#sk-container-id-1 div.sk-item::before, #sk-container-id-1 div.sk-parallel-item::before {content: \"\";position: absolute;border-left: 1px solid gray;box-sizing: border-box;top: 0;bottom: 0;left: 50%;z-index: -1;}#sk-container-id-1 div.sk-parallel-item {display: flex;flex-direction: column;z-index: 1;position: relative;background-color: white;}#sk-container-id-1 div.sk-parallel-item:first-child::after {align-self: flex-end;width: 50%;}#sk-container-id-1 div.sk-parallel-item:last-child::after {align-self: flex-start;width: 50%;}#sk-container-id-1 div.sk-parallel-item:only-child::after {width: 0;}#sk-container-id-1 div.sk-dashed-wrapped {border: 1px dashed gray;margin: 0 0.4em 0.5em 0.4em;box-sizing: border-box;padding-bottom: 0.4em;background-color: white;}#sk-container-id-1 div.sk-label label {font-family: monospace;font-weight: bold;display: inline-block;line-height: 1.2em;}#sk-container-id-1 div.sk-label-container {text-align: center;}#sk-container-id-1 div.sk-container {/* jupyter's `normalize.less` sets `[hidden] { display: none; }` but bootstrap.min.css set `[hidden] { display: none !important; }` so we also need the `!important` here to be able to override the default hidden behavior on the sphinx rendered scikit-learn.org. See: https://github.com/scikit-learn/scikit-learn/issues/21755 */display: inline-block !important;position: relative;}#sk-container-id-1 div.sk-text-repr-fallback {display: none;}</style><div id=\"sk-container-id-1\" class=\"sk-top-container\"><div class=\"sk-text-repr-fallback\"><pre>RandomForestRegressor(max_depth=20, min_samples_split=3, n_estimators=700,\n",
       "                      n_jobs=-1, random_state=0)</pre><b>In a Jupyter environment, please rerun this cell to show the HTML representation or trust the notebook. <br />On GitHub, the HTML representation is unable to render, please try loading this page with nbviewer.org.</b></div><div class=\"sk-container\" hidden><div class=\"sk-item\"><div class=\"sk-estimator sk-toggleable\"><input class=\"sk-toggleable__control sk-hidden--visually\" id=\"sk-estimator-id-1\" type=\"checkbox\" checked><label for=\"sk-estimator-id-1\" class=\"sk-toggleable__label sk-toggleable__label-arrow\">RandomForestRegressor</label><div class=\"sk-toggleable__content\"><pre>RandomForestRegressor(max_depth=20, min_samples_split=3, n_estimators=700,\n",
       "                      n_jobs=-1, random_state=0)</pre></div></div></div></div></div>"
      ],
      "text/plain": [
       "RandomForestRegressor(max_depth=20, min_samples_split=3, n_estimators=700,\n",
       "                      n_jobs=-1, random_state=0)"
      ]
     },
     "execution_count": 13,
     "metadata": {},
     "output_type": "execute_result"
    }
   ],
   "source": [
    "rf_1_registered = RFR(random_state=0, max_depth=20, min_samples_split=3, n_estimators=700, n_jobs=-1)\n",
    "rf_1_registered.fit(train_X, train_y.loc[:, 'registered'])\n",
    "\n",
    "rf_1_casual = RFR(random_state=0, max_depth=20, min_samples_split=3, n_estimators=700, n_jobs=-1)\n",
    "rf_1_casual.fit(train_X, train_y.loc[:, 'casual'])"
   ]
  },
  {
   "cell_type": "code",
   "execution_count": 14,
   "metadata": {},
   "outputs": [
    {
     "name": "stdout",
     "output_type": "stream",
     "text": [
      "  conditions     descriptions     train     valid submissions\n",
      "0      First                   0.158527  0.352344        None\n",
      "1        0-1  Hparam Tuning 1  0.283048  0.362909     0.48367\n",
      "2        0-2  Hparam Tuning 2  0.195116  0.354192        None\n",
      "3          1    split obj var  0.164491  0.347886        None\n"
     ]
    }
   ],
   "source": [
    "train_pred_registered = rf_1_registered.predict(train_X)\n",
    "train_pred_casual = rf_1_casual.predict(train_X)\n",
    "train_pred_count = train_pred_registered + train_pred_casual\n",
    "\n",
    "valid_pred_registered = rf_1_registered.predict(valid_X)\n",
    "valid_pred_casual = rf_1_casual.predict(valid_X)\n",
    "valid_pred_count = valid_pred_registered + valid_pred_casual\n",
    "\n",
    "train_score = rmsle(train_y.loc[:, 'count'], train_pred_count)\n",
    "valid_score = rmsle(valid_y.loc[:, 'count'], valid_pred_count)\n",
    "\n",
    "sc = pd.DataFrame([['1', 'split obj var', train_score, valid_score, None]], columns=scores_cols)\n",
    "if sc.values[0][0] not in scores.values:\n",
    "    scores = pd.concat([scores, sc], axis=0, ignore_index=True)\n",
    "print(scores)"
   ]
  },
  {
   "attachments": {},
   "cell_type": "markdown",
   "metadata": {},
   "source": [
    "**仮説 1 の下で submit**"
   ]
  },
  {
   "cell_type": "code",
   "execution_count": 25,
   "metadata": {},
   "outputs": [
    {
     "ename": "KeyError",
     "evalue": "\"['datetime', 'count', 'casual', 'registered'] not found in axis\"",
     "output_type": "error",
     "traceback": [
      "\u001b[0;31m---------------------------------------------------------------------------\u001b[0m",
      "\u001b[0;31mKeyError\u001b[0m                                  Traceback (most recent call last)",
      "Cell \u001b[0;32mIn[25], line 2\u001b[0m\n\u001b[1;32m      1\u001b[0m model_registered \u001b[39m=\u001b[39m RFR(random_state\u001b[39m=\u001b[39m\u001b[39m0\u001b[39m, max_depth\u001b[39m=\u001b[39m\u001b[39m20\u001b[39m, min_samples_split\u001b[39m=\u001b[39m\u001b[39m3\u001b[39m, n_estimators\u001b[39m=\u001b[39m\u001b[39m700\u001b[39m, n_jobs\u001b[39m=\u001b[39m\u001b[39m-\u001b[39m\u001b[39m1\u001b[39m)\n\u001b[0;32m----> 2\u001b[0m model_registered\u001b[39m.\u001b[39mfit(train\u001b[39m.\u001b[39;49mdrop(drop_cols), train\u001b[39m.\u001b[39mloc[:, \u001b[39m'\u001b[39m\u001b[39mregistered\u001b[39m\u001b[39m'\u001b[39m])\n\u001b[1;32m      4\u001b[0m model_casual \u001b[39m=\u001b[39m RFR(random_state\u001b[39m=\u001b[39m\u001b[39m0\u001b[39m, max_depth\u001b[39m=\u001b[39m\u001b[39m20\u001b[39m, min_samples_split\u001b[39m=\u001b[39m\u001b[39m3\u001b[39m, n_estimators\u001b[39m=\u001b[39m\u001b[39m700\u001b[39m, n_jobs\u001b[39m=\u001b[39m\u001b[39m-\u001b[39m\u001b[39m1\u001b[39m)\n\u001b[1;32m      5\u001b[0m model_casual\u001b[39m.\u001b[39mfit(train\u001b[39m.\u001b[39mdrop(drop_cols), train\u001b[39m.\u001b[39mloc[:, \u001b[39m'\u001b[39m\u001b[39mcasual\u001b[39m\u001b[39m'\u001b[39m])\n",
      "File \u001b[0;32m~/py/kaggle/bike/.venv_bike/lib/python3.11/site-packages/pandas/core/frame.py:5268\u001b[0m, in \u001b[0;36mDataFrame.drop\u001b[0;34m(self, labels, axis, index, columns, level, inplace, errors)\u001b[0m\n\u001b[1;32m   5120\u001b[0m \u001b[39mdef\u001b[39;00m \u001b[39mdrop\u001b[39m(\n\u001b[1;32m   5121\u001b[0m     \u001b[39mself\u001b[39m,\n\u001b[1;32m   5122\u001b[0m     labels: IndexLabel \u001b[39m=\u001b[39m \u001b[39mNone\u001b[39;00m,\n\u001b[0;32m   (...)\u001b[0m\n\u001b[1;32m   5129\u001b[0m     errors: IgnoreRaise \u001b[39m=\u001b[39m \u001b[39m\"\u001b[39m\u001b[39mraise\u001b[39m\u001b[39m\"\u001b[39m,\n\u001b[1;32m   5130\u001b[0m ) \u001b[39m-\u001b[39m\u001b[39m>\u001b[39m DataFrame \u001b[39m|\u001b[39m \u001b[39mNone\u001b[39;00m:\n\u001b[1;32m   5131\u001b[0m \u001b[39m    \u001b[39m\u001b[39m\"\"\"\u001b[39;00m\n\u001b[1;32m   5132\u001b[0m \u001b[39m    Drop specified labels from rows or columns.\u001b[39;00m\n\u001b[1;32m   5133\u001b[0m \n\u001b[0;32m   (...)\u001b[0m\n\u001b[1;32m   5266\u001b[0m \u001b[39m            weight  1.0     0.8\u001b[39;00m\n\u001b[1;32m   5267\u001b[0m \u001b[39m    \"\"\"\u001b[39;00m\n\u001b[0;32m-> 5268\u001b[0m     \u001b[39mreturn\u001b[39;00m \u001b[39msuper\u001b[39;49m()\u001b[39m.\u001b[39;49mdrop(\n\u001b[1;32m   5269\u001b[0m         labels\u001b[39m=\u001b[39;49mlabels,\n\u001b[1;32m   5270\u001b[0m         axis\u001b[39m=\u001b[39;49maxis,\n\u001b[1;32m   5271\u001b[0m         index\u001b[39m=\u001b[39;49mindex,\n\u001b[1;32m   5272\u001b[0m         columns\u001b[39m=\u001b[39;49mcolumns,\n\u001b[1;32m   5273\u001b[0m         level\u001b[39m=\u001b[39;49mlevel,\n\u001b[1;32m   5274\u001b[0m         inplace\u001b[39m=\u001b[39;49minplace,\n\u001b[1;32m   5275\u001b[0m         errors\u001b[39m=\u001b[39;49merrors,\n\u001b[1;32m   5276\u001b[0m     )\n",
      "File \u001b[0;32m~/py/kaggle/bike/.venv_bike/lib/python3.11/site-packages/pandas/core/generic.py:4549\u001b[0m, in \u001b[0;36mNDFrame.drop\u001b[0;34m(self, labels, axis, index, columns, level, inplace, errors)\u001b[0m\n\u001b[1;32m   4547\u001b[0m \u001b[39mfor\u001b[39;00m axis, labels \u001b[39min\u001b[39;00m axes\u001b[39m.\u001b[39mitems():\n\u001b[1;32m   4548\u001b[0m     \u001b[39mif\u001b[39;00m labels \u001b[39mis\u001b[39;00m \u001b[39mnot\u001b[39;00m \u001b[39mNone\u001b[39;00m:\n\u001b[0;32m-> 4549\u001b[0m         obj \u001b[39m=\u001b[39m obj\u001b[39m.\u001b[39;49m_drop_axis(labels, axis, level\u001b[39m=\u001b[39;49mlevel, errors\u001b[39m=\u001b[39;49merrors)\n\u001b[1;32m   4551\u001b[0m \u001b[39mif\u001b[39;00m inplace:\n\u001b[1;32m   4552\u001b[0m     \u001b[39mself\u001b[39m\u001b[39m.\u001b[39m_update_inplace(obj)\n",
      "File \u001b[0;32m~/py/kaggle/bike/.venv_bike/lib/python3.11/site-packages/pandas/core/generic.py:4591\u001b[0m, in \u001b[0;36mNDFrame._drop_axis\u001b[0;34m(self, labels, axis, level, errors, only_slice)\u001b[0m\n\u001b[1;32m   4589\u001b[0m         new_axis \u001b[39m=\u001b[39m axis\u001b[39m.\u001b[39mdrop(labels, level\u001b[39m=\u001b[39mlevel, errors\u001b[39m=\u001b[39merrors)\n\u001b[1;32m   4590\u001b[0m     \u001b[39melse\u001b[39;00m:\n\u001b[0;32m-> 4591\u001b[0m         new_axis \u001b[39m=\u001b[39m axis\u001b[39m.\u001b[39;49mdrop(labels, errors\u001b[39m=\u001b[39;49merrors)\n\u001b[1;32m   4592\u001b[0m     indexer \u001b[39m=\u001b[39m axis\u001b[39m.\u001b[39mget_indexer(new_axis)\n\u001b[1;32m   4594\u001b[0m \u001b[39m# Case for non-unique axis\u001b[39;00m\n\u001b[1;32m   4595\u001b[0m \u001b[39melse\u001b[39;00m:\n",
      "File \u001b[0;32m~/py/kaggle/bike/.venv_bike/lib/python3.11/site-packages/pandas/core/indexes/base.py:6696\u001b[0m, in \u001b[0;36mIndex.drop\u001b[0;34m(self, labels, errors)\u001b[0m\n\u001b[1;32m   6694\u001b[0m \u001b[39mif\u001b[39;00m mask\u001b[39m.\u001b[39many():\n\u001b[1;32m   6695\u001b[0m     \u001b[39mif\u001b[39;00m errors \u001b[39m!=\u001b[39m \u001b[39m\"\u001b[39m\u001b[39mignore\u001b[39m\u001b[39m\"\u001b[39m:\n\u001b[0;32m-> 6696\u001b[0m         \u001b[39mraise\u001b[39;00m \u001b[39mKeyError\u001b[39;00m(\u001b[39mf\u001b[39m\u001b[39m\"\u001b[39m\u001b[39m{\u001b[39;00m\u001b[39mlist\u001b[39m(labels[mask])\u001b[39m}\u001b[39;00m\u001b[39m not found in axis\u001b[39m\u001b[39m\"\u001b[39m)\n\u001b[1;32m   6697\u001b[0m     indexer \u001b[39m=\u001b[39m indexer[\u001b[39m~\u001b[39mmask]\n\u001b[1;32m   6698\u001b[0m \u001b[39mreturn\u001b[39;00m \u001b[39mself\u001b[39m\u001b[39m.\u001b[39mdelete(indexer)\n",
      "\u001b[0;31mKeyError\u001b[0m: \"['datetime', 'count', 'casual', 'registered'] not found in axis\""
     ]
    }
   ],
   "source": [
    "model_registered = RFR(random_state=0, max_depth=20, min_samples_split=3, n_estimators=700, n_jobs=-1)\n",
    "model_registered.fit(train.drop(drop_cols, axis=1), train.loc[:, 'registered'])\n",
    "\n",
    "model_casual = RFR(random_state=0, max_depth=20, min_samples_split=3, n_estimators=700, n_jobs=-1)\n",
    "model_casual.fit(train.drop(drop_cols, axis=1), train.loc[:, 'casual'])\n",
    "\n",
    "pred_registered = model_registered.predict(test.loc[:, test_use_cols])\n",
    "pred_casual = model_casual.predict(test.loc[:, test_use_cols])\n",
    "pred_count = pred_registered + pred_casual\n",
    "\n",
    "df_submit = pd.DataFrame({'datetime': test.datetime, 'count': pred_count})\n",
    "df_submit.to_csv('./data/output/submission_rf_1.csv', index=False)"
   ]
  },
  {
   "attachments": {},
   "cell_type": "markdown",
   "metadata": {},
   "source": [
    "### 仮説 2-1\n",
    "風速 0 を削除"
   ]
  },
  {
   "cell_type": "code",
   "execution_count": 15,
   "metadata": {},
   "outputs": [
    {
     "name": "stdout",
     "output_type": "stream",
     "text": [
      "  conditions            descriptions     train     valid submissions\n",
      "0      First                          0.158527  0.352344        None\n",
      "1        0-1         Hparam Tuning 1  0.283048  0.362909     0.48367\n",
      "2        0-2         Hparam Tuning 2  0.195116  0.354192        None\n",
      "3          1           split obj var  0.164491  0.347886        None\n",
      "4        2-1  windspeed == 0 -> drop  0.201615  0.349233        None\n"
     ]
    }
   ],
   "source": [
    "model_registered = RFR(random_state=0, max_depth=20, min_samples_split=3, n_estimators=700, n_jobs=-1)\n",
    "model_registered.fit(train_X.loc[train_X.loc[:, 'windspeed'] != 0, :], train_y.loc[train_X.loc[:, 'windspeed'] != 0, 'registered'])\n",
    "\n",
    "model_casual = RFR(random_state=0, max_depth=20, min_samples_split=3, n_estimators=700, n_jobs=-1)\n",
    "model_casual.fit(train_X.loc[train_X.loc[:, 'windspeed'] != 0, :], train_y.loc[train_X.loc[:, 'windspeed'] != 0, 'casual'])\n",
    "\n",
    "train_pred_registered = model_registered.predict(train_X)\n",
    "train_pred_casual = model_casual.predict(train_X)\n",
    "train_pred_count = train_pred_registered + train_pred_casual\n",
    "\n",
    "valid_pred_registered = model_registered.predict(valid_X)\n",
    "valid_pred_casual = model_casual.predict(valid_X)\n",
    "valid_pred_count = valid_pred_registered + valid_pred_casual\n",
    "\n",
    "train_score = rmsle(train_y.loc[:, 'count'], train_pred_count)\n",
    "valid_score = rmsle(valid_y.loc[:, 'count'], valid_pred_count)\n",
    "\n",
    "sc = pd.DataFrame([['2-1', 'windspeed == 0 -> drop', train_score, valid_score, None]], columns=scores_cols)\n",
    "if sc.values[0][0] not in scores.values:\n",
    "    scores = pd.concat([scores, sc], axis=0, ignore_index=True)\n",
    "print(scores)"
   ]
  },
  {
   "attachments": {},
   "cell_type": "markdown",
   "metadata": {},
   "source": [
    "### 仮説 2-2\n",
    "風速 0 を平均値に置き換え"
   ]
  },
  {
   "cell_type": "code",
   "execution_count": 16,
   "metadata": {},
   "outputs": [
    {
     "name": "stdout",
     "output_type": "stream",
     "text": [
      "  conditions            descriptions     train     valid submissions\n",
      "0      First                          0.158527  0.352344        None\n",
      "1        0-1         Hparam Tuning 1  0.283048  0.362909     0.48367\n",
      "2        0-2         Hparam Tuning 2  0.195116  0.354192        None\n",
      "3          1           split obj var  0.164491  0.347886        None\n",
      "4        2-1  windspeed == 0 -> drop  0.201615  0.349233        None\n",
      "5        2-2  windspeed == 0 -> mean  0.164706  0.348899        None\n"
     ]
    }
   ],
   "source": [
    "train_X_2 = train_X.copy()\n",
    "train_X_2.loc[train_X_2.loc[:, 'windspeed'] == 0, 'windspeed'] = train.loc[train.loc[:, 'windspeed'] != 0, 'windspeed'].mean()\n",
    "\n",
    "model_registered = RFR(random_state=0, max_depth=20, min_samples_split=3, n_estimators=700, n_jobs=-1)\n",
    "model_registered.fit(train_X_2, train_y.loc[:, 'registered'])\n",
    "\n",
    "model_casual = RFR(random_state=0, max_depth=20, min_samples_split=3, n_estimators=700, n_jobs=-1)\n",
    "model_casual.fit(train_X_2, train_y.loc[:, 'casual'])\n",
    "\n",
    "train_pred_registered = model_registered.predict(train_X_2)\n",
    "train_pred_casual = model_casual.predict(train_X_2)\n",
    "train_pred_count = train_pred_registered + train_pred_casual\n",
    "\n",
    "valid_pred_registered = model_registered.predict(valid_X)\n",
    "valid_pred_casual = model_casual.predict(valid_X)\n",
    "valid_pred_count = valid_pred_registered + valid_pred_casual\n",
    "\n",
    "train_score = rmsle(train_y.loc[:, 'count'], train_pred_count)\n",
    "valid_score = rmsle(valid_y.loc[:, 'count'], valid_pred_count)\n",
    "\n",
    "sc = pd.DataFrame([['2-2', 'windspeed == 0 -> mean', train_score, valid_score, None]], columns=scores_cols)\n",
    "if sc.values[0][0] not in scores.values:\n",
    "    scores = pd.concat([scores, sc], axis=0, ignore_index=True)\n",
    "print(scores)"
   ]
  },
  {
   "attachments": {},
   "cell_type": "markdown",
   "metadata": {},
   "source": [
    "### 仮説 2-3\n",
    "風速 0 を線形補完"
   ]
  },
  {
   "cell_type": "code",
   "execution_count": 17,
   "metadata": {},
   "outputs": [],
   "source": [
    "train_2 = train.copy()\n",
    "train_2.loc[:, 'datetime'] = pd.to_datetime(train_2.loc[:, 'datetime'])\n",
    "train_2.set_index('datetime', inplace=True)\n",
    "train_2.replace({'windspeed': 0}, np.nan, inplace=True)\n",
    "train_2.interpolate(method='time', inplace=True, limit_direction='both')\n",
    "\n",
    "test_2 = test.copy()\n",
    "test_2.loc[:, 'datetime'] = pd.to_datetime(test_2.loc[:, 'datetime'])\n",
    "test_2.set_index('datetime', inplace=True)\n",
    "test_2.replace({'windspeed': 0}, np.nan, inplace=True)\n",
    "test_2.interpolate(method='time', inplace=True, limit_direction='both')"
   ]
  },
  {
   "cell_type": "code",
   "execution_count": 18,
   "metadata": {},
   "outputs": [],
   "source": [
    "train_X_2, valid_X_2, train_y_2, valid_y_2 = train_test_split(\n",
    "    train_2.drop(columns=['registered', 'casual', 'count']),\n",
    "    train_2.loc[:, ['registered', 'casual', 'count']],\n",
    "    test_size=0.3, random_state=0)"
   ]
  },
  {
   "cell_type": "code",
   "execution_count": 19,
   "metadata": {},
   "outputs": [
    {
     "name": "stdout",
     "output_type": "stream",
     "text": [
      "  conditions                          descriptions     train     valid   \n",
      "0      First                                        0.158527  0.352344  \\\n",
      "1        0-1                       Hparam Tuning 1  0.283048  0.362909   \n",
      "2        0-2                       Hparam Tuning 2  0.195116  0.354192   \n",
      "3          1                         split obj var  0.164491  0.347886   \n",
      "4        2-1                windspeed == 0 -> drop  0.201615  0.349233   \n",
      "5        2-2                windspeed == 0 -> mean  0.164706  0.348899   \n",
      "6        2-3  windspeed == 0 -> linear replacement  0.164512  0.348137   \n",
      "\n",
      "  submissions  \n",
      "0        None  \n",
      "1     0.48367  \n",
      "2        None  \n",
      "3        None  \n",
      "4        None  \n",
      "5        None  \n",
      "6        None  \n"
     ]
    }
   ],
   "source": [
    "model_registered = RFR(random_state=0, max_depth=20, min_samples_split=3, n_estimators=700, n_jobs=-1)\n",
    "model_registered.fit(train_X_2, train_y_2.loc[:, 'registered'])\n",
    "\n",
    "model_casual = RFR(random_state=0, max_depth=20, min_samples_split=3, n_estimators=700, n_jobs=-1)\n",
    "model_casual.fit(train_X_2, train_y_2.loc[:, 'casual'])\n",
    "\n",
    "train_pred_registered = model_registered.predict(train_X_2)\n",
    "train_pred_casual = model_casual.predict(train_X_2)\n",
    "train_pred_count = train_pred_registered + train_pred_casual\n",
    "\n",
    "valid_pred_registered = model_registered.predict(valid_X_2)\n",
    "valid_pred_casual = model_casual.predict(valid_X_2)\n",
    "valid_pred_count = valid_pred_registered + valid_pred_casual\n",
    "\n",
    "train_score = rmsle(train_y_2.loc[:, 'count'], train_pred_count)\n",
    "valid_score = rmsle(valid_y_2.loc[:, 'count'], valid_pred_count)\n",
    "\n",
    "sc = pd.DataFrame([['2-3', 'windspeed == 0 -> linear replacement', train_score, valid_score, None]], columns=scores_cols)\n",
    "if sc.values[0][0] not in scores.values:\n",
    "    scores = pd.concat([scores, sc], axis=0, ignore_index=True)\n",
    "print(scores)"
   ]
  },
  {
   "attachments": {},
   "cell_type": "markdown",
   "metadata": {},
   "source": [
    "## 仮説 3\n",
    "天候 4 を 3 とする．  \n",
    "仮説 1, 仮説 2-3 の手法を用いる．"
   ]
  },
  {
   "cell_type": "code",
   "execution_count": 20,
   "metadata": {},
   "outputs": [
    {
     "name": "stdout",
     "output_type": "stream",
     "text": [
      "1 2\n"
     ]
    }
   ],
   "source": [
    "print(len(train_X_2[train_X_2.weather == 4]), len(test_2[test_2.weather == 4]))"
   ]
  },
  {
   "cell_type": "code",
   "execution_count": 21,
   "metadata": {},
   "outputs": [],
   "source": [
    "train_X_3 = train_X_2.replace({'weather': 4}, 3, inplace=False)\n",
    "test_3 = test_2.replace({'weather': 4}, 3, inplace=False)"
   ]
  },
  {
   "cell_type": "code",
   "execution_count": 22,
   "metadata": {},
   "outputs": [
    {
     "name": "stdout",
     "output_type": "stream",
     "text": [
      "  conditions                          descriptions     train     valid   \n",
      "0      First                                        0.158527  0.352344  \\\n",
      "1        0-1                       Hparam Tuning 1  0.283048  0.362909   \n",
      "2        0-2                       Hparam Tuning 2  0.195116  0.354192   \n",
      "3          1                         split obj var  0.164491  0.347886   \n",
      "4        2-1                windspeed == 0 -> drop  0.201615  0.349233   \n",
      "5        2-2                windspeed == 0 -> mean  0.164706  0.348899   \n",
      "6        2-3  windspeed == 0 -> linear replacement  0.164512  0.348137   \n",
      "7          3                     weather == 4 -> 3  0.164487  0.348088   \n",
      "\n",
      "  submissions  \n",
      "0        None  \n",
      "1     0.48367  \n",
      "2        None  \n",
      "3        None  \n",
      "4        None  \n",
      "5        None  \n",
      "6        None  \n",
      "7        None  \n"
     ]
    }
   ],
   "source": [
    "model_registered = RFR(random_state=0, max_depth=20, min_samples_split=3, n_estimators=700, n_jobs=-1)\n",
    "model_registered.fit(train_X_3, train_y_2.loc[:, 'registered'])\n",
    "\n",
    "model_casual = RFR(random_state=0, max_depth=20, min_samples_split=3, n_estimators=700, n_jobs=-1)\n",
    "model_casual.fit(train_X_3, train_y_2.loc[:, 'casual'])\n",
    "\n",
    "train_pred_registered = model_registered.predict(train_X_3)\n",
    "train_pred_casual = model_casual.predict(train_X_3)\n",
    "train_pred_count = train_pred_registered + train_pred_casual\n",
    "\n",
    "valid_pred_registered = model_registered.predict(valid_X_2)\n",
    "valid_pred_casual = model_casual.predict(valid_X_2)\n",
    "valid_pred_count = valid_pred_registered + valid_pred_casual\n",
    "\n",
    "train_score = rmsle(train_y_2.loc[:, 'count'], train_pred_count)\n",
    "valid_score = rmsle(valid_y_2.loc[:, 'count'], valid_pred_count)\n",
    "\n",
    "sc = pd.DataFrame([['3', 'weather == 4 -> 3', train_score, valid_score, None]], columns=scores_cols)\n",
    "if sc.values[0][0] not in scores.values:\n",
    "    scores = pd.concat([scores, sc], axis=0, ignore_index=True)\n",
    "print(scores)"
   ]
  },
  {
   "attachments": {},
   "cell_type": "markdown",
   "metadata": {},
   "source": [
    "## 仮説 4\n",
    "atemp を使用しない．  \n",
    "仮説 3 の下で行う．"
   ]
  },
  {
   "cell_type": "code",
   "execution_count": 23,
   "metadata": {},
   "outputs": [
    {
     "name": "stdout",
     "output_type": "stream",
     "text": [
      "  conditions                          descriptions     train     valid   \n",
      "0      First                                        0.158527  0.352344  \\\n",
      "1        0-1                       Hparam Tuning 1  0.283048  0.362909   \n",
      "2        0-2                       Hparam Tuning 2  0.195116  0.354192   \n",
      "3          1                         split obj var  0.164491  0.347886   \n",
      "4        2-1                windspeed == 0 -> drop  0.201615  0.349233   \n",
      "5        2-2                windspeed == 0 -> mean  0.164706  0.348899   \n",
      "6        2-3  windspeed == 0 -> linear replacement  0.164512  0.348137   \n",
      "7          3                     weather == 4 -> 3  0.164487  0.348088   \n",
      "8          4                         atemp -> drop  0.165335  0.349203   \n",
      "\n",
      "  submissions  \n",
      "0        None  \n",
      "1     0.48367  \n",
      "2        None  \n",
      "3        None  \n",
      "4        None  \n",
      "5        None  \n",
      "6        None  \n",
      "7        None  \n",
      "8        None  \n"
     ]
    }
   ],
   "source": [
    "model_registered = RFR(random_state=0, max_depth=20, min_samples_split=3, n_estimators=700, n_jobs=-1)\n",
    "model_registered.fit(train_X_3.drop('atemp', axis=1), train_y_2.loc[:, 'registered'])\n",
    "\n",
    "model_casual = RFR(random_state=0, max_depth=20, min_samples_split=3, n_estimators=700, n_jobs=-1)\n",
    "model_casual.fit(train_X_3.drop('atemp', axis=1), train_y_2.loc[:, 'casual'])\n",
    "\n",
    "train_pred_registered = model_registered.predict(train_X_3.drop('atemp', axis=1))\n",
    "train_pred_casual = model_casual.predict(train_X_3.drop('atemp', axis=1))\n",
    "train_pred_count = train_pred_registered + train_pred_casual\n",
    "\n",
    "valid_pred_registered = model_registered.predict(valid_X_2.drop('atemp', axis=1))\n",
    "valid_pred_casual = model_casual.predict(valid_X_2.drop('atemp', axis=1))\n",
    "valid_pred_count = valid_pred_registered + valid_pred_casual\n",
    "\n",
    "train_score = rmsle(train_y_2.loc[:, 'count'], train_pred_count)\n",
    "valid_score = rmsle(valid_y_2.loc[:, 'count'], valid_pred_count)\n",
    "\n",
    "sc = pd.DataFrame([['4', 'atemp -> drop', train_score, valid_score, None]], columns=scores_cols)\n",
    "if sc.values[0][0] not in scores.values:\n",
    "    scores = pd.concat([scores, sc], axis=0, ignore_index=True)\n",
    "print(scores)"
   ]
  },
  {
   "attachments": {},
   "cell_type": "markdown",
   "metadata": {},
   "source": [
    "**仮説 3 の下で submit**"
   ]
  },
  {
   "cell_type": "code",
   "execution_count": 24,
   "metadata": {},
   "outputs": [],
   "source": [
    "model_registered = RFR(random_state=0, max_depth=20, min_samples_split=3, n_estimators=700, n_jobs=-1)\n",
    "model_registered.fit(train_2.drop(['casual', 'registered', 'count'], axis=1), train_2.loc[:, 'registered'])\n",
    "\n",
    "model_casual = RFR(random_state=0, max_depth=20, min_samples_split=3, n_estimators=700, n_jobs=-1)\n",
    "model_casual.fit(train_2.drop(['casual', 'registered', 'count'], axis=1), train_2.loc[:, 'casual'])\n",
    "\n",
    "test_pred_registered = model_registered.predict(test_2)\n",
    "test_pred_casual = model_casual.predict(test_2)\n",
    "test_pred_count = test_pred_registered + test_pred_casual\n",
    "\n",
    "test_submittion = pd.DataFrame({'datetime': test_2.index, 'count': test_pred_count})\n",
    "test_submittion.to_csv('./data/output/submission_rf_3.csv', index=False)"
   ]
  }
 ],
 "metadata": {
  "kernelspec": {
   "display_name": ".venv_bike",
   "language": "python",
   "name": "python3"
  },
  "language_info": {
   "codemirror_mode": {
    "name": "ipython",
    "version": 3
   },
   "file_extension": ".py",
   "mimetype": "text/x-python",
   "name": "python",
   "nbconvert_exporter": "python",
   "pygments_lexer": "ipython3",
   "version": "3.11.2"
  },
  "orig_nbformat": 4
 },
 "nbformat": 4,
 "nbformat_minor": 2
}
