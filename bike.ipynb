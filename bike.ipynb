{
 "cells": [
  {
   "cell_type": "code",
   "execution_count": 1,
   "metadata": {},
   "outputs": [],
   "source": [
    "import numpy as np\n",
    "import pandas as pd\n",
    "import matplotlib.pyplot as plt\n",
    "import seaborn as sns\n",
    "%matplotlib inline\n",
    "from sklearn.model_selection import train_test_split, GridSearchCV\n",
    "from sklearn.ensemble import RandomForestRegressor as RFR\n",
    "from sklearn.preprocessing import StandardScaler\n",
    "\n",
    "train = pd.read_csv('./data/input/train.csv', parse_dates=['datetime'])\n",
    "test = pd.read_csv('./data/input/test.csv', parse_dates=['datetime'])"
   ]
  },
  {
   "cell_type": "code",
   "execution_count": 2,
   "metadata": {},
   "outputs": [],
   "source": [
    "def rmsle(y, y_):\n",
    "    log1 = np.log(y + 1)\n",
    "    log2 = np.log(y_ + 1)\n",
    "    mean = np.square((log1- log2)).mean()\n",
    "    return np.sqrt(mean)"
   ]
  },
  {
   "cell_type": "code",
   "execution_count": 3,
   "metadata": {},
   "outputs": [],
   "source": [
    "scores_cols = ['conditions', 'descriptions', 'train', 'valid', 'submissions']\n",
    "scores = pd.DataFrame(columns=scores_cols)"
   ]
  },
  {
   "attachments": {},
   "cell_type": "markdown",
   "metadata": {},
   "source": [
    "# データ前処理"
   ]
  },
  {
   "attachments": {},
   "cell_type": "markdown",
   "metadata": {},
   "source": [
    "## datetime の処理"
   ]
  },
  {
   "cell_type": "code",
   "execution_count": 4,
   "metadata": {},
   "outputs": [],
   "source": [
    "train['year'] = train.loc[:, 'datetime'].dt.year\n",
    "train['month'] = train.loc[:, 'datetime'].dt.month\n",
    "train['day'] = train.loc[:, 'datetime'].dt.day\n",
    "train['hour'] = train.loc[:, 'datetime'].dt.hour\n",
    "train['weekday'] = train.loc[:, 'datetime'].dt.weekday\n",
    "\n",
    "test['year'] = test.loc[:, 'datetime'].dt.year\n",
    "test['month'] = test.loc[:, 'datetime'].dt.month\n",
    "test['day'] = test.loc[:, 'datetime'].dt.day\n",
    "test['hour'] = test.loc[:, 'datetime'].dt.hour\n",
    "test['weekday'] = test.loc[:, 'datetime'].dt.weekday"
   ]
  },
  {
   "attachments": {},
   "cell_type": "markdown",
   "metadata": {},
   "source": [
    "## 検証用データの作成"
   ]
  },
  {
   "cell_type": "code",
   "execution_count": 5,
   "metadata": {},
   "outputs": [],
   "source": [
    "drop_cols = ['datetime', 'count', 'casual', 'registered']\n",
    "test_use_cols = [col for col in train.columns if col not in drop_cols]\n",
    "\n",
    "train_X, valid_X, train_y, valid_y = train_test_split(\n",
    "    train.drop(columns=drop_cols),\n",
    "    train.loc[:, ['registered', 'casual', 'count']],\n",
    "    test_size=0.3, random_state=0)"
   ]
  },
  {
   "attachments": {},
   "cell_type": "markdown",
   "metadata": {},
   "source": [
    "## RF 実装\n",
    "count を直接予測する．"
   ]
  },
  {
   "cell_type": "code",
   "execution_count": 6,
   "metadata": {},
   "outputs": [
    {
     "name": "stdout",
     "output_type": "stream",
     "text": [
      "  conditions descriptions     train     valid submissions\n",
      "0      First               0.152028  0.339617        None\n"
     ]
    }
   ],
   "source": [
    "model_rf = RFR(random_state=0)\n",
    "model_rf.fit(train_X, train_y.loc[:, 'count'])\n",
    "\n",
    "train_pred = model_rf.predict(train_X)\n",
    "train_score = rmsle(train_y.loc[:, 'count'], train_pred)\n",
    "\n",
    "valid_pred = model_rf.predict(valid_X)\n",
    "valid_score = rmsle(valid_y.loc[:, 'count'], valid_pred)\n",
    "\n",
    "score = pd.DataFrame([['First', '', train_score, valid_score, None]], columns=scores_cols)\n",
    "if score.values[0][0] not in scores.values:\n",
    "    scores = pd.concat([scores, score], axis=0)\n",
    "print(scores)"
   ]
  },
  {
   "attachments": {},
   "cell_type": "markdown",
   "metadata": {},
   "source": [
    "### Highper parameter Tuning 1"
   ]
  },
  {
   "cell_type": "code",
   "execution_count": 7,
   "metadata": {},
   "outputs": [],
   "source": [
    "# RF GridSearchCV\n",
    "if False:\n",
    "    params = [{\n",
    "        'n_estimators': [20, 30],\n",
    "        'max_depth': [15, 40],\n",
    "        'min_samples_leaf': [1],\n",
    "        'max_features': ['sqrt', 'log2','auto', None]\n",
    "    }]\n",
    "\n",
    "    gscv = GridSearchCV(\n",
    "        RFR(random_state=0, n_jobs=-1),\n",
    "        param_grid=params,\n",
    "        cv=5,\n",
    "        verbose=2\n",
    "        )\n",
    "\n",
    "    gscv.fit(train_X, train_y.loc[:, 'count'])"
   ]
  },
  {
   "cell_type": "code",
   "execution_count": 8,
   "metadata": {},
   "outputs": [],
   "source": [
    "# RF GridSearchCV check params\n",
    "if False:\n",
    "    model_rf_best = gscv.best_estimator_\n",
    "    train_pred = model_rf_best.predict(train_X)\n",
    "    train_score = rmsle(train_y.loc[:, 'count'], train_pred)\n",
    "\n",
    "    valid_pred = model_rf_best.predict(valid_X)\n",
    "    valid_score = rmsle(valid_y.loc[:, 'count'], valid_pred)\n",
    "\n",
    "    print('train_score: {}, valid_score: {}'.format(train_score, valid_score))\n",
    "\n",
    "    print(pd.DataFrame(gscv.cv_results_).sort_values('rank_test_score').loc[:, ['params', 'mean_test_score']].head(3).values)"
   ]
  },
  {
   "cell_type": "code",
   "execution_count": 9,
   "metadata": {},
   "outputs": [
    {
     "name": "stdout",
     "output_type": "stream",
     "text": [
      "  conditions     descriptions     train     valid submissions\n",
      "0      First                   0.152028  0.339617        None\n",
      "1        0-1  Hparam Tuning 1  0.270274  0.351236        None\n"
     ]
    }
   ],
   "source": [
    "model_rf_best = RFR(random_state=0, max_depth=20, min_samples_leaf=5, n_estimators=200)\n",
    "model_rf_best.fit(train_X, train_y.loc[:, 'count'])\n",
    "\n",
    "train_pred = model_rf_best.predict(train_X)\n",
    "train_score = rmsle(train_y.loc[:, 'count'], train_pred)\n",
    "\n",
    "test_pred = model_rf_best.predict(valid_X)\n",
    "test_score = rmsle(valid_y.loc[:, 'count'], test_pred)\n",
    "\n",
    "sc = pd.DataFrame([['0-1', 'Hparam Tuning 1', train_score, test_score, None]], columns=scores_cols)\n",
    "if sc.values[0][0] not in scores.values:\n",
    "    scores = pd.concat([scores, sc], axis=0, ignore_index=True)\n",
    "print(scores)"
   ]
  },
  {
   "cell_type": "code",
   "execution_count": 10,
   "metadata": {},
   "outputs": [],
   "source": [
    "# submission\n",
    "if False:\n",
    "    model_rf_test = RFR(random_state=0, max_depth=20, min_samples_leaf=5, n_estimators=200)\n",
    "    model_rf_test.fit(train.drop(columns=drop_cols), train.loc[:, 'count'])\n",
    "\n",
    "    pred = model_rf_test.predict(test.loc[:, test_use_cols])\n",
    "    df_submit = pd.DataFrame({'datetime': test.datetime, 'count': pred})\n",
    "    df_submit.to_csv('./data/output/submittion_RFR.csv', index=False)"
   ]
  },
  {
   "cell_type": "code",
   "execution_count": 11,
   "metadata": {},
   "outputs": [
    {
     "name": "stdout",
     "output_type": "stream",
     "text": [
      "  conditions     descriptions     train     valid submissions\n",
      "0      First                   0.152028  0.339617        None\n",
      "1        0-1  Hparam Tuning 1  0.270274  0.351236     0.48367\n"
     ]
    }
   ],
   "source": [
    "scores.loc[scores['conditions'] == '0-1', 'submissions'] = 0.48367\n",
    "print(scores)"
   ]
  },
  {
   "attachments": {},
   "cell_type": "markdown",
   "metadata": {},
   "source": [
    "### Highper parameter Tuning 2"
   ]
  },
  {
   "cell_type": "code",
   "execution_count": 12,
   "metadata": {},
   "outputs": [
    {
     "name": "stdout",
     "output_type": "stream",
     "text": [
      "  conditions     descriptions     train     valid submissions\n",
      "0      First                   0.152028  0.339617        None\n",
      "1        0-1  Hparam Tuning 1  0.270274  0.351236     0.48367\n",
      "2        0-2  Hparam Tuning 2  0.186266  0.339103        None\n"
     ]
    }
   ],
   "source": [
    "model_rf = RFR(random_state=0, max_depth=20, min_samples_split=5, n_estimators=700, n_jobs=-1)\n",
    "model_rf.fit(train_X, train_y.loc[:, 'count'])\n",
    "\n",
    "train_pred = model_rf.predict(train_X)\n",
    "train_score = rmsle(train_y.loc[:, 'count'], train_pred)\n",
    "\n",
    "test_pred = model_rf.predict(valid_X)\n",
    "test_score = rmsle(valid_y.loc[:, 'count'], test_pred)\n",
    "\n",
    "sc = pd.DataFrame([['0-2', 'Hparam Tuning 2', train_score, test_score, None]], columns=scores_cols)\n",
    "if sc.values[0][0] not in scores.values:\n",
    "    scores = pd.concat([scores, sc], axis=0, ignore_index=True)\n",
    "print(scores)"
   ]
  },
  {
   "attachments": {},
   "cell_type": "markdown",
   "metadata": {},
   "source": [
    "## 仮説検証"
   ]
  },
  {
   "attachments": {},
   "cell_type": "markdown",
   "metadata": {},
   "source": [
    "### 仮説 1\n",
    "count を registered と casual の和として予測する．"
   ]
  },
  {
   "cell_type": "code",
   "execution_count": 13,
   "metadata": {},
   "outputs": [
    {
     "data": {
      "text/html": [
       "<style>#sk-container-id-1 {color: black;background-color: white;}#sk-container-id-1 pre{padding: 0;}#sk-container-id-1 div.sk-toggleable {background-color: white;}#sk-container-id-1 label.sk-toggleable__label {cursor: pointer;display: block;width: 100%;margin-bottom: 0;padding: 0.3em;box-sizing: border-box;text-align: center;}#sk-container-id-1 label.sk-toggleable__label-arrow:before {content: \"▸\";float: left;margin-right: 0.25em;color: #696969;}#sk-container-id-1 label.sk-toggleable__label-arrow:hover:before {color: black;}#sk-container-id-1 div.sk-estimator:hover label.sk-toggleable__label-arrow:before {color: black;}#sk-container-id-1 div.sk-toggleable__content {max-height: 0;max-width: 0;overflow: hidden;text-align: left;background-color: #f0f8ff;}#sk-container-id-1 div.sk-toggleable__content pre {margin: 0.2em;color: black;border-radius: 0.25em;background-color: #f0f8ff;}#sk-container-id-1 input.sk-toggleable__control:checked~div.sk-toggleable__content {max-height: 200px;max-width: 100%;overflow: auto;}#sk-container-id-1 input.sk-toggleable__control:checked~label.sk-toggleable__label-arrow:before {content: \"▾\";}#sk-container-id-1 div.sk-estimator input.sk-toggleable__control:checked~label.sk-toggleable__label {background-color: #d4ebff;}#sk-container-id-1 div.sk-label input.sk-toggleable__control:checked~label.sk-toggleable__label {background-color: #d4ebff;}#sk-container-id-1 input.sk-hidden--visually {border: 0;clip: rect(1px 1px 1px 1px);clip: rect(1px, 1px, 1px, 1px);height: 1px;margin: -1px;overflow: hidden;padding: 0;position: absolute;width: 1px;}#sk-container-id-1 div.sk-estimator {font-family: monospace;background-color: #f0f8ff;border: 1px dotted black;border-radius: 0.25em;box-sizing: border-box;margin-bottom: 0.5em;}#sk-container-id-1 div.sk-estimator:hover {background-color: #d4ebff;}#sk-container-id-1 div.sk-parallel-item::after {content: \"\";width: 100%;border-bottom: 1px solid gray;flex-grow: 1;}#sk-container-id-1 div.sk-label:hover label.sk-toggleable__label {background-color: #d4ebff;}#sk-container-id-1 div.sk-serial::before {content: \"\";position: absolute;border-left: 1px solid gray;box-sizing: border-box;top: 0;bottom: 0;left: 50%;z-index: 0;}#sk-container-id-1 div.sk-serial {display: flex;flex-direction: column;align-items: center;background-color: white;padding-right: 0.2em;padding-left: 0.2em;position: relative;}#sk-container-id-1 div.sk-item {position: relative;z-index: 1;}#sk-container-id-1 div.sk-parallel {display: flex;align-items: stretch;justify-content: center;background-color: white;position: relative;}#sk-container-id-1 div.sk-item::before, #sk-container-id-1 div.sk-parallel-item::before {content: \"\";position: absolute;border-left: 1px solid gray;box-sizing: border-box;top: 0;bottom: 0;left: 50%;z-index: -1;}#sk-container-id-1 div.sk-parallel-item {display: flex;flex-direction: column;z-index: 1;position: relative;background-color: white;}#sk-container-id-1 div.sk-parallel-item:first-child::after {align-self: flex-end;width: 50%;}#sk-container-id-1 div.sk-parallel-item:last-child::after {align-self: flex-start;width: 50%;}#sk-container-id-1 div.sk-parallel-item:only-child::after {width: 0;}#sk-container-id-1 div.sk-dashed-wrapped {border: 1px dashed gray;margin: 0 0.4em 0.5em 0.4em;box-sizing: border-box;padding-bottom: 0.4em;background-color: white;}#sk-container-id-1 div.sk-label label {font-family: monospace;font-weight: bold;display: inline-block;line-height: 1.2em;}#sk-container-id-1 div.sk-label-container {text-align: center;}#sk-container-id-1 div.sk-container {/* jupyter's `normalize.less` sets `[hidden] { display: none; }` but bootstrap.min.css set `[hidden] { display: none !important; }` so we also need the `!important` here to be able to override the default hidden behavior on the sphinx rendered scikit-learn.org. See: https://github.com/scikit-learn/scikit-learn/issues/21755 */display: inline-block !important;position: relative;}#sk-container-id-1 div.sk-text-repr-fallback {display: none;}</style><div id=\"sk-container-id-1\" class=\"sk-top-container\"><div class=\"sk-text-repr-fallback\"><pre>RandomForestRegressor(max_depth=20, min_samples_split=3, n_estimators=700,\n",
       "                      n_jobs=-1, random_state=0)</pre><b>In a Jupyter environment, please rerun this cell to show the HTML representation or trust the notebook. <br />On GitHub, the HTML representation is unable to render, please try loading this page with nbviewer.org.</b></div><div class=\"sk-container\" hidden><div class=\"sk-item\"><div class=\"sk-estimator sk-toggleable\"><input class=\"sk-toggleable__control sk-hidden--visually\" id=\"sk-estimator-id-1\" type=\"checkbox\" checked><label for=\"sk-estimator-id-1\" class=\"sk-toggleable__label sk-toggleable__label-arrow\">RandomForestRegressor</label><div class=\"sk-toggleable__content\"><pre>RandomForestRegressor(max_depth=20, min_samples_split=3, n_estimators=700,\n",
       "                      n_jobs=-1, random_state=0)</pre></div></div></div></div></div>"
      ],
      "text/plain": [
       "RandomForestRegressor(max_depth=20, min_samples_split=3, n_estimators=700,\n",
       "                      n_jobs=-1, random_state=0)"
      ]
     },
     "execution_count": 13,
     "metadata": {},
     "output_type": "execute_result"
    }
   ],
   "source": [
    "rf_1_registered = RFR(random_state=0, max_depth=20, min_samples_split=3, n_estimators=700, n_jobs=-1)\n",
    "rf_1_registered.fit(train_X, train_y.loc[:, 'registered'])\n",
    "\n",
    "rf_1_casual = RFR(random_state=0, max_depth=20, min_samples_split=3, n_estimators=700, n_jobs=-1)\n",
    "rf_1_casual.fit(train_X, train_y.loc[:, 'casual'])"
   ]
  },
  {
   "cell_type": "code",
   "execution_count": 14,
   "metadata": {},
   "outputs": [
    {
     "name": "stdout",
     "output_type": "stream",
     "text": [
      "  conditions     descriptions     train     valid submissions\n",
      "0      First                   0.152028  0.339617        None\n",
      "1        0-1  Hparam Tuning 1  0.270274  0.351236     0.48367\n",
      "2        0-2  Hparam Tuning 2  0.186266  0.339103        None\n",
      "3          1    split obj var  0.156426  0.328699        None\n"
     ]
    }
   ],
   "source": [
    "train_pred_registered = rf_1_registered.predict(train_X)\n",
    "train_pred_casual = rf_1_casual.predict(train_X)\n",
    "train_pred_count = train_pred_registered + train_pred_casual\n",
    "\n",
    "valid_pred_registered = rf_1_registered.predict(valid_X)\n",
    "valid_pred_casual = rf_1_casual.predict(valid_X)\n",
    "valid_pred_count = valid_pred_registered + valid_pred_casual\n",
    "\n",
    "train_score = rmsle(train_y.loc[:, 'count'], train_pred_count)\n",
    "valid_score = rmsle(valid_y.loc[:, 'count'], valid_pred_count)\n",
    "\n",
    "sc = pd.DataFrame([['1', 'split obj var', train_score, valid_score, None]], columns=scores_cols)\n",
    "if sc.values[0][0] not in scores.values:\n",
    "    scores = pd.concat([scores, sc], axis=0, ignore_index=True)\n",
    "print(scores)"
   ]
  },
  {
   "attachments": {},
   "cell_type": "markdown",
   "metadata": {},
   "source": [
    "**仮説 1 の下で submit**"
   ]
  },
  {
   "cell_type": "code",
   "execution_count": 15,
   "metadata": {},
   "outputs": [],
   "source": [
    "model_registered = RFR(random_state=0, max_depth=20, min_samples_split=3, n_estimators=700, n_jobs=-1)\n",
    "model_registered.fit(train.drop(drop_cols, axis=1), train.loc[:, 'registered'])\n",
    "\n",
    "model_casual = RFR(random_state=0, max_depth=20, min_samples_split=3, n_estimators=700, n_jobs=-1)\n",
    "model_casual.fit(train.drop(drop_cols, axis=1), train.loc[:, 'casual'])\n",
    "\n",
    "pred_registered = model_registered.predict(test.loc[:, test_use_cols])\n",
    "pred_casual = model_casual.predict(test.loc[:, test_use_cols])\n",
    "pred_count = pred_registered + pred_casual\n",
    "\n",
    "df_submit = pd.DataFrame({'datetime': test.datetime, 'count': pred_count})\n",
    "df_submit.to_csv('./data/output/submission_rf_1.csv', index=False)"
   ]
  },
  {
   "attachments": {},
   "cell_type": "markdown",
   "metadata": {},
   "source": [
    "### 仮説 2-1\n",
    "風速 0 を削除"
   ]
  },
  {
   "cell_type": "code",
   "execution_count": 16,
   "metadata": {},
   "outputs": [
    {
     "name": "stdout",
     "output_type": "stream",
     "text": [
      "  conditions            descriptions     train     valid submissions\n",
      "0      First                          0.152028  0.339617        None\n",
      "1        0-1         Hparam Tuning 1  0.270274  0.351236     0.48367\n",
      "2        0-2         Hparam Tuning 2  0.186266  0.339103        None\n",
      "3          1           split obj var  0.156426  0.328699        None\n",
      "4        2-1  windspeed == 0 -> drop  0.190929  0.333091        None\n"
     ]
    }
   ],
   "source": [
    "model_registered = RFR(random_state=0, max_depth=20, min_samples_split=3, n_estimators=700, n_jobs=-1)\n",
    "model_registered.fit(train_X.loc[train_X.loc[:, 'windspeed'] != 0, :], train_y.loc[train_X.loc[:, 'windspeed'] != 0, 'registered'])\n",
    "\n",
    "model_casual = RFR(random_state=0, max_depth=20, min_samples_split=3, n_estimators=700, n_jobs=-1)\n",
    "model_casual.fit(train_X.loc[train_X.loc[:, 'windspeed'] != 0, :], train_y.loc[train_X.loc[:, 'windspeed'] != 0, 'casual'])\n",
    "\n",
    "train_pred_registered = model_registered.predict(train_X)\n",
    "train_pred_casual = model_casual.predict(train_X)\n",
    "train_pred_count = train_pred_registered + train_pred_casual\n",
    "\n",
    "valid_pred_registered = model_registered.predict(valid_X)\n",
    "valid_pred_casual = model_casual.predict(valid_X)\n",
    "valid_pred_count = valid_pred_registered + valid_pred_casual\n",
    "\n",
    "train_score = rmsle(train_y.loc[:, 'count'], train_pred_count)\n",
    "valid_score = rmsle(valid_y.loc[:, 'count'], valid_pred_count)\n",
    "\n",
    "sc = pd.DataFrame([['2-1', 'windspeed == 0 -> drop', train_score, valid_score, None]], columns=scores_cols)\n",
    "if sc.values[0][0] not in scores.values:\n",
    "    scores = pd.concat([scores, sc], axis=0, ignore_index=True)\n",
    "print(scores)"
   ]
  },
  {
   "attachments": {},
   "cell_type": "markdown",
   "metadata": {},
   "source": [
    "### 仮説 2-2\n",
    "風速 0 を平均値に置き換え"
   ]
  },
  {
   "cell_type": "code",
   "execution_count": 17,
   "metadata": {},
   "outputs": [
    {
     "name": "stdout",
     "output_type": "stream",
     "text": [
      "  conditions            descriptions     train     valid submissions\n",
      "0      First                          0.152028  0.339617        None\n",
      "1        0-1         Hparam Tuning 1  0.270274  0.351236     0.48367\n",
      "2        0-2         Hparam Tuning 2  0.186266  0.339103        None\n",
      "3          1           split obj var  0.156426  0.328699        None\n",
      "4        2-1  windspeed == 0 -> drop  0.190929  0.333091        None\n",
      "5        2-2  windspeed == 0 -> mean  0.156678  0.329988        None\n"
     ]
    }
   ],
   "source": [
    "train_X_2 = train_X.copy()\n",
    "train_X_2.loc[train_X_2.loc[:, 'windspeed'] == 0, 'windspeed'] = train.loc[train.loc[:, 'windspeed'] != 0, 'windspeed'].mean()\n",
    "\n",
    "model_registered = RFR(random_state=0, max_depth=20, min_samples_split=3, n_estimators=700, n_jobs=-1)\n",
    "model_registered.fit(train_X_2, train_y.loc[:, 'registered'])\n",
    "\n",
    "model_casual = RFR(random_state=0, max_depth=20, min_samples_split=3, n_estimators=700, n_jobs=-1)\n",
    "model_casual.fit(train_X_2, train_y.loc[:, 'casual'])\n",
    "\n",
    "train_pred_registered = model_registered.predict(train_X_2)\n",
    "train_pred_casual = model_casual.predict(train_X_2)\n",
    "train_pred_count = train_pred_registered + train_pred_casual\n",
    "\n",
    "valid_pred_registered = model_registered.predict(valid_X)\n",
    "valid_pred_casual = model_casual.predict(valid_X)\n",
    "valid_pred_count = valid_pred_registered + valid_pred_casual\n",
    "\n",
    "train_score = rmsle(train_y.loc[:, 'count'], train_pred_count)\n",
    "valid_score = rmsle(valid_y.loc[:, 'count'], valid_pred_count)\n",
    "\n",
    "sc = pd.DataFrame([['2-2', 'windspeed == 0 -> mean', train_score, valid_score, None]], columns=scores_cols)\n",
    "if sc.values[0][0] not in scores.values:\n",
    "    scores = pd.concat([scores, sc], axis=0, ignore_index=True)\n",
    "print(scores)"
   ]
  },
  {
   "attachments": {},
   "cell_type": "markdown",
   "metadata": {},
   "source": [
    "### 仮説 2-3\n",
    "風速 0 を線形補完"
   ]
  },
  {
   "cell_type": "code",
   "execution_count": 18,
   "metadata": {},
   "outputs": [],
   "source": [
    "train_2 = train.copy()\n",
    "train_2.loc[:, 'datetime'] = pd.to_datetime(train_2.loc[:, 'datetime'])\n",
    "train_2.set_index('datetime', inplace=True)\n",
    "train_2.replace({'windspeed': 0}, np.nan, inplace=True)\n",
    "train_2.interpolate(method='time', inplace=True, limit_direction='both')\n",
    "\n",
    "test_2 = test.copy()\n",
    "test_2.loc[:, 'datetime'] = pd.to_datetime(test_2.loc[:, 'datetime'])\n",
    "test_2.set_index('datetime', inplace=True)\n",
    "test_2.replace({'windspeed': 0}, np.nan, inplace=True)\n",
    "test_2.interpolate(method='time', inplace=True, limit_direction='both')"
   ]
  },
  {
   "cell_type": "code",
   "execution_count": 19,
   "metadata": {},
   "outputs": [],
   "source": [
    "train_X_2, valid_X_2, train_y_2, valid_y_2 = train_test_split(\n",
    "    train_2.drop(columns=['registered', 'casual', 'count']),\n",
    "    train_2.loc[:, ['registered', 'casual', 'count']],\n",
    "    test_size=0.3, random_state=0)"
   ]
  },
  {
   "cell_type": "code",
   "execution_count": 20,
   "metadata": {},
   "outputs": [
    {
     "name": "stdout",
     "output_type": "stream",
     "text": [
      "  conditions                          descriptions     train     valid   \n",
      "0      First                                        0.152028  0.339617  \\\n",
      "1        0-1                       Hparam Tuning 1  0.270274  0.351236   \n",
      "2        0-2                       Hparam Tuning 2  0.186266  0.339103   \n",
      "3          1                         split obj var  0.156426  0.328699   \n",
      "4        2-1                windspeed == 0 -> drop  0.190929  0.333091   \n",
      "5        2-2                windspeed == 0 -> mean  0.156678  0.329988   \n",
      "6        2-3  windspeed == 0 -> linear replacement  0.156353  0.329178   \n",
      "\n",
      "  submissions  \n",
      "0        None  \n",
      "1     0.48367  \n",
      "2        None  \n",
      "3        None  \n",
      "4        None  \n",
      "5        None  \n",
      "6        None  \n"
     ]
    }
   ],
   "source": [
    "model_registered = RFR(random_state=0, max_depth=20, min_samples_split=3, n_estimators=700, n_jobs=-1)\n",
    "model_registered.fit(train_X_2, train_y_2.loc[:, 'registered'])\n",
    "\n",
    "model_casual = RFR(random_state=0, max_depth=20, min_samples_split=3, n_estimators=700, n_jobs=-1)\n",
    "model_casual.fit(train_X_2, train_y_2.loc[:, 'casual'])\n",
    "\n",
    "train_pred_registered = model_registered.predict(train_X_2)\n",
    "train_pred_casual = model_casual.predict(train_X_2)\n",
    "train_pred_count = train_pred_registered + train_pred_casual\n",
    "\n",
    "valid_pred_registered = model_registered.predict(valid_X_2)\n",
    "valid_pred_casual = model_casual.predict(valid_X_2)\n",
    "valid_pred_count = valid_pred_registered + valid_pred_casual\n",
    "\n",
    "train_score = rmsle(train_y_2.loc[:, 'count'], train_pred_count)\n",
    "valid_score = rmsle(valid_y_2.loc[:, 'count'], valid_pred_count)\n",
    "\n",
    "sc = pd.DataFrame([['2-3', 'windspeed == 0 -> linear replacement', train_score, valid_score, None]], columns=scores_cols)\n",
    "if sc.values[0][0] not in scores.values:\n",
    "    scores = pd.concat([scores, sc], axis=0, ignore_index=True)\n",
    "print(scores)"
   ]
  },
  {
   "attachments": {},
   "cell_type": "markdown",
   "metadata": {},
   "source": [
    "### 仮説 3\n",
    "天候 4 を 3 とする．  \n",
    "仮説 1, 仮説 2-3 の手法を用いる．"
   ]
  },
  {
   "cell_type": "code",
   "execution_count": 21,
   "metadata": {},
   "outputs": [
    {
     "name": "stdout",
     "output_type": "stream",
     "text": [
      "1 2\n"
     ]
    }
   ],
   "source": [
    "print(len(train_X_2[train_X_2.weather == 4]), len(test_2[test_2.weather == 4]))"
   ]
  },
  {
   "cell_type": "code",
   "execution_count": 22,
   "metadata": {},
   "outputs": [],
   "source": [
    "train_X_3 = train_X_2.replace({'weather': 4}, 3, inplace=False)\n",
    "test_3 = test_2.replace({'weather': 4}, 3, inplace=False)"
   ]
  },
  {
   "cell_type": "code",
   "execution_count": 23,
   "metadata": {},
   "outputs": [
    {
     "name": "stdout",
     "output_type": "stream",
     "text": [
      "  conditions                          descriptions     train     valid   \n",
      "0      First                                        0.152028  0.339617  \\\n",
      "1        0-1                       Hparam Tuning 1  0.270274  0.351236   \n",
      "2        0-2                       Hparam Tuning 2  0.186266  0.339103   \n",
      "3          1                         split obj var  0.156426  0.328699   \n",
      "4        2-1                windspeed == 0 -> drop  0.190929  0.333091   \n",
      "5        2-2                windspeed == 0 -> mean  0.156678  0.329988   \n",
      "6        2-3  windspeed == 0 -> linear replacement  0.156353  0.329178   \n",
      "7          3                     weather == 4 -> 3  0.156367  0.329180   \n",
      "\n",
      "  submissions  \n",
      "0        None  \n",
      "1     0.48367  \n",
      "2        None  \n",
      "3        None  \n",
      "4        None  \n",
      "5        None  \n",
      "6        None  \n",
      "7        None  \n"
     ]
    }
   ],
   "source": [
    "model_registered = RFR(random_state=0, max_depth=20, min_samples_split=3, n_estimators=700, n_jobs=-1)\n",
    "model_registered.fit(train_X_3, train_y_2.loc[:, 'registered'])\n",
    "\n",
    "model_casual = RFR(random_state=0, max_depth=20, min_samples_split=3, n_estimators=700, n_jobs=-1)\n",
    "model_casual.fit(train_X_3, train_y_2.loc[:, 'casual'])\n",
    "\n",
    "train_pred_registered = model_registered.predict(train_X_3)\n",
    "train_pred_casual = model_casual.predict(train_X_3)\n",
    "train_pred_count = train_pred_registered + train_pred_casual\n",
    "\n",
    "valid_pred_registered = model_registered.predict(valid_X_2)\n",
    "valid_pred_casual = model_casual.predict(valid_X_2)\n",
    "valid_pred_count = valid_pred_registered + valid_pred_casual\n",
    "\n",
    "train_score = rmsle(train_y_2.loc[:, 'count'], train_pred_count)\n",
    "valid_score = rmsle(valid_y_2.loc[:, 'count'], valid_pred_count)\n",
    "\n",
    "sc = pd.DataFrame([['3', 'weather == 4 -> 3', train_score, valid_score, None]], columns=scores_cols)\n",
    "if sc.values[0][0] not in scores.values:\n",
    "    scores = pd.concat([scores, sc], axis=0, ignore_index=True)\n",
    "print(scores)"
   ]
  },
  {
   "attachments": {},
   "cell_type": "markdown",
   "metadata": {},
   "source": [
    "### 仮説 4\n",
    "atemp を使用しない．  \n",
    "仮説 3 の下で行う．"
   ]
  },
  {
   "cell_type": "code",
   "execution_count": 24,
   "metadata": {},
   "outputs": [
    {
     "name": "stdout",
     "output_type": "stream",
     "text": [
      "  conditions                          descriptions     train     valid   \n",
      "0      First                                        0.152028  0.339617  \\\n",
      "1        0-1                       Hparam Tuning 1  0.270274  0.351236   \n",
      "2        0-2                       Hparam Tuning 2  0.186266  0.339103   \n",
      "3          1                         split obj var  0.156426  0.328699   \n",
      "4        2-1                windspeed == 0 -> drop  0.190929  0.333091   \n",
      "5        2-2                windspeed == 0 -> mean  0.156678  0.329988   \n",
      "6        2-3  windspeed == 0 -> linear replacement  0.156353  0.329178   \n",
      "7          3                     weather == 4 -> 3  0.156367  0.329180   \n",
      "8          4                         atemp -> drop  0.156701  0.330585   \n",
      "\n",
      "  submissions  \n",
      "0        None  \n",
      "1     0.48367  \n",
      "2        None  \n",
      "3        None  \n",
      "4        None  \n",
      "5        None  \n",
      "6        None  \n",
      "7        None  \n",
      "8        None  \n"
     ]
    }
   ],
   "source": [
    "model_registered = RFR(random_state=0, max_depth=20, min_samples_split=3, n_estimators=700, n_jobs=-1)\n",
    "model_registered.fit(train_X_3.drop('atemp', axis=1), train_y_2.loc[:, 'registered'])\n",
    "\n",
    "model_casual = RFR(random_state=0, max_depth=20, min_samples_split=3, n_estimators=700, n_jobs=-1)\n",
    "model_casual.fit(train_X_3.drop('atemp', axis=1), train_y_2.loc[:, 'casual'])\n",
    "\n",
    "train_pred_registered = model_registered.predict(train_X_3.drop('atemp', axis=1))\n",
    "train_pred_casual = model_casual.predict(train_X_3.drop('atemp', axis=1))\n",
    "train_pred_count = train_pred_registered + train_pred_casual\n",
    "\n",
    "valid_pred_registered = model_registered.predict(valid_X_2.drop('atemp', axis=1))\n",
    "valid_pred_casual = model_casual.predict(valid_X_2.drop('atemp', axis=1))\n",
    "valid_pred_count = valid_pred_registered + valid_pred_casual\n",
    "\n",
    "train_score = rmsle(train_y_2.loc[:, 'count'], train_pred_count)\n",
    "valid_score = rmsle(valid_y_2.loc[:, 'count'], valid_pred_count)\n",
    "\n",
    "sc = pd.DataFrame([['4', 'atemp -> drop', train_score, valid_score, None]], columns=scores_cols)\n",
    "if sc.values[0][0] not in scores.values:\n",
    "    scores = pd.concat([scores, sc], axis=0, ignore_index=True)\n",
    "print(scores)"
   ]
  },
  {
   "attachments": {},
   "cell_type": "markdown",
   "metadata": {},
   "source": [
    "**仮説 3 の下で submit**"
   ]
  },
  {
   "cell_type": "code",
   "execution_count": 25,
   "metadata": {},
   "outputs": [],
   "source": [
    "if False:\n",
    "    model_registered = RFR(random_state=0, max_depth=20, min_samples_split=3, n_estimators=700, n_jobs=-1)\n",
    "    model_registered.fit(train_2.drop(['casual', 'registered', 'count'], axis=1), train_2.loc[:, 'registered'])\n",
    "\n",
    "    model_casual = RFR(random_state=0, max_depth=20, min_samples_split=3, n_estimators=700, n_jobs=-1)\n",
    "    model_casual.fit(train_2.drop(['casual', 'registered', 'count'], axis=1), train_2.loc[:, 'casual'])\n",
    "\n",
    "    test_pred_registered = model_registered.predict(test_2)\n",
    "    test_pred_casual = model_casual.predict(test_2)\n",
    "    test_pred_count = test_pred_registered + test_pred_casual\n",
    "\n",
    "    test_submittion = pd.DataFrame({'datetime': test_2.index, 'count': test_pred_count})\n",
    "    test_submittion.to_csv('./data/output/submission_rf_3.csv', index=False)"
   ]
  },
  {
   "attachments": {},
   "cell_type": "markdown",
   "metadata": {},
   "source": [
    "### 仮説 5\n",
    "目的変数を対数変換する．  \n",
    "仮説 3 の下で行う．"
   ]
  },
  {
   "cell_type": "code",
   "execution_count": 26,
   "metadata": {},
   "outputs": [
    {
     "name": "stdout",
     "output_type": "stream",
     "text": [
      "  conditions                          descriptions     train     valid   \n",
      "0      First                                        0.152028  0.339617  \\\n",
      "1        0-1                       Hparam Tuning 1  0.270274  0.351236   \n",
      "2        0-2                       Hparam Tuning 2  0.186266  0.339103   \n",
      "3          1                         split obj var  0.156426  0.328699   \n",
      "4        2-1                windspeed == 0 -> drop  0.190929  0.333091   \n",
      "5        2-2                windspeed == 0 -> mean  0.156678  0.329988   \n",
      "6        2-3  windspeed == 0 -> linear replacement  0.156353  0.329178   \n",
      "7          3                     weather == 4 -> 3  0.156367  0.329180   \n",
      "8          4                         atemp -> drop  0.156701  0.330585   \n",
      "9          5                                   log  0.119066  0.304063   \n",
      "\n",
      "  submissions  \n",
      "0        None  \n",
      "1     0.48367  \n",
      "2        None  \n",
      "3        None  \n",
      "4        None  \n",
      "5        None  \n",
      "6        None  \n",
      "7        None  \n",
      "8        None  \n",
      "9        None  \n"
     ]
    }
   ],
   "source": [
    "train_y_log = np.log1p(train_y.loc[:, ['casual', 'registered']])\n",
    "valid_y_log = np.log1p(valid_y.loc[:, ['casual', 'registered']])\n",
    "\n",
    "model_registered = RFR(random_state=0, max_depth=20, min_samples_split=3, n_estimators=700, n_jobs=-1)\n",
    "model_registered.fit(train_X_3, train_y_log.loc[:, 'registered'])\n",
    "\n",
    "model_casual = RFR(random_state=0, max_depth=20, min_samples_split=3, n_estimators=700, n_jobs=-1)\n",
    "model_casual.fit(train_X_3, train_y_log.loc[:, 'casual'])\n",
    "\n",
    "train_pred_registered = model_registered.predict(train_X_3)\n",
    "train_pred_casual = model_casual.predict(train_X_3)\n",
    "train_pred_count = np.expm1(train_pred_registered) + np.expm1(train_pred_casual)\n",
    "\n",
    "valid_pred_registered = model_registered.predict(valid_X_2)\n",
    "valid_pred_casual = model_casual.predict(valid_X_2)\n",
    "valid_pred_count = np.expm1(valid_pred_registered) + np.expm1(valid_pred_casual)\n",
    "\n",
    "train_score = rmsle(train_y.loc[:, 'count'], train_pred_count)\n",
    "valid_score = rmsle(valid_y.loc[:, 'count'], valid_pred_count)\n",
    "\n",
    "sc = pd.DataFrame([['5', 'log', train_score, valid_score, None]], columns=scores_cols)\n",
    "if sc.values[0][0] not in scores.values:\n",
    "    scores = pd.concat([scores, sc], axis=0, ignore_index=True)\n",
    "print(scores)"
   ]
  },
  {
   "attachments": {},
   "cell_type": "markdown",
   "metadata": {},
   "source": [
    "### 仮説 6\n",
    "連続変数を標準化する．  \n",
    "仮説 5 の下で行う．"
   ]
  },
  {
   "cell_type": "code",
   "execution_count": 27,
   "metadata": {},
   "outputs": [],
   "source": [
    "train_6 = train_2.copy()\n",
    "test_6 = test_2.copy()\n",
    "cols = ['temp', 'atemp', 'humidity', 'windspeed']\n",
    "obj_cols = ['registered', 'casual', 'count', 'casual_log', 'registered_log']\n",
    "\n",
    "scaler = StandardScaler()\n",
    "train_6.loc[:, cols] = scaler.fit_transform(train_6.loc[:, cols])\n",
    "test_6.loc[:, cols] = scaler.transform(test_6.loc[:, cols])\n",
    "\n",
    "train_6['registered_log'] = np.log1p(train_6.loc[:, 'registered'])\n",
    "train_6['casual_log'] = np.log1p(train_6.loc[:, 'casual'])\n",
    "\n",
    "train_X_6, valid_X_6, train_y_6, valid_y_6 = train_test_split(\n",
    "    train_6.drop(obj_cols, axis=1), \n",
    "    train_6.loc[:, obj_cols])"
   ]
  },
  {
   "cell_type": "code",
   "execution_count": 28,
   "metadata": {},
   "outputs": [
    {
     "name": "stdout",
     "output_type": "stream",
     "text": [
      "   conditions                          descriptions     train     valid   \n",
      "0       First                                        0.152028  0.339617  \\\n",
      "1         0-1                       Hparam Tuning 1  0.270274  0.351236   \n",
      "2         0-2                       Hparam Tuning 2  0.186266  0.339103   \n",
      "3           1                         split obj var  0.156426  0.328699   \n",
      "4         2-1                windspeed == 0 -> drop  0.190929  0.333091   \n",
      "5         2-2                windspeed == 0 -> mean  0.156678  0.329988   \n",
      "6         2-3  windspeed == 0 -> linear replacement  0.156353  0.329178   \n",
      "7           3                     weather == 4 -> 3  0.156367  0.329180   \n",
      "8           4                         atemp -> drop  0.156701  0.330585   \n",
      "9           5                                   log  0.119066  0.304063   \n",
      "10          6                          log + scaler  0.120589  0.294301   \n",
      "\n",
      "   submissions  \n",
      "0         None  \n",
      "1      0.48367  \n",
      "2         None  \n",
      "3         None  \n",
      "4         None  \n",
      "5         None  \n",
      "6         None  \n",
      "7         None  \n",
      "8         None  \n",
      "9         None  \n",
      "10        None  \n"
     ]
    }
   ],
   "source": [
    "model_registered = RFR(random_state=0, max_depth=20, min_samples_split=3, n_estimators=700, n_jobs=-1)\n",
    "model_registered.fit(train_X_6, train_y_6.loc[:, 'registered_log'])\n",
    "\n",
    "model_casual = RFR(random_state=0, max_depth=20, min_samples_split=3, n_estimators=700, n_jobs=-1)\n",
    "model_casual.fit(train_X_6, train_y_6.loc[:, 'casual_log'])\n",
    "\n",
    "train_pred_registered = model_registered.predict(train_X_6)\n",
    "train_pred_casual = model_casual.predict(train_X_6)\n",
    "train_pred_count = np.expm1(train_pred_registered) + np.expm1(train_pred_casual)\n",
    "\n",
    "valid_pred_registered = model_registered.predict(valid_X_6)\n",
    "valid_pred_casual = model_casual.predict(valid_X_6)\n",
    "valid_pred_count = np.expm1(valid_pred_registered) + np.expm1(valid_pred_casual)\n",
    "\n",
    "train_score = rmsle(train_y_6.loc[:, 'count'], train_pred_count)\n",
    "valid_score = rmsle(valid_y_6.loc[:, 'count'], valid_pred_count)\n",
    "\n",
    "sc = pd.DataFrame([['6', 'log + scaler', train_score, valid_score, None]], columns=scores_cols)\n",
    "if sc.values[0][0] not in scores.values:\n",
    "    scores = pd.concat([scores, sc], axis=0, ignore_index=True)\n",
    "print(scores)"
   ]
  },
  {
   "attachments": {},
   "cell_type": "markdown",
   "metadata": {},
   "source": [
    "**仮説 6 の下で submit**"
   ]
  },
  {
   "cell_type": "code",
   "execution_count": 29,
   "metadata": {},
   "outputs": [],
   "source": [
    "if False:\n",
    "    model_registered = RFR(random_state=0, max_depth=20, min_samples_split=3, n_estimators=700, n_jobs=-1)\n",
    "    model_registered.fit(train_6.drop(obj_cols, axis=1), train_6.loc[:, 'registered_log'])\n",
    "\n",
    "    model_casual = RFR(random_state=0, max_depth=20, min_samples_split=3, n_estimators=700, n_jobs=-1)\n",
    "    model_casual.fit(train_6.drop(obj_cols, axis=1), train_6.loc[:, 'casual_log'])\n",
    "\n",
    "    test_pred_registered = model_registered.predict(test_6)\n",
    "    test_pred_casual = model_casual.predict(test_6)\n",
    "    test_pred_count = np.expm1(test_pred_registered) + np.expm1(test_pred_casual)\n",
    "\n",
    "    test_submittion = pd.DataFrame({'datetime': test_6.index, 'count': test_pred_count})\n",
    "    test_submittion.to_csv('./data/output/submission_rf_6.csv', index=False)"
   ]
  },
  {
   "cell_type": "code",
   "execution_count": 31,
   "metadata": {},
   "outputs": [
    {
     "name": "stdout",
     "output_type": "stream",
     "text": [
      "   conditions                          descriptions     train     valid   \n",
      "0       First                                        0.152028  0.339617  \\\n",
      "1         0-1                       Hparam Tuning 1  0.270274  0.351236   \n",
      "2         0-2                       Hparam Tuning 2  0.186266  0.339103   \n",
      "3           1                         split obj var  0.156426  0.328699   \n",
      "4         2-1                windspeed == 0 -> drop  0.190929  0.333091   \n",
      "5         2-2                windspeed == 0 -> mean  0.156678  0.329988   \n",
      "6         2-3  windspeed == 0 -> linear replacement  0.156353  0.329178   \n",
      "7           3                     weather == 4 -> 3  0.156367  0.329180   \n",
      "8           4                         atemp -> drop  0.156701  0.330585   \n",
      "9           5                                   log  0.119066  0.304063   \n",
      "10          6                          log + scaler  0.120589  0.294301   \n",
      "\n",
      "   submissions  \n",
      "0         None  \n",
      "1      0.48367  \n",
      "2         None  \n",
      "3         None  \n",
      "4         None  \n",
      "5         None  \n",
      "6         None  \n",
      "7         None  \n",
      "8         None  \n",
      "9         None  \n",
      "10     0.43587  \n"
     ]
    }
   ],
   "source": [
    "scores.loc[scores.loc[:, 'conditions'] == '6', 'submissions'] = 0.43587\n",
    "print(scores)"
   ]
  },
  {
   "cell_type": "code",
   "execution_count": null,
   "metadata": {},
   "outputs": [],
   "source": []
  }
 ],
 "metadata": {
  "kernelspec": {
   "display_name": ".venv_bike",
   "language": "python",
   "name": "python3"
  },
  "language_info": {
   "codemirror_mode": {
    "name": "ipython",
    "version": 3
   },
   "file_extension": ".py",
   "mimetype": "text/x-python",
   "name": "python",
   "nbconvert_exporter": "python",
   "pygments_lexer": "ipython3",
   "version": "3.11.2"
  },
  "orig_nbformat": 4
 },
 "nbformat": 4,
 "nbformat_minor": 2
}
