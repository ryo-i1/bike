{
 "cells": [
  {
   "cell_type": "code",
   "execution_count": 29,
   "metadata": {},
   "outputs": [],
   "source": [
    "import numpy as np\n",
    "import pandas as pd\n",
    "import matplotlib.pyplot as plt\n",
    "import seaborn as sns\n",
    "%matplotlib inline\n",
    "from sklearn.model_selection import train_test_split, GridSearchCV\n",
    "from sklearn.ensemble import RandomForestRegressor as RFR\n",
    "from sklearn.preprocessing import StandardScaler\n",
    "\n",
    "train = pd.read_csv('./data/input/train.csv', parse_dates=['datetime'])\n",
    "test = pd.read_csv('./data/input/test.csv', parse_dates=['datetime'])"
   ]
  },
  {
   "cell_type": "code",
   "execution_count": 2,
   "metadata": {},
   "outputs": [],
   "source": [
    "def rmsle(y, y_):\n",
    "    log1 = np.log(y + 1)\n",
    "    log2 = np.log(y_ + 1)\n",
    "    mean = np.square((log1- log2)).mean()\n",
    "    return np.sqrt(mean)"
   ]
  },
  {
   "cell_type": "code",
   "execution_count": 3,
   "metadata": {},
   "outputs": [],
   "source": [
    "scores_cols = ['conditions', 'descriptions', 'train', 'valid', 'submissions']\n",
    "scores = pd.DataFrame(columns=scores_cols)"
   ]
  },
  {
   "attachments": {},
   "cell_type": "markdown",
   "metadata": {},
   "source": [
    "# データ前処理"
   ]
  },
  {
   "attachments": {},
   "cell_type": "markdown",
   "metadata": {},
   "source": [
    "## datetime の処理"
   ]
  },
  {
   "cell_type": "code",
   "execution_count": 4,
   "metadata": {},
   "outputs": [],
   "source": [
    "train['year'] = train.loc[:, 'datetime'].dt.year\n",
    "train['month'] = train.loc[:, 'datetime'].dt.month\n",
    "train['day'] = train.loc[:, 'datetime'].dt.day\n",
    "train['hour'] = train.loc[:, 'datetime'].dt.hour\n",
    "train['weekday'] = train.loc[:, 'datetime'].dt.weekday\n",
    "\n",
    "test['year'] = test.loc[:, 'datetime'].dt.year\n",
    "test['month'] = test.loc[:, 'datetime'].dt.month\n",
    "test['day'] = test.loc[:, 'datetime'].dt.day\n",
    "test['hour'] = test.loc[:, 'datetime'].dt.hour\n",
    "test['weekday'] = test.loc[:, 'datetime'].dt.weekday"
   ]
  },
  {
   "attachments": {},
   "cell_type": "markdown",
   "metadata": {},
   "source": [
    "## 検証用データの作成"
   ]
  },
  {
   "cell_type": "code",
   "execution_count": 5,
   "metadata": {},
   "outputs": [],
   "source": [
    "drop_cols = ['datetime', 'count', 'casual', 'registered']\n",
    "test_use_cols = [col for col in train.columns if col not in drop_cols]\n",
    "\n",
    "train_X, valid_X, train_y, valid_y = train_test_split(\n",
    "    train.drop(columns=drop_cols),\n",
    "    train.loc[:, ['registered', 'casual', 'count']],\n",
    "    test_size=0.3, random_state=0)"
   ]
  },
  {
   "attachments": {},
   "cell_type": "markdown",
   "metadata": {},
   "source": [
    "## RF 実装\n",
    "count を直接予測する．"
   ]
  },
  {
   "cell_type": "code",
   "execution_count": 6,
   "metadata": {},
   "outputs": [
    {
     "name": "stdout",
     "output_type": "stream",
     "text": [
      "  conditions descriptions     train     valid submissions\n",
      "0      First               0.152028  0.339617        None\n"
     ]
    }
   ],
   "source": [
    "model_rf = RFR(random_state=0)\n",
    "model_rf.fit(train_X, train_y.loc[:, 'count'])\n",
    "\n",
    "train_pred = model_rf.predict(train_X)\n",
    "train_score = rmsle(train_y.loc[:, 'count'], train_pred)\n",
    "\n",
    "valid_pred = model_rf.predict(valid_X)\n",
    "valid_score = rmsle(valid_y.loc[:, 'count'], valid_pred)\n",
    "\n",
    "score = pd.DataFrame([['First', '', train_score, valid_score, None]], columns=scores_cols)\n",
    "if score.values[0][0] not in scores.values:\n",
    "    scores = pd.concat([scores, score], axis=0)\n",
    "print(scores)"
   ]
  },
  {
   "attachments": {},
   "cell_type": "markdown",
   "metadata": {},
   "source": [
    "### Highper parameter Tuning 1"
   ]
  },
  {
   "cell_type": "code",
   "execution_count": 7,
   "metadata": {},
   "outputs": [],
   "source": [
    "# RF GridSearchCV\n",
    "if False:\n",
    "    params = [{\n",
    "        'n_estimators': [20, 30],\n",
    "        'max_depth': [15, 40],\n",
    "        'min_samples_leaf': [1],\n",
    "        'max_features': ['sqrt', 'log2','auto', None]\n",
    "    }]\n",
    "\n",
    "    gscv = GridSearchCV(\n",
    "        RFR(random_state=0, n_jobs=-1),\n",
    "        param_grid=params,\n",
    "        cv=5,\n",
    "        verbose=2\n",
    "        )\n",
    "\n",
    "    gscv.fit(train_X, train_y.loc[:, 'count'])"
   ]
  },
  {
   "cell_type": "code",
   "execution_count": 8,
   "metadata": {},
   "outputs": [],
   "source": [
    "# RF GridSearchCV check params\n",
    "if False:\n",
    "    model_rf_best = gscv.best_estimator_\n",
    "    train_pred = model_rf_best.predict(train_X)\n",
    "    train_score = rmsle(train_y.loc[:, 'count'], train_pred)\n",
    "\n",
    "    valid_pred = model_rf_best.predict(valid_X)\n",
    "    valid_score = rmsle(valid_y.loc[:, 'count'], valid_pred)\n",
    "\n",
    "    print('train_score: {}, valid_score: {}'.format(train_score, valid_score))\n",
    "\n",
    "    print(pd.DataFrame(gscv.cv_results_).sort_values('rank_test_score').loc[:, ['params', 'mean_test_score']].head(3).values)"
   ]
  },
  {
   "cell_type": "code",
   "execution_count": 9,
   "metadata": {},
   "outputs": [
    {
     "name": "stdout",
     "output_type": "stream",
     "text": [
      "  conditions     descriptions     train     valid submissions\n",
      "0      First                   0.152028  0.339617        None\n",
      "1        0-1  Hparam Tuning 1  0.270274  0.351236        None\n"
     ]
    }
   ],
   "source": [
    "model_rf_best = RFR(random_state=0, max_depth=20, min_samples_leaf=5, n_estimators=200)\n",
    "model_rf_best.fit(train_X, train_y.loc[:, 'count'])\n",
    "\n",
    "train_pred = model_rf_best.predict(train_X)\n",
    "train_score = rmsle(train_y.loc[:, 'count'], train_pred)\n",
    "\n",
    "test_pred = model_rf_best.predict(valid_X)\n",
    "test_score = rmsle(valid_y.loc[:, 'count'], test_pred)\n",
    "\n",
    "sc = pd.DataFrame([['0-1', 'Hparam Tuning 1', train_score, test_score, None]], columns=scores_cols)\n",
    "if sc.values[0][0] not in scores.values:\n",
    "    scores = pd.concat([scores, sc], axis=0, ignore_index=True)\n",
    "print(scores)"
   ]
  },
  {
   "cell_type": "code",
   "execution_count": 10,
   "metadata": {},
   "outputs": [],
   "source": [
    "# submission\n",
    "if False:\n",
    "    model_rf_test = RFR(random_state=0, max_depth=20, min_samples_leaf=5, n_estimators=200)\n",
    "    model_rf_test.fit(train.drop(columns=drop_cols), train.loc[:, 'count'])\n",
    "\n",
    "    pred = model_rf_test.predict(test.loc[:, test_use_cols])\n",
    "    df_submit = pd.DataFrame({'datetime': test.datetime, 'count': pred})\n",
    "    df_submit.to_csv('./data/output/submittion_RFR.csv', index=False)"
   ]
  },
  {
   "cell_type": "code",
   "execution_count": 11,
   "metadata": {},
   "outputs": [
    {
     "name": "stdout",
     "output_type": "stream",
     "text": [
      "  conditions     descriptions     train     valid submissions\n",
      "0      First                   0.152028  0.339617        None\n",
      "1        0-1  Hparam Tuning 1  0.270274  0.351236     0.48367\n"
     ]
    }
   ],
   "source": [
    "scores.loc[scores['conditions'] == '0-1', 'submissions'] = 0.48367\n",
    "print(scores)"
   ]
  },
  {
   "attachments": {},
   "cell_type": "markdown",
   "metadata": {},
   "source": [
    "### Highper parameter Tuning 2"
   ]
  },
  {
   "cell_type": "code",
   "execution_count": 12,
   "metadata": {},
   "outputs": [
    {
     "name": "stdout",
     "output_type": "stream",
     "text": [
      "  conditions     descriptions     train     valid submissions\n",
      "0      First                   0.152028  0.339617        None\n",
      "1        0-1  Hparam Tuning 1  0.270274  0.351236     0.48367\n",
      "2        0-2  Hparam Tuning 2  0.186266  0.339103        None\n"
     ]
    }
   ],
   "source": [
    "model_rf = RFR(random_state=0, max_depth=20, min_samples_split=5, n_estimators=700, n_jobs=-1)\n",
    "model_rf.fit(train_X, train_y.loc[:, 'count'])\n",
    "\n",
    "train_pred = model_rf.predict(train_X)\n",
    "train_score = rmsle(train_y.loc[:, 'count'], train_pred)\n",
    "\n",
    "test_pred = model_rf.predict(valid_X)\n",
    "test_score = rmsle(valid_y.loc[:, 'count'], test_pred)\n",
    "\n",
    "sc = pd.DataFrame([['0-2', 'Hparam Tuning 2', train_score, test_score, None]], columns=scores_cols)\n",
    "if sc.values[0][0] not in scores.values:\n",
    "    scores = pd.concat([scores, sc], axis=0, ignore_index=True)\n",
    "print(scores)"
   ]
  },
  {
   "attachments": {},
   "cell_type": "markdown",
   "metadata": {},
   "source": [
    "## 仮説検証"
   ]
  },
  {
   "attachments": {},
   "cell_type": "markdown",
   "metadata": {},
   "source": [
    "### 仮説 1\n",
    "count を registered と casual の和として予測する．"
   ]
  },
  {
   "cell_type": "code",
   "execution_count": 13,
   "metadata": {},
   "outputs": [
    {
     "data": {
      "text/html": [
       "<style>#sk-container-id-1 {color: black;background-color: white;}#sk-container-id-1 pre{padding: 0;}#sk-container-id-1 div.sk-toggleable {background-color: white;}#sk-container-id-1 label.sk-toggleable__label {cursor: pointer;display: block;width: 100%;margin-bottom: 0;padding: 0.3em;box-sizing: border-box;text-align: center;}#sk-container-id-1 label.sk-toggleable__label-arrow:before {content: \"▸\";float: left;margin-right: 0.25em;color: #696969;}#sk-container-id-1 label.sk-toggleable__label-arrow:hover:before {color: black;}#sk-container-id-1 div.sk-estimator:hover label.sk-toggleable__label-arrow:before {color: black;}#sk-container-id-1 div.sk-toggleable__content {max-height: 0;max-width: 0;overflow: hidden;text-align: left;background-color: #f0f8ff;}#sk-container-id-1 div.sk-toggleable__content pre {margin: 0.2em;color: black;border-radius: 0.25em;background-color: #f0f8ff;}#sk-container-id-1 input.sk-toggleable__control:checked~div.sk-toggleable__content {max-height: 200px;max-width: 100%;overflow: auto;}#sk-container-id-1 input.sk-toggleable__control:checked~label.sk-toggleable__label-arrow:before {content: \"▾\";}#sk-container-id-1 div.sk-estimator input.sk-toggleable__control:checked~label.sk-toggleable__label {background-color: #d4ebff;}#sk-container-id-1 div.sk-label input.sk-toggleable__control:checked~label.sk-toggleable__label {background-color: #d4ebff;}#sk-container-id-1 input.sk-hidden--visually {border: 0;clip: rect(1px 1px 1px 1px);clip: rect(1px, 1px, 1px, 1px);height: 1px;margin: -1px;overflow: hidden;padding: 0;position: absolute;width: 1px;}#sk-container-id-1 div.sk-estimator {font-family: monospace;background-color: #f0f8ff;border: 1px dotted black;border-radius: 0.25em;box-sizing: border-box;margin-bottom: 0.5em;}#sk-container-id-1 div.sk-estimator:hover {background-color: #d4ebff;}#sk-container-id-1 div.sk-parallel-item::after {content: \"\";width: 100%;border-bottom: 1px solid gray;flex-grow: 1;}#sk-container-id-1 div.sk-label:hover label.sk-toggleable__label {background-color: #d4ebff;}#sk-container-id-1 div.sk-serial::before {content: \"\";position: absolute;border-left: 1px solid gray;box-sizing: border-box;top: 0;bottom: 0;left: 50%;z-index: 0;}#sk-container-id-1 div.sk-serial {display: flex;flex-direction: column;align-items: center;background-color: white;padding-right: 0.2em;padding-left: 0.2em;position: relative;}#sk-container-id-1 div.sk-item {position: relative;z-index: 1;}#sk-container-id-1 div.sk-parallel {display: flex;align-items: stretch;justify-content: center;background-color: white;position: relative;}#sk-container-id-1 div.sk-item::before, #sk-container-id-1 div.sk-parallel-item::before {content: \"\";position: absolute;border-left: 1px solid gray;box-sizing: border-box;top: 0;bottom: 0;left: 50%;z-index: -1;}#sk-container-id-1 div.sk-parallel-item {display: flex;flex-direction: column;z-index: 1;position: relative;background-color: white;}#sk-container-id-1 div.sk-parallel-item:first-child::after {align-self: flex-end;width: 50%;}#sk-container-id-1 div.sk-parallel-item:last-child::after {align-self: flex-start;width: 50%;}#sk-container-id-1 div.sk-parallel-item:only-child::after {width: 0;}#sk-container-id-1 div.sk-dashed-wrapped {border: 1px dashed gray;margin: 0 0.4em 0.5em 0.4em;box-sizing: border-box;padding-bottom: 0.4em;background-color: white;}#sk-container-id-1 div.sk-label label {font-family: monospace;font-weight: bold;display: inline-block;line-height: 1.2em;}#sk-container-id-1 div.sk-label-container {text-align: center;}#sk-container-id-1 div.sk-container {/* jupyter's `normalize.less` sets `[hidden] { display: none; }` but bootstrap.min.css set `[hidden] { display: none !important; }` so we also need the `!important` here to be able to override the default hidden behavior on the sphinx rendered scikit-learn.org. See: https://github.com/scikit-learn/scikit-learn/issues/21755 */display: inline-block !important;position: relative;}#sk-container-id-1 div.sk-text-repr-fallback {display: none;}</style><div id=\"sk-container-id-1\" class=\"sk-top-container\"><div class=\"sk-text-repr-fallback\"><pre>RandomForestRegressor(max_depth=20, min_samples_split=3, n_estimators=700,\n",
       "                      n_jobs=-1, random_state=0)</pre><b>In a Jupyter environment, please rerun this cell to show the HTML representation or trust the notebook. <br />On GitHub, the HTML representation is unable to render, please try loading this page with nbviewer.org.</b></div><div class=\"sk-container\" hidden><div class=\"sk-item\"><div class=\"sk-estimator sk-toggleable\"><input class=\"sk-toggleable__control sk-hidden--visually\" id=\"sk-estimator-id-1\" type=\"checkbox\" checked><label for=\"sk-estimator-id-1\" class=\"sk-toggleable__label sk-toggleable__label-arrow\">RandomForestRegressor</label><div class=\"sk-toggleable__content\"><pre>RandomForestRegressor(max_depth=20, min_samples_split=3, n_estimators=700,\n",
       "                      n_jobs=-1, random_state=0)</pre></div></div></div></div></div>"
      ],
      "text/plain": [
       "RandomForestRegressor(max_depth=20, min_samples_split=3, n_estimators=700,\n",
       "                      n_jobs=-1, random_state=0)"
      ]
     },
     "execution_count": 13,
     "metadata": {},
     "output_type": "execute_result"
    }
   ],
   "source": [
    "rf_1_registered = RFR(random_state=0, max_depth=20, min_samples_split=3, n_estimators=700, n_jobs=-1)\n",
    "rf_1_registered.fit(train_X, train_y.loc[:, 'registered'])\n",
    "\n",
    "rf_1_casual = RFR(random_state=0, max_depth=20, min_samples_split=3, n_estimators=700, n_jobs=-1)\n",
    "rf_1_casual.fit(train_X, train_y.loc[:, 'casual'])"
   ]
  },
  {
   "cell_type": "code",
   "execution_count": 14,
   "metadata": {},
   "outputs": [
    {
     "name": "stdout",
     "output_type": "stream",
     "text": [
      "  conditions     descriptions     train     valid submissions\n",
      "0      First                   0.152028  0.339617        None\n",
      "1        0-1  Hparam Tuning 1  0.270274  0.351236     0.48367\n",
      "2        0-2  Hparam Tuning 2  0.186266  0.339103        None\n",
      "3          1    split obj var  0.156426  0.328699        None\n"
     ]
    }
   ],
   "source": [
    "train_pred_registered = rf_1_registered.predict(train_X)\n",
    "train_pred_casual = rf_1_casual.predict(train_X)\n",
    "train_pred_count = train_pred_registered + train_pred_casual\n",
    "\n",
    "valid_pred_registered = rf_1_registered.predict(valid_X)\n",
    "valid_pred_casual = rf_1_casual.predict(valid_X)\n",
    "valid_pred_count = valid_pred_registered + valid_pred_casual\n",
    "\n",
    "train_score = rmsle(train_y.loc[:, 'count'], train_pred_count)\n",
    "valid_score = rmsle(valid_y.loc[:, 'count'], valid_pred_count)\n",
    "\n",
    "sc = pd.DataFrame([['1', 'split obj var', train_score, valid_score, None]], columns=scores_cols)\n",
    "if sc.values[0][0] not in scores.values:\n",
    "    scores = pd.concat([scores, sc], axis=0, ignore_index=True)\n",
    "print(scores)"
   ]
  },
  {
   "attachments": {},
   "cell_type": "markdown",
   "metadata": {},
   "source": [
    "**仮説 1 の下で submit**"
   ]
  },
  {
   "cell_type": "code",
   "execution_count": 15,
   "metadata": {},
   "outputs": [],
   "source": [
    "model_registered = RFR(random_state=0, max_depth=20, min_samples_split=3, n_estimators=700, n_jobs=-1)\n",
    "model_registered.fit(train.drop(drop_cols, axis=1), train.loc[:, 'registered'])\n",
    "\n",
    "model_casual = RFR(random_state=0, max_depth=20, min_samples_split=3, n_estimators=700, n_jobs=-1)\n",
    "model_casual.fit(train.drop(drop_cols, axis=1), train.loc[:, 'casual'])\n",
    "\n",
    "pred_registered = model_registered.predict(test.loc[:, test_use_cols])\n",
    "pred_casual = model_casual.predict(test.loc[:, test_use_cols])\n",
    "pred_count = pred_registered + pred_casual\n",
    "\n",
    "df_submit = pd.DataFrame({'datetime': test.datetime, 'count': pred_count})\n",
    "df_submit.to_csv('./data/output/submission_rf_1.csv', index=False)"
   ]
  },
  {
   "attachments": {},
   "cell_type": "markdown",
   "metadata": {},
   "source": [
    "### 仮説 2-1\n",
    "風速 0 を削除"
   ]
  },
  {
   "cell_type": "code",
   "execution_count": 16,
   "metadata": {},
   "outputs": [
    {
     "name": "stdout",
     "output_type": "stream",
     "text": [
      "  conditions            descriptions     train     valid submissions\n",
      "0      First                          0.152028  0.339617        None\n",
      "1        0-1         Hparam Tuning 1  0.270274  0.351236     0.48367\n",
      "2        0-2         Hparam Tuning 2  0.186266  0.339103        None\n",
      "3          1           split obj var  0.156426  0.328699        None\n",
      "4        2-1  windspeed == 0 -> drop  0.190929  0.333091        None\n"
     ]
    }
   ],
   "source": [
    "model_registered = RFR(random_state=0, max_depth=20, min_samples_split=3, n_estimators=700, n_jobs=-1)\n",
    "model_registered.fit(train_X.loc[train_X.loc[:, 'windspeed'] != 0, :], train_y.loc[train_X.loc[:, 'windspeed'] != 0, 'registered'])\n",
    "\n",
    "model_casual = RFR(random_state=0, max_depth=20, min_samples_split=3, n_estimators=700, n_jobs=-1)\n",
    "model_casual.fit(train_X.loc[train_X.loc[:, 'windspeed'] != 0, :], train_y.loc[train_X.loc[:, 'windspeed'] != 0, 'casual'])\n",
    "\n",
    "train_pred_registered = model_registered.predict(train_X)\n",
    "train_pred_casual = model_casual.predict(train_X)\n",
    "train_pred_count = train_pred_registered + train_pred_casual\n",
    "\n",
    "valid_pred_registered = model_registered.predict(valid_X)\n",
    "valid_pred_casual = model_casual.predict(valid_X)\n",
    "valid_pred_count = valid_pred_registered + valid_pred_casual\n",
    "\n",
    "train_score = rmsle(train_y.loc[:, 'count'], train_pred_count)\n",
    "valid_score = rmsle(valid_y.loc[:, 'count'], valid_pred_count)\n",
    "\n",
    "sc = pd.DataFrame([['2-1', 'windspeed == 0 -> drop', train_score, valid_score, None]], columns=scores_cols)\n",
    "if sc.values[0][0] not in scores.values:\n",
    "    scores = pd.concat([scores, sc], axis=0, ignore_index=True)\n",
    "print(scores)"
   ]
  },
  {
   "attachments": {},
   "cell_type": "markdown",
   "metadata": {},
   "source": [
    "### 仮説 2-2\n",
    "風速 0 を平均値に置き換え"
   ]
  },
  {
   "cell_type": "code",
   "execution_count": 17,
   "metadata": {},
   "outputs": [
    {
     "name": "stdout",
     "output_type": "stream",
     "text": [
      "  conditions            descriptions     train     valid submissions\n",
      "0      First                          0.152028  0.339617        None\n",
      "1        0-1         Hparam Tuning 1  0.270274  0.351236     0.48367\n",
      "2        0-2         Hparam Tuning 2  0.186266  0.339103        None\n",
      "3          1           split obj var  0.156426  0.328699        None\n",
      "4        2-1  windspeed == 0 -> drop  0.190929  0.333091        None\n",
      "5        2-2  windspeed == 0 -> mean  0.156678  0.329988        None\n"
     ]
    }
   ],
   "source": [
    "train_X_2 = train_X.copy()\n",
    "train_X_2.loc[train_X_2.loc[:, 'windspeed'] == 0, 'windspeed'] = train.loc[train.loc[:, 'windspeed'] != 0, 'windspeed'].mean()\n",
    "\n",
    "model_registered = RFR(random_state=0, max_depth=20, min_samples_split=3, n_estimators=700, n_jobs=-1)\n",
    "model_registered.fit(train_X_2, train_y.loc[:, 'registered'])\n",
    "\n",
    "model_casual = RFR(random_state=0, max_depth=20, min_samples_split=3, n_estimators=700, n_jobs=-1)\n",
    "model_casual.fit(train_X_2, train_y.loc[:, 'casual'])\n",
    "\n",
    "train_pred_registered = model_registered.predict(train_X_2)\n",
    "train_pred_casual = model_casual.predict(train_X_2)\n",
    "train_pred_count = train_pred_registered + train_pred_casual\n",
    "\n",
    "valid_pred_registered = model_registered.predict(valid_X)\n",
    "valid_pred_casual = model_casual.predict(valid_X)\n",
    "valid_pred_count = valid_pred_registered + valid_pred_casual\n",
    "\n",
    "train_score = rmsle(train_y.loc[:, 'count'], train_pred_count)\n",
    "valid_score = rmsle(valid_y.loc[:, 'count'], valid_pred_count)\n",
    "\n",
    "sc = pd.DataFrame([['2-2', 'windspeed == 0 -> mean', train_score, valid_score, None]], columns=scores_cols)\n",
    "if sc.values[0][0] not in scores.values:\n",
    "    scores = pd.concat([scores, sc], axis=0, ignore_index=True)\n",
    "print(scores)"
   ]
  },
  {
   "attachments": {},
   "cell_type": "markdown",
   "metadata": {},
   "source": [
    "### 仮説 2-3\n",
    "風速 0 を線形補完"
   ]
  },
  {
   "cell_type": "code",
   "execution_count": 18,
   "metadata": {},
   "outputs": [],
   "source": [
    "train_2 = train.copy()\n",
    "train_2.loc[:, 'datetime'] = pd.to_datetime(train_2.loc[:, 'datetime'])\n",
    "train_2.set_index('datetime', inplace=True)\n",
    "train_2.replace({'windspeed': 0}, np.nan, inplace=True)\n",
    "train_2.interpolate(method='time', inplace=True, limit_direction='both')\n",
    "\n",
    "test_2 = test.copy()\n",
    "test_2.loc[:, 'datetime'] = pd.to_datetime(test_2.loc[:, 'datetime'])\n",
    "test_2.set_index('datetime', inplace=True)\n",
    "test_2.replace({'windspeed': 0}, np.nan, inplace=True)\n",
    "test_2.interpolate(method='time', inplace=True, limit_direction='both')"
   ]
  },
  {
   "cell_type": "code",
   "execution_count": 19,
   "metadata": {},
   "outputs": [],
   "source": [
    "train_X_2, valid_X_2, train_y_2, valid_y_2 = train_test_split(\n",
    "    train_2.drop(columns=['registered', 'casual', 'count']),\n",
    "    train_2.loc[:, ['registered', 'casual', 'count']],\n",
    "    test_size=0.3, random_state=0)"
   ]
  },
  {
   "cell_type": "code",
   "execution_count": 20,
   "metadata": {},
   "outputs": [
    {
     "name": "stdout",
     "output_type": "stream",
     "text": [
      "  conditions                          descriptions     train     valid   \n",
      "0      First                                        0.152028  0.339617  \\\n",
      "1        0-1                       Hparam Tuning 1  0.270274  0.351236   \n",
      "2        0-2                       Hparam Tuning 2  0.186266  0.339103   \n",
      "3          1                         split obj var  0.156426  0.328699   \n",
      "4        2-1                windspeed == 0 -> drop  0.190929  0.333091   \n",
      "5        2-2                windspeed == 0 -> mean  0.156678  0.329988   \n",
      "6        2-3  windspeed == 0 -> linear replacement  0.156353  0.329178   \n",
      "\n",
      "  submissions  \n",
      "0        None  \n",
      "1     0.48367  \n",
      "2        None  \n",
      "3        None  \n",
      "4        None  \n",
      "5        None  \n",
      "6        None  \n"
     ]
    }
   ],
   "source": [
    "model_registered = RFR(random_state=0, max_depth=20, min_samples_split=3, n_estimators=700, n_jobs=-1)\n",
    "model_registered.fit(train_X_2, train_y_2.loc[:, 'registered'])\n",
    "\n",
    "model_casual = RFR(random_state=0, max_depth=20, min_samples_split=3, n_estimators=700, n_jobs=-1)\n",
    "model_casual.fit(train_X_2, train_y_2.loc[:, 'casual'])\n",
    "\n",
    "train_pred_registered = model_registered.predict(train_X_2)\n",
    "train_pred_casual = model_casual.predict(train_X_2)\n",
    "train_pred_count = train_pred_registered + train_pred_casual\n",
    "\n",
    "valid_pred_registered = model_registered.predict(valid_X_2)\n",
    "valid_pred_casual = model_casual.predict(valid_X_2)\n",
    "valid_pred_count = valid_pred_registered + valid_pred_casual\n",
    "\n",
    "train_score = rmsle(train_y_2.loc[:, 'count'], train_pred_count)\n",
    "valid_score = rmsle(valid_y_2.loc[:, 'count'], valid_pred_count)\n",
    "\n",
    "sc = pd.DataFrame([['2-3', 'windspeed == 0 -> linear replacement', train_score, valid_score, None]], columns=scores_cols)\n",
    "if sc.values[0][0] not in scores.values:\n",
    "    scores = pd.concat([scores, sc], axis=0, ignore_index=True)\n",
    "print(scores)"
   ]
  },
  {
   "attachments": {},
   "cell_type": "markdown",
   "metadata": {},
   "source": [
    "### 仮説 3\n",
    "天候 4 を 3 とする．  \n",
    "仮説 1, 仮説 2-3 の手法を用いる．"
   ]
  },
  {
   "cell_type": "code",
   "execution_count": 21,
   "metadata": {},
   "outputs": [
    {
     "name": "stdout",
     "output_type": "stream",
     "text": [
      "1 2\n"
     ]
    }
   ],
   "source": [
    "print(len(train_X_2[train_X_2.weather == 4]), len(test_2[test_2.weather == 4]))"
   ]
  },
  {
   "cell_type": "code",
   "execution_count": 22,
   "metadata": {},
   "outputs": [],
   "source": [
    "train_X_3 = train_X_2.replace({'weather': 4}, 3, inplace=False)\n",
    "test_3 = test_2.replace({'weather': 4}, 3, inplace=False)"
   ]
  },
  {
   "cell_type": "code",
   "execution_count": 23,
   "metadata": {},
   "outputs": [
    {
     "name": "stdout",
     "output_type": "stream",
     "text": [
      "  conditions                          descriptions     train     valid   \n",
      "0      First                                        0.152028  0.339617  \\\n",
      "1        0-1                       Hparam Tuning 1  0.270274  0.351236   \n",
      "2        0-2                       Hparam Tuning 2  0.186266  0.339103   \n",
      "3          1                         split obj var  0.156426  0.328699   \n",
      "4        2-1                windspeed == 0 -> drop  0.190929  0.333091   \n",
      "5        2-2                windspeed == 0 -> mean  0.156678  0.329988   \n",
      "6        2-3  windspeed == 0 -> linear replacement  0.156353  0.329178   \n",
      "7          3                     weather == 4 -> 3  0.156367  0.329180   \n",
      "\n",
      "  submissions  \n",
      "0        None  \n",
      "1     0.48367  \n",
      "2        None  \n",
      "3        None  \n",
      "4        None  \n",
      "5        None  \n",
      "6        None  \n",
      "7        None  \n"
     ]
    }
   ],
   "source": [
    "model_registered = RFR(random_state=0, max_depth=20, min_samples_split=3, n_estimators=700, n_jobs=-1)\n",
    "model_registered.fit(train_X_3, train_y_2.loc[:, 'registered'])\n",
    "\n",
    "model_casual = RFR(random_state=0, max_depth=20, min_samples_split=3, n_estimators=700, n_jobs=-1)\n",
    "model_casual.fit(train_X_3, train_y_2.loc[:, 'casual'])\n",
    "\n",
    "train_pred_registered = model_registered.predict(train_X_3)\n",
    "train_pred_casual = model_casual.predict(train_X_3)\n",
    "train_pred_count = train_pred_registered + train_pred_casual\n",
    "\n",
    "valid_pred_registered = model_registered.predict(valid_X_2)\n",
    "valid_pred_casual = model_casual.predict(valid_X_2)\n",
    "valid_pred_count = valid_pred_registered + valid_pred_casual\n",
    "\n",
    "train_score = rmsle(train_y_2.loc[:, 'count'], train_pred_count)\n",
    "valid_score = rmsle(valid_y_2.loc[:, 'count'], valid_pred_count)\n",
    "\n",
    "sc = pd.DataFrame([['3', 'weather == 4 -> 3', train_score, valid_score, None]], columns=scores_cols)\n",
    "if sc.values[0][0] not in scores.values:\n",
    "    scores = pd.concat([scores, sc], axis=0, ignore_index=True)\n",
    "print(scores)"
   ]
  },
  {
   "attachments": {},
   "cell_type": "markdown",
   "metadata": {},
   "source": [
    "### 仮説 4\n",
    "atemp を使用しない．  \n",
    "仮説 3 の下で行う．"
   ]
  },
  {
   "cell_type": "code",
   "execution_count": 24,
   "metadata": {},
   "outputs": [
    {
     "name": "stdout",
     "output_type": "stream",
     "text": [
      "  conditions                          descriptions     train     valid   \n",
      "0      First                                        0.152028  0.339617  \\\n",
      "1        0-1                       Hparam Tuning 1  0.270274  0.351236   \n",
      "2        0-2                       Hparam Tuning 2  0.186266  0.339103   \n",
      "3          1                         split obj var  0.156426  0.328699   \n",
      "4        2-1                windspeed == 0 -> drop  0.190929  0.333091   \n",
      "5        2-2                windspeed == 0 -> mean  0.156678  0.329988   \n",
      "6        2-3  windspeed == 0 -> linear replacement  0.156353  0.329178   \n",
      "7          3                     weather == 4 -> 3  0.156367  0.329180   \n",
      "8          4                         atemp -> drop  0.156701  0.330585   \n",
      "\n",
      "  submissions  \n",
      "0        None  \n",
      "1     0.48367  \n",
      "2        None  \n",
      "3        None  \n",
      "4        None  \n",
      "5        None  \n",
      "6        None  \n",
      "7        None  \n",
      "8        None  \n"
     ]
    }
   ],
   "source": [
    "model_registered = RFR(random_state=0, max_depth=20, min_samples_split=3, n_estimators=700, n_jobs=-1)\n",
    "model_registered.fit(train_X_3.drop('atemp', axis=1), train_y_2.loc[:, 'registered'])\n",
    "\n",
    "model_casual = RFR(random_state=0, max_depth=20, min_samples_split=3, n_estimators=700, n_jobs=-1)\n",
    "model_casual.fit(train_X_3.drop('atemp', axis=1), train_y_2.loc[:, 'casual'])\n",
    "\n",
    "train_pred_registered = model_registered.predict(train_X_3.drop('atemp', axis=1))\n",
    "train_pred_casual = model_casual.predict(train_X_3.drop('atemp', axis=1))\n",
    "train_pred_count = train_pred_registered + train_pred_casual\n",
    "\n",
    "valid_pred_registered = model_registered.predict(valid_X_2.drop('atemp', axis=1))\n",
    "valid_pred_casual = model_casual.predict(valid_X_2.drop('atemp', axis=1))\n",
    "valid_pred_count = valid_pred_registered + valid_pred_casual\n",
    "\n",
    "train_score = rmsle(train_y_2.loc[:, 'count'], train_pred_count)\n",
    "valid_score = rmsle(valid_y_2.loc[:, 'count'], valid_pred_count)\n",
    "\n",
    "sc = pd.DataFrame([['4', 'atemp -> drop', train_score, valid_score, None]], columns=scores_cols)\n",
    "if sc.values[0][0] not in scores.values:\n",
    "    scores = pd.concat([scores, sc], axis=0, ignore_index=True)\n",
    "print(scores)"
   ]
  },
  {
   "attachments": {},
   "cell_type": "markdown",
   "metadata": {},
   "source": [
    "**仮説 3 の下で submit**"
   ]
  },
  {
   "cell_type": "code",
   "execution_count": 25,
   "metadata": {},
   "outputs": [],
   "source": [
    "if False:\n",
    "    model_registered = RFR(random_state=0, max_depth=20, min_samples_split=3, n_estimators=700, n_jobs=-1)\n",
    "    model_registered.fit(train_2.drop(['casual', 'registered', 'count'], axis=1), train_2.loc[:, 'registered'])\n",
    "\n",
    "    model_casual = RFR(random_state=0, max_depth=20, min_samples_split=3, n_estimators=700, n_jobs=-1)\n",
    "    model_casual.fit(train_2.drop(['casual', 'registered', 'count'], axis=1), train_2.loc[:, 'casual'])\n",
    "\n",
    "    test_pred_registered = model_registered.predict(test_2)\n",
    "    test_pred_casual = model_casual.predict(test_2)\n",
    "    test_pred_count = test_pred_registered + test_pred_casual\n",
    "\n",
    "    test_submittion = pd.DataFrame({'datetime': test_2.index, 'count': test_pred_count})\n",
    "    test_submittion.to_csv('./data/output/submission_rf_3.csv', index=False)"
   ]
  },
  {
   "attachments": {},
   "cell_type": "markdown",
   "metadata": {},
   "source": [
    "### 仮説 5\n",
    "目的変数を対数変換する．  \n",
    "仮説 3 の下で行う．"
   ]
  },
  {
   "cell_type": "code",
   "execution_count": 27,
   "metadata": {},
   "outputs": [
    {
     "name": "stdout",
     "output_type": "stream",
     "text": [
      "  conditions                          descriptions     train     valid   \n",
      "0      First                                        0.152028  0.339617  \\\n",
      "1        0-1                       Hparam Tuning 1  0.270274  0.351236   \n",
      "2        0-2                       Hparam Tuning 2  0.186266  0.339103   \n",
      "3          1                         split obj var  0.156426  0.328699   \n",
      "4        2-1                windspeed == 0 -> drop  0.190929  0.333091   \n",
      "5        2-2                windspeed == 0 -> mean  0.156678  0.329988   \n",
      "6        2-3  windspeed == 0 -> linear replacement  0.156353  0.329178   \n",
      "7          3                     weather == 4 -> 3  0.156367  0.329180   \n",
      "8          4                         atemp -> drop  0.156701  0.330585   \n",
      "9          5                                   log  0.119066  0.304063   \n",
      "\n",
      "  submissions  \n",
      "0        None  \n",
      "1     0.48367  \n",
      "2        None  \n",
      "3        None  \n",
      "4        None  \n",
      "5        None  \n",
      "6        None  \n",
      "7        None  \n",
      "8        None  \n",
      "9        None  \n"
     ]
    }
   ],
   "source": [
    "train_y_log = np.log1p(train_y.loc[:, ['casual', 'registered']])\n",
    "valid_y_log = np.log1p(valid_y.loc[:, ['casual', 'registered']])\n",
    "\n",
    "model_registered = RFR(random_state=0, max_depth=20, min_samples_split=3, n_estimators=700, n_jobs=-1)\n",
    "model_registered.fit(train_X_3, train_y_log.loc[:, 'registered'])\n",
    "\n",
    "model_casual = RFR(random_state=0, max_depth=20, min_samples_split=3, n_estimators=700, n_jobs=-1)\n",
    "model_casual.fit(train_X_3, train_y_log.loc[:, 'casual'])\n",
    "\n",
    "train_pred_registered = model_registered.predict(train_X_3)\n",
    "train_pred_casual = model_casual.predict(train_X_3)\n",
    "train_pred_count = np.expm1(train_pred_registered) + np.expm1(train_pred_casual)\n",
    "\n",
    "valid_pred_registered = model_registered.predict(valid_X_2)\n",
    "valid_pred_casual = model_casual.predict(valid_X_2)\n",
    "valid_pred_count = np.expm1(valid_pred_registered) + np.expm1(valid_pred_casual)\n",
    "\n",
    "train_score = rmsle(train_y.loc[:, 'count'], train_pred_count)\n",
    "valid_score = rmsle(valid_y.loc[:, 'count'], valid_pred_count)\n",
    "\n",
    "sc = pd.DataFrame([['5', 'log', train_score, valid_score, None]], columns=scores_cols)\n",
    "if sc.values[0][0] not in scores.values:\n",
    "    scores = pd.concat([scores, sc], axis=0, ignore_index=True)\n",
    "print(scores)"
   ]
  },
  {
   "attachments": {},
   "cell_type": "markdown",
   "metadata": {},
   "source": [
    "### 仮説 6\n",
    "連続変数を標準化する．  \n",
    "仮説 5 の下で行う．"
   ]
  },
  {
   "cell_type": "code",
   "execution_count": 39,
   "metadata": {},
   "outputs": [],
   "source": [
    "train_6 = train_2.copy()\n",
    "test_6 = test_2.copy()\n",
    "cols = ['temp', 'atemp', 'humidity', 'windspeed']\n",
    "obj_cols = ['registered', 'casual', 'count', 'casual_log', 'registered_log']\n",
    "\n",
    "scaler = StandardScaler()\n",
    "train_6.loc[:, cols] = scaler.fit_transform(train_6.loc[:, cols])\n",
    "test_6.loc[:, cols] = scaler.transform(test_6.loc[:, cols])\n",
    "\n",
    "train_6['registered_log'] = np.log1p(train_6.loc[:, 'registered'])\n",
    "train_6['casual_log'] = np.log1p(train_6.loc[:, 'casual'])\n",
    "\n",
    "train_X_6, valid_X_6, train_y_6, valid_y_6 = train_test_split(\n",
    "    train_6.drop(obj_cols, axis=1), \n",
    "    train_6.loc[:, obj_cols])"
   ]
  },
  {
   "cell_type": "code",
   "execution_count": 38,
   "metadata": {},
   "outputs": [
    {
     "name": "stdout",
     "output_type": "stream",
     "text": [
      "   conditions                          descriptions     train     valid   \n",
      "0       First                                        0.152028  0.339617  \\\n",
      "1         0-1                       Hparam Tuning 1  0.270274  0.351236   \n",
      "2         0-2                       Hparam Tuning 2  0.186266  0.339103   \n",
      "3           1                         split obj var  0.156426  0.328699   \n",
      "4         2-1                windspeed == 0 -> drop  0.190929  0.333091   \n",
      "5         2-2                windspeed == 0 -> mean  0.156678  0.329988   \n",
      "6         2-3  windspeed == 0 -> linear replacement  0.156353  0.329178   \n",
      "7           3                     weather == 4 -> 3  0.156367  0.329180   \n",
      "8           4                         atemp -> drop  0.156701  0.330585   \n",
      "9           5                                   log  0.119066  0.304063   \n",
      "10          6                          log + scaler  0.120785  0.288149   \n",
      "\n",
      "   submissions  \n",
      "0         None  \n",
      "1      0.48367  \n",
      "2         None  \n",
      "3         None  \n",
      "4         None  \n",
      "5         None  \n",
      "6         None  \n",
      "7         None  \n",
      "8         None  \n",
      "9         None  \n",
      "10        None  \n"
     ]
    }
   ],
   "source": [
    "model_registered = RFR(random_state=0, max_depth=20, min_samples_split=3, n_estimators=700, n_jobs=-1)\n",
    "model_registered.fit(train_X_6, train_y_6.loc[:, 'registered_log'])\n",
    "\n",
    "model_casual = RFR(random_state=0, max_depth=20, min_samples_split=3, n_estimators=700, n_jobs=-1)\n",
    "model_casual.fit(train_X_6, train_y_6.loc[:, 'casual_log'])\n",
    "\n",
    "train_pred_registered = model_registered.predict(train_X_6)\n",
    "train_pred_casual = model_casual.predict(train_X_6)\n",
    "train_pred_count = np.expm1(train_pred_registered) + np.expm1(train_pred_casual)\n",
    "\n",
    "valid_pred_registered = model_registered.predict(valid_X_6)\n",
    "valid_pred_casual = model_casual.predict(valid_X_6)\n",
    "valid_pred_count = np.expm1(valid_pred_registered) + np.expm1(valid_pred_casual)\n",
    "\n",
    "train_score = rmsle(train_y_6.loc[:, 'count'], train_pred_count)\n",
    "valid_score = rmsle(valid_y_6.loc[:, 'count'], valid_pred_count)\n",
    "\n",
    "sc = pd.DataFrame([['6', 'log + scaler', train_score, valid_score, None]], columns=scores_cols)\n",
    "if sc.values[0][0] not in scores.values:\n",
    "    scores = pd.concat([scores, sc], axis=0, ignore_index=True)\n",
    "print(scores)"
   ]
  },
  {
   "attachments": {},
   "cell_type": "markdown",
   "metadata": {},
   "source": [
    "**仮説 6 の下で submit**"
   ]
  },
  {
   "cell_type": "code",
   "execution_count": 36,
   "metadata": {},
   "outputs": [
    {
     "ename": "KeyError",
     "evalue": "'registered_log'",
     "output_type": "error",
     "traceback": [
      "\u001b[0;31m---------------------------------------------------------------------------\u001b[0m",
      "\u001b[0;31mKeyError\u001b[0m                                  Traceback (most recent call last)",
      "File \u001b[0;32m~/py/kaggle/bike/.venv_bike/lib/python3.11/site-packages/pandas/core/indexes/base.py:3652\u001b[0m, in \u001b[0;36mIndex.get_loc\u001b[0;34m(self, key)\u001b[0m\n\u001b[1;32m   3651\u001b[0m \u001b[39mtry\u001b[39;00m:\n\u001b[0;32m-> 3652\u001b[0m     \u001b[39mreturn\u001b[39;00m \u001b[39mself\u001b[39;49m\u001b[39m.\u001b[39;49m_engine\u001b[39m.\u001b[39;49mget_loc(casted_key)\n\u001b[1;32m   3653\u001b[0m \u001b[39mexcept\u001b[39;00m \u001b[39mKeyError\u001b[39;00m \u001b[39mas\u001b[39;00m err:\n",
      "File \u001b[0;32m~/py/kaggle/bike/.venv_bike/lib/python3.11/site-packages/pandas/_libs/index.pyx:147\u001b[0m, in \u001b[0;36mpandas._libs.index.IndexEngine.get_loc\u001b[0;34m()\u001b[0m\n",
      "File \u001b[0;32m~/py/kaggle/bike/.venv_bike/lib/python3.11/site-packages/pandas/_libs/index.pyx:176\u001b[0m, in \u001b[0;36mpandas._libs.index.IndexEngine.get_loc\u001b[0;34m()\u001b[0m\n",
      "File \u001b[0;32mpandas/_libs/hashtable_class_helper.pxi:7080\u001b[0m, in \u001b[0;36mpandas._libs.hashtable.PyObjectHashTable.get_item\u001b[0;34m()\u001b[0m\n",
      "File \u001b[0;32mpandas/_libs/hashtable_class_helper.pxi:7088\u001b[0m, in \u001b[0;36mpandas._libs.hashtable.PyObjectHashTable.get_item\u001b[0;34m()\u001b[0m\n",
      "\u001b[0;31mKeyError\u001b[0m: 'registered_log'",
      "\nThe above exception was the direct cause of the following exception:\n",
      "\u001b[0;31mKeyError\u001b[0m                                  Traceback (most recent call last)",
      "Cell \u001b[0;32mIn[36], line 3\u001b[0m\n\u001b[1;32m      1\u001b[0m \u001b[39mif\u001b[39;00m \u001b[39mTrue\u001b[39;00m:\n\u001b[1;32m      2\u001b[0m     model_registered \u001b[39m=\u001b[39m RFR(random_state\u001b[39m=\u001b[39m\u001b[39m0\u001b[39m, max_depth\u001b[39m=\u001b[39m\u001b[39m20\u001b[39m, min_samples_split\u001b[39m=\u001b[39m\u001b[39m3\u001b[39m, n_estimators\u001b[39m=\u001b[39m\u001b[39m700\u001b[39m, n_jobs\u001b[39m=\u001b[39m\u001b[39m-\u001b[39m\u001b[39m1\u001b[39m)\n\u001b[0;32m----> 3\u001b[0m     model_registered\u001b[39m.\u001b[39mfit(train_6\u001b[39m.\u001b[39mdrop([\u001b[39m'\u001b[39m\u001b[39mcasual\u001b[39m\u001b[39m'\u001b[39m, \u001b[39m'\u001b[39m\u001b[39mregistered\u001b[39m\u001b[39m'\u001b[39m, \u001b[39m'\u001b[39m\u001b[39mcount\u001b[39m\u001b[39m'\u001b[39m], axis\u001b[39m=\u001b[39m\u001b[39m1\u001b[39m), train_6\u001b[39m.\u001b[39;49mloc[:, \u001b[39m'\u001b[39;49m\u001b[39mregistered_log\u001b[39;49m\u001b[39m'\u001b[39;49m])\n\u001b[1;32m      5\u001b[0m     model_casual \u001b[39m=\u001b[39m RFR(random_state\u001b[39m=\u001b[39m\u001b[39m0\u001b[39m, max_depth\u001b[39m=\u001b[39m\u001b[39m20\u001b[39m, min_samples_split\u001b[39m=\u001b[39m\u001b[39m3\u001b[39m, n_estimators\u001b[39m=\u001b[39m\u001b[39m700\u001b[39m, n_jobs\u001b[39m=\u001b[39m\u001b[39m-\u001b[39m\u001b[39m1\u001b[39m)\n\u001b[1;32m      6\u001b[0m     model_casual\u001b[39m.\u001b[39mfit(train_6\u001b[39m.\u001b[39mdrop([\u001b[39m'\u001b[39m\u001b[39mcasual\u001b[39m\u001b[39m'\u001b[39m, \u001b[39m'\u001b[39m\u001b[39mregistered\u001b[39m\u001b[39m'\u001b[39m, \u001b[39m'\u001b[39m\u001b[39mcount\u001b[39m\u001b[39m'\u001b[39m], axis\u001b[39m=\u001b[39m\u001b[39m1\u001b[39m), train_6\u001b[39m.\u001b[39mloc[:, \u001b[39m'\u001b[39m\u001b[39mcasual_log\u001b[39m\u001b[39m'\u001b[39m])\n",
      "File \u001b[0;32m~/py/kaggle/bike/.venv_bike/lib/python3.11/site-packages/pandas/core/indexing.py:1097\u001b[0m, in \u001b[0;36m_LocationIndexer.__getitem__\u001b[0;34m(self, key)\u001b[0m\n\u001b[1;32m   1095\u001b[0m     \u001b[39mif\u001b[39;00m \u001b[39mself\u001b[39m\u001b[39m.\u001b[39m_is_scalar_access(key):\n\u001b[1;32m   1096\u001b[0m         \u001b[39mreturn\u001b[39;00m \u001b[39mself\u001b[39m\u001b[39m.\u001b[39mobj\u001b[39m.\u001b[39m_get_value(\u001b[39m*\u001b[39mkey, takeable\u001b[39m=\u001b[39m\u001b[39mself\u001b[39m\u001b[39m.\u001b[39m_takeable)\n\u001b[0;32m-> 1097\u001b[0m     \u001b[39mreturn\u001b[39;00m \u001b[39mself\u001b[39;49m\u001b[39m.\u001b[39;49m_getitem_tuple(key)\n\u001b[1;32m   1098\u001b[0m \u001b[39melse\u001b[39;00m:\n\u001b[1;32m   1099\u001b[0m     \u001b[39m# we by definition only have the 0th axis\u001b[39;00m\n\u001b[1;32m   1100\u001b[0m     axis \u001b[39m=\u001b[39m \u001b[39mself\u001b[39m\u001b[39m.\u001b[39maxis \u001b[39mor\u001b[39;00m \u001b[39m0\u001b[39m\n",
      "File \u001b[0;32m~/py/kaggle/bike/.venv_bike/lib/python3.11/site-packages/pandas/core/indexing.py:1280\u001b[0m, in \u001b[0;36m_LocIndexer._getitem_tuple\u001b[0;34m(self, tup)\u001b[0m\n\u001b[1;32m   1278\u001b[0m \u001b[39mwith\u001b[39;00m suppress(IndexingError):\n\u001b[1;32m   1279\u001b[0m     tup \u001b[39m=\u001b[39m \u001b[39mself\u001b[39m\u001b[39m.\u001b[39m_expand_ellipsis(tup)\n\u001b[0;32m-> 1280\u001b[0m     \u001b[39mreturn\u001b[39;00m \u001b[39mself\u001b[39;49m\u001b[39m.\u001b[39;49m_getitem_lowerdim(tup)\n\u001b[1;32m   1282\u001b[0m \u001b[39m# no multi-index, so validate all of the indexers\u001b[39;00m\n\u001b[1;32m   1283\u001b[0m tup \u001b[39m=\u001b[39m \u001b[39mself\u001b[39m\u001b[39m.\u001b[39m_validate_tuple_indexer(tup)\n",
      "File \u001b[0;32m~/py/kaggle/bike/.venv_bike/lib/python3.11/site-packages/pandas/core/indexing.py:1000\u001b[0m, in \u001b[0;36m_LocationIndexer._getitem_lowerdim\u001b[0;34m(self, tup)\u001b[0m\n\u001b[1;32m    996\u001b[0m \u001b[39mfor\u001b[39;00m i, key \u001b[39min\u001b[39;00m \u001b[39menumerate\u001b[39m(tup):\n\u001b[1;32m    997\u001b[0m     \u001b[39mif\u001b[39;00m is_label_like(key):\n\u001b[1;32m    998\u001b[0m         \u001b[39m# We don't need to check for tuples here because those are\u001b[39;00m\n\u001b[1;32m    999\u001b[0m         \u001b[39m#  caught by the _is_nested_tuple_indexer check above.\u001b[39;00m\n\u001b[0;32m-> 1000\u001b[0m         section \u001b[39m=\u001b[39m \u001b[39mself\u001b[39;49m\u001b[39m.\u001b[39;49m_getitem_axis(key, axis\u001b[39m=\u001b[39;49mi)\n\u001b[1;32m   1002\u001b[0m         \u001b[39m# We should never have a scalar section here, because\u001b[39;00m\n\u001b[1;32m   1003\u001b[0m         \u001b[39m#  _getitem_lowerdim is only called after a check for\u001b[39;00m\n\u001b[1;32m   1004\u001b[0m         \u001b[39m#  is_scalar_access, which that would be.\u001b[39;00m\n\u001b[1;32m   1005\u001b[0m         \u001b[39mif\u001b[39;00m section\u001b[39m.\u001b[39mndim \u001b[39m==\u001b[39m \u001b[39mself\u001b[39m\u001b[39m.\u001b[39mndim:\n\u001b[1;32m   1006\u001b[0m             \u001b[39m# we're in the middle of slicing through a MultiIndex\u001b[39;00m\n\u001b[1;32m   1007\u001b[0m             \u001b[39m# revise the key wrt to `section` by inserting an _NS\u001b[39;00m\n",
      "File \u001b[0;32m~/py/kaggle/bike/.venv_bike/lib/python3.11/site-packages/pandas/core/indexing.py:1343\u001b[0m, in \u001b[0;36m_LocIndexer._getitem_axis\u001b[0;34m(self, key, axis)\u001b[0m\n\u001b[1;32m   1341\u001b[0m \u001b[39m# fall thru to straight lookup\u001b[39;00m\n\u001b[1;32m   1342\u001b[0m \u001b[39mself\u001b[39m\u001b[39m.\u001b[39m_validate_key(key, axis)\n\u001b[0;32m-> 1343\u001b[0m \u001b[39mreturn\u001b[39;00m \u001b[39mself\u001b[39;49m\u001b[39m.\u001b[39;49m_get_label(key, axis\u001b[39m=\u001b[39;49maxis)\n",
      "File \u001b[0;32m~/py/kaggle/bike/.venv_bike/lib/python3.11/site-packages/pandas/core/indexing.py:1293\u001b[0m, in \u001b[0;36m_LocIndexer._get_label\u001b[0;34m(self, label, axis)\u001b[0m\n\u001b[1;32m   1291\u001b[0m \u001b[39mdef\u001b[39;00m \u001b[39m_get_label\u001b[39m(\u001b[39mself\u001b[39m, label, axis: AxisInt):\n\u001b[1;32m   1292\u001b[0m     \u001b[39m# GH#5567 this will fail if the label is not present in the axis.\u001b[39;00m\n\u001b[0;32m-> 1293\u001b[0m     \u001b[39mreturn\u001b[39;00m \u001b[39mself\u001b[39;49m\u001b[39m.\u001b[39;49mobj\u001b[39m.\u001b[39;49mxs(label, axis\u001b[39m=\u001b[39;49maxis)\n",
      "File \u001b[0;32m~/py/kaggle/bike/.venv_bike/lib/python3.11/site-packages/pandas/core/generic.py:4082\u001b[0m, in \u001b[0;36mNDFrame.xs\u001b[0;34m(self, key, axis, level, drop_level)\u001b[0m\n\u001b[1;32m   4080\u001b[0m \u001b[39mif\u001b[39;00m axis \u001b[39m==\u001b[39m \u001b[39m1\u001b[39m:\n\u001b[1;32m   4081\u001b[0m     \u001b[39mif\u001b[39;00m drop_level:\n\u001b[0;32m-> 4082\u001b[0m         \u001b[39mreturn\u001b[39;00m \u001b[39mself\u001b[39;49m[key]\n\u001b[1;32m   4083\u001b[0m     index \u001b[39m=\u001b[39m \u001b[39mself\u001b[39m\u001b[39m.\u001b[39mcolumns\n\u001b[1;32m   4084\u001b[0m \u001b[39melse\u001b[39;00m:\n",
      "File \u001b[0;32m~/py/kaggle/bike/.venv_bike/lib/python3.11/site-packages/pandas/core/frame.py:3761\u001b[0m, in \u001b[0;36mDataFrame.__getitem__\u001b[0;34m(self, key)\u001b[0m\n\u001b[1;32m   3759\u001b[0m \u001b[39mif\u001b[39;00m \u001b[39mself\u001b[39m\u001b[39m.\u001b[39mcolumns\u001b[39m.\u001b[39mnlevels \u001b[39m>\u001b[39m \u001b[39m1\u001b[39m:\n\u001b[1;32m   3760\u001b[0m     \u001b[39mreturn\u001b[39;00m \u001b[39mself\u001b[39m\u001b[39m.\u001b[39m_getitem_multilevel(key)\n\u001b[0;32m-> 3761\u001b[0m indexer \u001b[39m=\u001b[39m \u001b[39mself\u001b[39;49m\u001b[39m.\u001b[39;49mcolumns\u001b[39m.\u001b[39;49mget_loc(key)\n\u001b[1;32m   3762\u001b[0m \u001b[39mif\u001b[39;00m is_integer(indexer):\n\u001b[1;32m   3763\u001b[0m     indexer \u001b[39m=\u001b[39m [indexer]\n",
      "File \u001b[0;32m~/py/kaggle/bike/.venv_bike/lib/python3.11/site-packages/pandas/core/indexes/base.py:3654\u001b[0m, in \u001b[0;36mIndex.get_loc\u001b[0;34m(self, key)\u001b[0m\n\u001b[1;32m   3652\u001b[0m     \u001b[39mreturn\u001b[39;00m \u001b[39mself\u001b[39m\u001b[39m.\u001b[39m_engine\u001b[39m.\u001b[39mget_loc(casted_key)\n\u001b[1;32m   3653\u001b[0m \u001b[39mexcept\u001b[39;00m \u001b[39mKeyError\u001b[39;00m \u001b[39mas\u001b[39;00m err:\n\u001b[0;32m-> 3654\u001b[0m     \u001b[39mraise\u001b[39;00m \u001b[39mKeyError\u001b[39;00m(key) \u001b[39mfrom\u001b[39;00m \u001b[39merr\u001b[39;00m\n\u001b[1;32m   3655\u001b[0m \u001b[39mexcept\u001b[39;00m \u001b[39mTypeError\u001b[39;00m:\n\u001b[1;32m   3656\u001b[0m     \u001b[39m# If we have a listlike key, _check_indexing_error will raise\u001b[39;00m\n\u001b[1;32m   3657\u001b[0m     \u001b[39m#  InvalidIndexError. Otherwise we fall through and re-raise\u001b[39;00m\n\u001b[1;32m   3658\u001b[0m     \u001b[39m#  the TypeError.\u001b[39;00m\n\u001b[1;32m   3659\u001b[0m     \u001b[39mself\u001b[39m\u001b[39m.\u001b[39m_check_indexing_error(key)\n",
      "\u001b[0;31mKeyError\u001b[0m: 'registered_log'"
     ]
    }
   ],
   "source": [
    "if True:\n",
    "    model_registered = RFR(random_state=0, max_depth=20, min_samples_split=3, n_estimators=700, n_jobs=-1)\n",
    "    model_registered.fit(train_6.drop(obj_cols, axis=1), train_6.loc[:, 'registered_log'])\n",
    "\n",
    "    model_casual = RFR(random_state=0, max_depth=20, min_samples_split=3, n_estimators=700, n_jobs=-1)\n",
    "    model_casual.fit(train_6.drop(obj_cols, axis=1), train_6.loc[:, 'casual_log'])\n",
    "\n",
    "    test_pred_registered = model_registered.predict(test_6)\n",
    "    test_pred_casual = model_casual.predict(test_6)\n",
    "    test_pred_count = np.expm1(test_pred_registered) + np.expm1(test_pred_casual)\n",
    "\n",
    "    test_submittion = pd.DataFrame({'datetime': test_6.index, 'count': test_pred_count})\n",
    "    test_submittion.to_csv('./data/output/submission_rf_6.csv', index=False)"
   ]
  },
  {
   "cell_type": "code",
   "execution_count": null,
   "metadata": {},
   "outputs": [],
   "source": []
  }
 ],
 "metadata": {
  "kernelspec": {
   "display_name": ".venv_bike",
   "language": "python",
   "name": "python3"
  },
  "language_info": {
   "codemirror_mode": {
    "name": "ipython",
    "version": 3
   },
   "file_extension": ".py",
   "mimetype": "text/x-python",
   "name": "python",
   "nbconvert_exporter": "python",
   "pygments_lexer": "ipython3",
   "version": "3.11.2"
  },
  "orig_nbformat": 4
 },
 "nbformat": 4,
 "nbformat_minor": 2
}
