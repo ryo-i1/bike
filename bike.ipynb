{
 "cells": [
  {
   "cell_type": "code",
   "execution_count": 23,
   "metadata": {},
   "outputs": [],
   "source": [
    "import numpy as np\n",
    "import pandas as pd\n",
    "import matplotlib.pyplot as plt\n",
    "import seaborn as sns\n",
    "%matplotlib inline\n",
    "from sklearn.model_selection import train_test_split, GridSearchCV\n",
    "from sklearn.ensemble import RandomForestRegressor as RFR\n",
    "from sklearn.preprocessing import StandardScaler\n",
    "from sklearn.model_selection import learning_curve\n",
    "from sklearn.model_selection import validation_curve\n",
    "\n",
    "train = pd.read_csv('./data/input/train.csv', parse_dates=['datetime'])\n",
    "test = pd.read_csv('./data/input/test.csv', parse_dates=['datetime'])"
   ]
  },
  {
   "cell_type": "code",
   "execution_count": 24,
   "metadata": {},
   "outputs": [],
   "source": [
    "def rmsle(y, y_):\n",
    "    log1 = np.log(y + 1)\n",
    "    log2 = np.log(y_ + 1)\n",
    "    mean = np.square((log1- log2)).mean()\n",
    "    return np.sqrt(mean)"
   ]
  },
  {
   "cell_type": "code",
   "execution_count": 25,
   "metadata": {},
   "outputs": [],
   "source": [
    "scores_cols = ['number', 'descriptions', 'rmsle']\n",
    "scores = pd.DataFrame(columns=scores_cols)"
   ]
  },
  {
   "cell_type": "code",
   "execution_count": 26,
   "metadata": {},
   "outputs": [],
   "source": [
    "def add_score(number, descriptions, rmsle, scores_df):\n",
    "    sc_df = pd.DataFrame([[number, descriptions, rmsle]], columns=scores_cols)\n",
    "    for i in range(len(scores_df)):\n",
    "        if scores_df.loc[:, 'number'][i] == sc_df['number'][0]:\n",
    "            scores_df.drop(index=i, inplace=True)\n",
    "    scores_df = pd.concat([scores_df, sc_df], axis=0, ignore_index=True)\n",
    "    print(scores_df)\n",
    "    return scores_df"
   ]
  },
  {
   "attachments": {},
   "cell_type": "markdown",
   "metadata": {},
   "source": [
    "# データ前処理"
   ]
  },
  {
   "attachments": {},
   "cell_type": "markdown",
   "metadata": {},
   "source": [
    "## datetime の処理"
   ]
  },
  {
   "cell_type": "code",
   "execution_count": 27,
   "metadata": {},
   "outputs": [],
   "source": [
    "train['year'] = train.loc[:, 'datetime'].dt.year\n",
    "train['month'] = train.loc[:, 'datetime'].dt.month\n",
    "train['day'] = train.loc[:, 'datetime'].dt.day\n",
    "train['hour'] = train.loc[:, 'datetime'].dt.hour\n",
    "train['weekday'] = train.loc[:, 'datetime'].dt.weekday\n",
    "\n",
    "test['year'] = test.loc[:, 'datetime'].dt.year\n",
    "test['month'] = test.loc[:, 'datetime'].dt.month\n",
    "test['day'] = test.loc[:, 'datetime'].dt.day\n",
    "test['hour'] = test.loc[:, 'datetime'].dt.hour\n",
    "test['weekday'] = test.loc[:, 'datetime'].dt.weekday"
   ]
  },
  {
   "attachments": {},
   "cell_type": "markdown",
   "metadata": {},
   "source": [
    "## 検証用データの作成"
   ]
  },
  {
   "cell_type": "code",
   "execution_count": 28,
   "metadata": {},
   "outputs": [],
   "source": [
    "drop_cols = ['datetime', 'count', 'casual', 'registered']\n",
    "test_use_cols = [col for col in train.columns if col not in drop_cols]\n",
    "\n",
    "train_X, valid_X, train_y, valid_y = train_test_split(\n",
    "    train.drop(columns=drop_cols),\n",
    "    train.loc[:, ['registered', 'casual', 'count']],\n",
    "    test_size=0.3, random_state=0)"
   ]
  },
  {
   "attachments": {},
   "cell_type": "markdown",
   "metadata": {},
   "source": [
    "# RF 実装\n",
    "count を直接予測する．"
   ]
  },
  {
   "cell_type": "code",
   "execution_count": 29,
   "metadata": {},
   "outputs": [
    {
     "name": "stdout",
     "output_type": "stream",
     "text": [
      "  number   descriptions     rmsle\n",
      "0     00  Initial score  0.339617\n"
     ]
    }
   ],
   "source": [
    "model_rf = RFR(random_state=0)\n",
    "model_rf.fit(train_X, train_y.loc[:, 'count'])\n",
    "\n",
    "train_pred = model_rf.predict(train_X)\n",
    "train_score = rmsle(train_y.loc[:, 'count'], train_pred)\n",
    "\n",
    "valid_pred = model_rf.predict(valid_X)\n",
    "valid_score = rmsle(valid_y.loc[:, 'count'], valid_pred)\n",
    "\n",
    "val_score = rmsle(valid_y.loc[:, 'count'], valid_pred)\n",
    "scores = add_score('00', 'Initial score', val_score, scores)"
   ]
  },
  {
   "attachments": {},
   "cell_type": "markdown",
   "metadata": {},
   "source": [
    "# Highperparameter Tuning  \n",
    "using GridSearch"
   ]
  },
  {
   "cell_type": "code",
   "execution_count": 30,
   "metadata": {},
   "outputs": [],
   "source": [
    "# RF GridSearchCV\n",
    "if False:\n",
    "    params = [{\n",
    "        'max_depth': [30],\n",
    "        'min_samples_leaf': [1],\n",
    "        'min_samples_split': [2],\n",
    "        'n_estimators': [300, 400, 500]\n",
    "    }]\n",
    "\n",
    "    gscv = GridSearchCV(\n",
    "        RFR(random_state=0, n_estimators=300, n_jobs=-1),\n",
    "        param_grid=params,\n",
    "        cv=5,\n",
    "        verbose=2\n",
    "        )\n",
    "\n",
    "    gscv.fit(train_X, train_y.loc[:, 'count'])"
   ]
  },
  {
   "cell_type": "code",
   "execution_count": 31,
   "metadata": {},
   "outputs": [],
   "source": [
    "# RF GridSearchCV check params\n",
    "if False:\n",
    "    print(gscv.best_params_)\n",
    "    model_rf_best = gscv.best_estimator_\n",
    "    model_rf_best.fit(train_X, train_y.loc[:, 'count'])\n",
    "    print('train: ', model_rf_best.score(train_X, train_y.loc[:, 'count']))\n",
    "    print('valid: ', model_rf_best.score(valid_X, valid_y.loc[:, 'count']))\n",
    "\n",
    "    # results\n",
    "    gscv_results = pd.DataFrame(gscv.cv_results_)\n",
    "    print(gscv_results.loc[:, ['params', 'mean_test_score', 'rank_test_score']].sort_values(by='rank_test_score'))"
   ]
  },
  {
   "cell_type": "code",
   "execution_count": 32,
   "metadata": {},
   "outputs": [
    {
     "name": "stdout",
     "output_type": "stream",
     "text": [
      "train:  0.9933231000841934\n",
      "valid:  0.9444810072893175\n",
      "train:  0.1508284554568384\n",
      "valid:  0.3374299975599595\n"
     ]
    }
   ],
   "source": [
    "model_rf_best = RFR(random_state=0, n_jobs=-1, max_depth=30, min_samples_leaf=1, min_samples_split=2, n_estimators=400)\n",
    "model_rf_best.fit(train_X, train_y.loc[:, 'count'])\n",
    "\n",
    "print('train: ', model_rf_best.score(train_X, train_y.loc[:, 'count']))\n",
    "print('valid: ', model_rf_best.score(valid_X, valid_y.loc[:, 'count']))\n",
    "\n",
    "train_pred = model_rf_best.predict(train_X)\n",
    "valid_pred = model_rf_best.predict(valid_X)\n",
    "print('train: ', rmsle(train_y.loc[:, 'count'], train_pred))\n",
    "print('valid: ', rmsle(valid_y.loc[:, 'count'], valid_pred))"
   ]
  },
  {
   "cell_type": "code",
   "execution_count": 33,
   "metadata": {},
   "outputs": [],
   "source": [
    "def RF_Model(tr_X, tr_y, val_X, val_y):\n",
    "    model = RFR(random_state=0, n_jobs=-1, max_depth=30, min_samples_leaf=1, min_samples_split=2, n_estimators=400)\n",
    "    model.fit(tr_X, tr_y)\n",
    "    pred = model.predict(val_X)\n",
    "    sc = rmsle(val_y, pred)\n",
    "    return sc"
   ]
  },
  {
   "cell_type": "code",
   "execution_count": 34,
   "metadata": {},
   "outputs": [
    {
     "name": "stdout",
     "output_type": "stream",
     "text": [
      "  number             descriptions     rmsle\n",
      "0     00            Initial score  0.339617\n",
      "1     01  Highperparameter Tuning  0.337430\n"
     ]
    }
   ],
   "source": [
    "val_score = RF_Model(train_X, train_y.loc[:, 'count'], valid_X, valid_y.loc[:, 'count'])\n",
    "scores = add_score('01', 'Highperparameter Tuning', val_score, scores)"
   ]
  },
  {
   "attachments": {},
   "cell_type": "markdown",
   "metadata": {},
   "source": [
    "# 仮説検証"
   ]
  },
  {
   "attachments": {},
   "cell_type": "markdown",
   "metadata": {},
   "source": [
    "## 仮説 1\n",
    "count を registered と casual の和として予測する．"
   ]
  },
  {
   "cell_type": "code",
   "execution_count": 35,
   "metadata": {},
   "outputs": [
    {
     "name": "stdout",
     "output_type": "stream",
     "text": [
      "  number             descriptions     rmsle\n",
      "0     00            Initial score  0.339617\n",
      "1     01  Highperparameter Tuning  0.337430\n",
      "2     10   Directly predict count  0.337430\n"
     ]
    }
   ],
   "source": [
    "# directlly predict count\n",
    "val_sc = RF_Model(train_X, train_y.loc[:, 'count'], valid_X, valid_y.loc[:, 'count'])\n",
    "scores = add_score('10', 'Directly predict count', val_sc, scores)"
   ]
  },
  {
   "cell_type": "code",
   "execution_count": 36,
   "metadata": {},
   "outputs": [],
   "source": [
    "def RF_Model_Sum(tr_X, tr_y, val_X, val_y):\n",
    "    model_r = RFR(random_state=0, n_jobs=-1, max_depth=30, min_samples_leaf=1, min_samples_split=2, n_estimators=400)\n",
    "    model_r.fit(tr_X, tr_y.loc[:, 'registered'])\n",
    "    pred_r = model_r.predict(val_X)\n",
    "\n",
    "    model_c = RFR(random_state=0, n_jobs=-1, max_depth=30, min_samples_leaf=1, min_samples_split=2, n_estimators=400)\n",
    "    model_c.fit(tr_X, tr_y.loc[:, 'casual'])\n",
    "    pred_c = model_c.predict(val_X)\n",
    "\n",
    "    pred = pred_r + pred_c\n",
    "    sc = rmsle(val_y.loc[:, 'count'], pred)\n",
    "    return sc"
   ]
  },
  {
   "cell_type": "code",
   "execution_count": 37,
   "metadata": {},
   "outputs": [
    {
     "name": "stdout",
     "output_type": "stream",
     "text": [
      "  number                  descriptions     rmsle\n",
      "0     00                 Initial score  0.339617\n",
      "1     01       Highperparameter Tuning  0.337430\n",
      "2     10        Directly predict count  0.337430\n",
      "3     11  Sum of casual and registered  0.328189\n"
     ]
    }
   ],
   "source": [
    "# predict casual and registered\n",
    "sc = RF_Model_Sum(train_X, train_y, valid_X, valid_y)\n",
    "scores = add_score('11', 'Sum of casual and registered', sc, scores)"
   ]
  },
  {
   "attachments": {},
   "cell_type": "markdown",
   "metadata": {},
   "source": [
    "## 仮説 2  \n",
    "風速 0 について"
   ]
  },
  {
   "attachments": {},
   "cell_type": "markdown",
   "metadata": {},
   "source": [
    "### 仮説 2-1\n",
    "風速 0 を削除"
   ]
  },
  {
   "cell_type": "code",
   "execution_count": 38,
   "metadata": {},
   "outputs": [
    {
     "name": "stdout",
     "output_type": "stream",
     "text": [
      "  number                  descriptions     rmsle\n",
      "0     00                 Initial score  0.339617\n",
      "1     01       Highperparameter Tuning  0.337430\n",
      "2     10        Directly predict count  0.337430\n",
      "3     11  Sum of casual and registered  0.328189\n",
      "4     20      [windspeed==0] : deleted  0.328524\n"
     ]
    }
   ],
   "source": [
    "sc = RF_Model_Sum(train_X[train_X.loc[:, 'windspeed'] != 0], \n",
    "                  train_y[train_X.loc[:, 'windspeed'] != 0], \n",
    "                  valid_X[valid_X.loc[:, 'windspeed'] != 0], \n",
    "                  valid_y[valid_X.loc[:, 'windspeed'] != 0])\n",
    "scores = add_score('20', '[windspeed==0] : deleted', sc, scores)"
   ]
  },
  {
   "attachments": {},
   "cell_type": "markdown",
   "metadata": {},
   "source": [
    "### 仮説 2-2\n",
    "風速 0 を平均値に置き換え"
   ]
  },
  {
   "cell_type": "code",
   "execution_count": 39,
   "metadata": {},
   "outputs": [
    {
     "name": "stdout",
     "output_type": "stream",
     "text": [
      "  number                        descriptions     rmsle\n",
      "0     00                       Initial score  0.339617\n",
      "1     01             Highperparameter Tuning  0.337430\n",
      "2     10              Directly predict count  0.337430\n",
      "3     11        Sum of casual and registered  0.328189\n",
      "4     20            [windspeed==0] : deleted  0.328524\n",
      "5     21  [windspeed==0] : replace with mean  0.328424\n"
     ]
    }
   ],
   "source": [
    "train_X_2 = train_X.copy()\n",
    "train_X_2.loc[train_X_2.loc[:, 'windspeed'] == 0, 'windspeed'] = train.loc[train.loc[:, 'windspeed'] != 0, 'windspeed'].mean()\n",
    "\n",
    "valid_X_2 = valid_X.copy()\n",
    "valid_X_2.loc[valid_X_2.loc[:, 'windspeed'] == 0, 'windspeed'] = train.loc[train.loc[:, 'windspeed'] != 0, 'windspeed'].mean()\n",
    "\n",
    "sc = RF_Model_Sum(train_X_2, train_y, valid_X_2, valid_y)\n",
    "scores = add_score('21', '[windspeed==0] : replace with mean', sc, scores)"
   ]
  },
  {
   "attachments": {},
   "cell_type": "markdown",
   "metadata": {},
   "source": [
    "### 仮説 2-3\n",
    "風速 0 を線形補完"
   ]
  },
  {
   "cell_type": "code",
   "execution_count": 40,
   "metadata": {},
   "outputs": [],
   "source": [
    "train_2 = train.copy()\n",
    "train_2.loc[:, 'datetime'] = pd.to_datetime(train_2.loc[:, 'datetime'])\n",
    "train_2.set_index('datetime', inplace=True)\n",
    "train_2.replace({'windspeed': 0}, np.nan, inplace=True)\n",
    "train_2.interpolate(method='time', inplace=True, limit_direction='both')\n",
    "\n",
    "test_2 = test.copy()\n",
    "test_2.loc[:, 'datetime'] = pd.to_datetime(test_2.loc[:, 'datetime'])\n",
    "test_2.set_index('datetime', inplace=True)\n",
    "test_2.replace({'windspeed': 0}, np.nan, inplace=True)\n",
    "test_2.interpolate(method='time', inplace=True, limit_direction='both')"
   ]
  },
  {
   "cell_type": "code",
   "execution_count": 41,
   "metadata": {},
   "outputs": [],
   "source": [
    "train_X_2, valid_X_2, train_y_2, valid_y_2 = train_test_split(\n",
    "    train_2.drop(columns=['registered', 'casual', 'count']),\n",
    "    train_2.loc[:, ['registered', 'casual', 'count']],\n",
    "    test_size=0.3, random_state=0)"
   ]
  },
  {
   "cell_type": "code",
   "execution_count": 42,
   "metadata": {},
   "outputs": [
    {
     "name": "stdout",
     "output_type": "stream",
     "text": [
      "  number                        descriptions     rmsle\n",
      "0     00                       Initial score  0.339617\n",
      "1     01             Highperparameter Tuning  0.337430\n",
      "2     10              Directly predict count  0.337430\n",
      "3     11        Sum of casual and registered  0.328189\n",
      "4     20            [windspeed==0] : deleted  0.328524\n",
      "5     21  [windspeed==0] : replace with mean  0.328424\n",
      "6     22        [windspeed==0] : interpolate  0.328151\n"
     ]
    }
   ],
   "source": [
    "sc = RF_Model_Sum(train_X_2, train_y_2, valid_X_2, valid_y_2)\n",
    "scores = add_score('22', '[windspeed==0] : interpolate', sc, scores)"
   ]
  },
  {
   "attachments": {},
   "cell_type": "markdown",
   "metadata": {},
   "source": [
    "## 仮説 3\n",
    "天候 4 を 3 とする．  \n",
    "仮説 1, 仮説 2-3 の手法を用いる．"
   ]
  },
  {
   "cell_type": "code",
   "execution_count": 43,
   "metadata": {},
   "outputs": [
    {
     "name": "stdout",
     "output_type": "stream",
     "text": [
      "1 2\n"
     ]
    }
   ],
   "source": [
    "print(len(train_X_2[train_X_2.weather == 4]), len(test_2[test_2.weather == 4]))"
   ]
  },
  {
   "cell_type": "code",
   "execution_count": 44,
   "metadata": {},
   "outputs": [],
   "source": [
    "train_X_3 = train_X_2.replace({'weather': 4}, 3, inplace=False)\n",
    "valid_X_3 = valid_X_2.replace({'weather': 4}, 3, inplace=False)\n",
    "train_y_3 = train_y_2\n",
    "valid_y_3 = valid_y_2"
   ]
  },
  {
   "cell_type": "code",
   "execution_count": 45,
   "metadata": {},
   "outputs": [
    {
     "name": "stdout",
     "output_type": "stream",
     "text": [
      "  number                        descriptions     rmsle\n",
      "0     00                       Initial score  0.339617\n",
      "1     01             Highperparameter Tuning  0.337430\n",
      "2     10              Directly predict count  0.337430\n",
      "3     11        Sum of casual and registered  0.328189\n",
      "4     20            [windspeed==0] : deleted  0.328524\n",
      "5     21  [windspeed==0] : replace with mean  0.328424\n",
      "6     22        [windspeed==0] : interpolate  0.328151\n",
      "7     30       [weather==4] : replace with 3  0.328114\n"
     ]
    }
   ],
   "source": [
    "sc = RF_Model_Sum(train_X_3, train_y_2, valid_X_3, valid_y_2)\n",
    "scores = add_score('30', '[weather==4] : replace with 3', sc, scores)"
   ]
  },
  {
   "attachments": {},
   "cell_type": "markdown",
   "metadata": {},
   "source": [
    "## 仮説 4\n",
    "atemp を使用しない．  \n",
    "仮説 3 の下で行う．"
   ]
  },
  {
   "cell_type": "code",
   "execution_count": 46,
   "metadata": {},
   "outputs": [
    {
     "name": "stdout",
     "output_type": "stream",
     "text": [
      "  number                        descriptions     rmsle\n",
      "0     00                       Initial score  0.339617\n",
      "1     01             Highperparameter Tuning  0.337430\n",
      "2     10              Directly predict count  0.337430\n",
      "3     11        Sum of casual and registered  0.328189\n",
      "4     20            [windspeed==0] : deleted  0.328524\n",
      "5     21  [windspeed==0] : replace with mean  0.328424\n",
      "6     22        [windspeed==0] : interpolate  0.328151\n",
      "7     30       [weather==4] : replace with 3  0.328114\n",
      "8     40                   [atemp] : deleted  0.330337\n"
     ]
    }
   ],
   "source": [
    "sc = RF_Model_Sum(train_X_3.drop(columns=['atemp']),\n",
    "                  train_y_3,\n",
    "                  valid_X_3.drop(columns=['atemp']),\n",
    "                    valid_y_3)\n",
    "scores = add_score('40', '[atemp] : deleted', sc, scores)"
   ]
  },
  {
   "attachments": {},
   "cell_type": "markdown",
   "metadata": {},
   "source": [
    "## 仮説 5\n",
    "目的変数を対数変換する．log(x + 1)  \n",
    "仮説 3 の下で行う．"
   ]
  },
  {
   "cell_type": "code",
   "execution_count": 47,
   "metadata": {},
   "outputs": [
    {
     "data": {
      "image/png": "[encoded data removed]",
      "text/plain": [
       "<Figure size 1300x300 with 3 Axes>"
      ]
     },
     "metadata": {},
     "output_type": "display_data"
    }
   ],
   "source": [
    "# 自然対数\n",
    "fig, axes = plt.subplots(1, 3, figsize=(13, 3))\n",
    "sns.histplot(train['count'], ax=axes[0])\n",
    "sns.histplot(np.log(train['count']), ax=axes[1])\n",
    "sns.histplot(np.log1p(train['count']), ax=axes[2])\n",
    "plt.show()"
   ]
  },
  {
   "cell_type": "code",
   "execution_count": 55,
   "metadata": {},
   "outputs": [],
   "source": [
    "def RF_Model_Sum_logex(tr_X, tr_y, val_X, val_y):\n",
    "    model_r = RFR(random_state=0, n_jobs=-1, max_depth=30, min_samples_leaf=1, min_samples_split=2, n_estimators=400)\n",
    "    model_r.fit(tr_X, np.log1p(tr_y.loc[:, 'registered']))\n",
    "    pred_r = model_r.predict(val_X)\n",
    "\n",
    "    model_c = RFR(random_state=0, n_jobs=-1, max_depth=30, min_samples_leaf=1, min_samples_split=2, n_estimators=400)\n",
    "    model_c.fit(tr_X, np.log1p(tr_y.loc[:, 'casual']))\n",
    "    pred_c = model_c.predict(val_X)\n",
    "\n",
    "    pred = np.expm1(pred_r) + np.expm1(pred_c)\n",
    "    sc = rmsle(val_y.loc[:, 'count'], pred)\n",
    "    return sc"
   ]
  },
  {
   "cell_type": "code",
   "execution_count": 56,
   "metadata": {},
   "outputs": [
    {
     "name": "stdout",
     "output_type": "stream",
     "text": [
      "  number                        descriptions     rmsle\n",
      "0     00                       Initial score  0.339617\n",
      "1     01             Highperparameter Tuning  0.337430\n",
      "2     10              Directly predict count  0.337430\n",
      "3     11        Sum of casual and registered  0.328189\n",
      "4     20            [windspeed==0] : deleted  0.328524\n",
      "5     21  [windspeed==0] : replace with mean  0.328424\n",
      "6     22        [windspeed==0] : interpolate  0.328151\n",
      "7     30       [weather==4] : replace with 3  0.328114\n",
      "8     40                   [atemp] : deleted  0.330337\n",
      "9     50                               logex  0.304823\n"
     ]
    }
   ],
   "source": [
    "sc = RF_Model_Sum_logex(train_X_3, train_y_3, valid_X_3, valid_y_3)\n",
    "scores = add_score('50', 'logex', sc, scores)"
   ]
  },
  {
   "attachments": {},
   "cell_type": "markdown",
   "metadata": {},
   "source": [
    "## 仮説 6\n",
    "連続変数を標準化する．  \n",
    "仮説 5 の下で行う．"
   ]
  },
  {
   "cell_type": "code",
   "execution_count": 60,
   "metadata": {},
   "outputs": [
    {
     "name": "stdout",
     "output_type": "stream",
     "text": [
      "   number                        descriptions     rmsle\n",
      "0      00                       Initial score  0.339617\n",
      "1      01             Highperparameter Tuning  0.337430\n",
      "2      10              Directly predict count  0.337430\n",
      "3      11        Sum of casual and registered  0.328189\n",
      "4      20            [windspeed==0] : deleted  0.328524\n",
      "5      21  [windspeed==0] : replace with mean  0.328424\n",
      "6      22        [windspeed==0] : interpolate  0.328151\n",
      "7      30       [weather==4] : replace with 3  0.328114\n",
      "8      40                   [atemp] : deleted  0.330337\n",
      "9      50                               logex  0.304823\n",
      "10     60              logex + StandardScaler  0.304642\n"
     ]
    }
   ],
   "source": [
    "cols = ['temp', 'atemp', 'humidity', 'windspeed']\n",
    "train_X_6 = train_X_3.copy()\n",
    "valid_X_6 = valid_X_3.copy()\n",
    "train_y_6 = train_y_3.copy()\n",
    "valid_y_6 = valid_y_3.copy()\n",
    "\n",
    "scaler = StandardScaler()\n",
    "scaler.fit(pd.concat([train_X_6.loc[:, cols], valid_X_6.loc[:, cols]], axis=0))\n",
    "train_X_6.loc[:, cols] = scaler.transform(train_X_6.loc[:, cols])\n",
    "valid_X_6.loc[:, cols] = scaler.transform(valid_X_6.loc[:, cols])\n",
    "\n",
    "sc = RF_Model_Sum_logex(train_X_6, train_y_6, valid_X_6, valid_y_6)\n",
    "scores = add_score('60', 'logex + StandardScaler', sc, scores)"
   ]
  },
  {
   "cell_type": "code",
   "execution_count": null,
   "metadata": {},
   "outputs": [],
   "source": []
  }
 ],
 "metadata": {
  "kernelspec": {
   "display_name": ".venv_bike",
   "language": "python",
   "name": "python3"
  },
  "language_info": {
   "codemirror_mode": {
    "name": "ipython",
    "version": 3
   },
   "file_extension": ".py",
   "mimetype": "text/x-python",
   "name": "python",
   "nbconvert_exporter": "python",
   "pygments_lexer": "ipython3",
   "version": "3.11.2"
  },
  "orig_nbformat": 4
 },
 "nbformat": 4,
 "nbformat_minor": 2
}
