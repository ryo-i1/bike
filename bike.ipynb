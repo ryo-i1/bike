{
 "cells": [
  {
   "cell_type": "code",
   "execution_count": 2,
   "metadata": {},
   "outputs": [],
   "source": [
    "import numpy as np\n",
    "import pandas as pd\n",
    "import matplotlib.pyplot as plt\n",
    "import seaborn as sns\n",
    "%matplotlib inline\n",
    "from sklearn.model_selection import train_test_split, GridSearchCV\n",
    "from sklearn.ensemble import RandomForestRegressor as RFR\n",
    "\n",
    "train = pd.read_csv('./data/input/train.csv')\n",
    "test = pd.read_csv('./data/input/test.csv')"
   ]
  },
  {
   "cell_type": "code",
   "execution_count": 3,
   "metadata": {},
   "outputs": [],
   "source": [
    "def rmsle(y, y_):\n",
    "    log1 = np.nan_to_num(np.log(y + 1))\n",
    "    log2 = np.nan_to_num(np.log(y_ + 1))\n",
    "    calc = (log1 - log2) ** 2\n",
    "    return np.sqrt(np.mean(calc))"
   ]
  },
  {
   "cell_type": "code",
   "execution_count": 4,
   "metadata": {},
   "outputs": [],
   "source": [
    "train['year'] = train.datetime.apply(lambda x: x.split()[0].split('-')[0]).astype('int')\n",
    "train['month'] = train.datetime.apply(lambda x: x.split()[0].split('-')[1]).astype('int')\n",
    "train['day'] = train.datetime.apply(lambda x: x.split()[0].split('-')[2]).astype('int')\n",
    "train['hour'] = train.datetime.apply(lambda x: x.split()[1].split(':')[0]).astype('int')\n",
    "\n",
    "test['year'] = test.datetime.apply(lambda x: x.split()[0].split('-')[0]).astype('int')\n",
    "test['month'] = test.datetime.apply(lambda x: x.split()[0].split('-')[1]).astype('int')\n",
    "test['day'] = test.datetime.apply(lambda x: x.split()[0].split('-')[2]).astype('int')\n",
    "test['hour'] = test.datetime.apply(lambda x: x.split()[1].split(':')[0]).astype('int')"
   ]
  },
  {
   "cell_type": "code",
   "execution_count": 5,
   "metadata": {},
   "outputs": [],
   "source": [
    "drop_cols = ['datetime', 'count', 'casual', 'registered']\n",
    "test_use_cols = [col for col in train.columns if col not in drop_cols]\n",
    "\n",
    "train_X, valid_X, train_y, valid_y = train_test_split(\n",
    "    train.drop(columns=drop_cols),\n",
    "    train.loc[:, 'count'],\n",
    "    test_size=0.3, random_state=0)"
   ]
  },
  {
   "cell_type": "code",
   "execution_count": 6,
   "metadata": {},
   "outputs": [
    {
     "name": "stdout",
     "output_type": "stream",
     "text": [
      "train score:  0.15852735466708315\n",
      "valid score:  0.35234408097265035\n"
     ]
    }
   ],
   "source": [
    "model_rf = RFR(random_state=0)\n",
    "model_rf.fit(train_X, train_y)\n",
    "\n",
    "train_pred = model_rf.predict(train_X)\n",
    "print('train score: ', rmsle(train_y, train_pred))\n",
    "\n",
    "valid_pred = model_rf.predict(valid_X)\n",
    "print('valid score: ', rmsle(valid_y, valid_pred))"
   ]
  },
  {
   "cell_type": "code",
   "execution_count": null,
   "metadata": {},
   "outputs": [
    {
     "name": "stdout",
     "output_type": "stream",
     "text": [
      "Fitting 3 folds for each of 27 candidates, totalling 81 fits\n",
      "[CV] END .max_depth=10, min_samples_leaf=5, n_estimators=100; total time=   0.5s\n",
      "[CV] END .max_depth=10, min_samples_leaf=5, n_estimators=100; total time=   0.6s\n",
      "[CV] END .max_depth=10, min_samples_leaf=5, n_estimators=100; total time=   0.6s\n",
      "[CV] END .max_depth=10, min_samples_leaf=5, n_estimators=200; total time=   1.1s\n",
      "[CV] END .max_depth=10, min_samples_leaf=5, n_estimators=200; total time=   1.1s\n",
      "[CV] END .max_depth=10, min_samples_leaf=5, n_estimators=200; total time=   1.1s\n",
      "[CV] END .max_depth=10, min_samples_leaf=5, n_estimators=300; total time=   1.6s\n",
      "[CV] END .max_depth=10, min_samples_leaf=5, n_estimators=300; total time=   1.5s\n",
      "[CV] END .max_depth=10, min_samples_leaf=5, n_estimators=300; total time=   1.5s\n",
      "[CV] END max_depth=10, min_samples_leaf=10, n_estimators=100; total time=   0.5s\n",
      "[CV] END max_depth=10, min_samples_leaf=10, n_estimators=100; total time=   0.5s\n",
      "[CV] END max_depth=10, min_samples_leaf=10, n_estimators=100; total time=   0.5s\n",
      "[CV] END max_depth=10, min_samples_leaf=10, n_estimators=200; total time=   0.9s\n",
      "[CV] END max_depth=10, min_samples_leaf=10, n_estimators=200; total time=   0.9s\n",
      "[CV] END max_depth=10, min_samples_leaf=10, n_estimators=200; total time=   1.0s\n",
      "[CV] END max_depth=10, min_samples_leaf=10, n_estimators=300; total time=   1.4s\n",
      "[CV] END max_depth=10, min_samples_leaf=10, n_estimators=300; total time=   1.4s\n",
      "[CV] END max_depth=10, min_samples_leaf=10, n_estimators=300; total time=   1.4s\n",
      "[CV] END max_depth=10, min_samples_leaf=15, n_estimators=100; total time=   0.5s\n",
      "[CV] END max_depth=10, min_samples_leaf=15, n_estimators=100; total time=   0.5s\n",
      "[CV] END max_depth=10, min_samples_leaf=15, n_estimators=100; total time=   0.5s\n",
      "[CV] END max_depth=10, min_samples_leaf=15, n_estimators=200; total time=   0.9s\n",
      "[CV] END max_depth=10, min_samples_leaf=15, n_estimators=200; total time=   0.9s\n",
      "[CV] END max_depth=10, min_samples_leaf=15, n_estimators=200; total time=   0.9s\n",
      "[CV] END max_depth=10, min_samples_leaf=15, n_estimators=300; total time=   1.3s\n",
      "[CV] END max_depth=10, min_samples_leaf=15, n_estimators=300; total time=   1.4s\n",
      "[CV] END max_depth=10, min_samples_leaf=15, n_estimators=300; total time=   1.3s\n",
      "[CV] END .max_depth=20, min_samples_leaf=5, n_estimators=100; total time=   0.6s\n",
      "[CV] END .max_depth=20, min_samples_leaf=5, n_estimators=100; total time=   0.6s\n",
      "[CV] END .max_depth=20, min_samples_leaf=5, n_estimators=100; total time=   0.6s\n",
      "[CV] END .max_depth=20, min_samples_leaf=5, n_estimators=200; total time=   1.1s\n",
      "[CV] END .max_depth=20, min_samples_leaf=5, n_estimators=200; total time=   1.1s\n",
      "[CV] END .max_depth=20, min_samples_leaf=5, n_estimators=200; total time=   1.2s\n",
      "[CV] END .max_depth=20, min_samples_leaf=5, n_estimators=300; total time=   1.7s\n",
      "[CV] END .max_depth=20, min_samples_leaf=5, n_estimators=300; total time=   1.7s\n",
      "[CV] END .max_depth=20, min_samples_leaf=5, n_estimators=300; total time=   1.7s\n",
      "[CV] END max_depth=20, min_samples_leaf=10, n_estimators=100; total time=   0.5s\n",
      "[CV] END max_depth=20, min_samples_leaf=10, n_estimators=100; total time=   0.5s\n",
      "[CV] END max_depth=20, min_samples_leaf=10, n_estimators=100; total time=   0.5s\n",
      "[CV] END max_depth=20, min_samples_leaf=10, n_estimators=200; total time=   1.0s\n",
      "[CV] END max_depth=20, min_samples_leaf=10, n_estimators=200; total time=   1.0s\n",
      "[CV] END max_depth=20, min_samples_leaf=10, n_estimators=200; total time=   1.0s\n",
      "[CV] END max_depth=20, min_samples_leaf=10, n_estimators=300; total time=   1.5s\n",
      "[CV] END max_depth=20, min_samples_leaf=10, n_estimators=300; total time=   1.5s\n",
      "[CV] END max_depth=20, min_samples_leaf=10, n_estimators=300; total time=   1.5s\n",
      "[CV] END max_depth=20, min_samples_leaf=15, n_estimators=100; total time=   0.5s\n",
      "[CV] END max_depth=20, min_samples_leaf=15, n_estimators=100; total time=   0.4s\n",
      "[CV] END max_depth=20, min_samples_leaf=15, n_estimators=100; total time=   0.5s\n",
      "[CV] END max_depth=20, min_samples_leaf=15, n_estimators=200; total time=   1.1s\n",
      "[CV] END max_depth=20, min_samples_leaf=15, n_estimators=200; total time=   1.0s\n",
      "[CV] END max_depth=20, min_samples_leaf=15, n_estimators=200; total time=   0.9s\n",
      "[CV] END max_depth=20, min_samples_leaf=15, n_estimators=300; total time=   1.4s\n",
      "[CV] END max_depth=20, min_samples_leaf=15, n_estimators=300; total time=   1.4s\n",
      "[CV] END max_depth=20, min_samples_leaf=15, n_estimators=300; total time=   1.4s\n",
      "[CV] END .max_depth=30, min_samples_leaf=5, n_estimators=100; total time=   0.6s\n",
      "[CV] END .max_depth=30, min_samples_leaf=5, n_estimators=100; total time=   0.6s\n",
      "[CV] END .max_depth=30, min_samples_leaf=5, n_estimators=100; total time=   0.6s\n",
      "[CV] END .max_depth=30, min_samples_leaf=5, n_estimators=200; total time=   1.1s\n",
      "[CV] END .max_depth=30, min_samples_leaf=5, n_estimators=200; total time=   1.1s\n",
      "[CV] END .max_depth=30, min_samples_leaf=5, n_estimators=200; total time=   1.1s\n",
      "[CV] END .max_depth=30, min_samples_leaf=5, n_estimators=300; total time=   1.7s\n",
      "[CV] END .max_depth=30, min_samples_leaf=5, n_estimators=300; total time=   1.7s\n",
      "[CV] END .max_depth=30, min_samples_leaf=5, n_estimators=300; total time=   1.7s\n",
      "[CV] END max_depth=30, min_samples_leaf=10, n_estimators=100; total time=   0.5s\n",
      "[CV] END max_depth=30, min_samples_leaf=10, n_estimators=100; total time=   0.5s\n",
      "[CV] END max_depth=30, min_samples_leaf=10, n_estimators=100; total time=   0.5s\n",
      "[CV] END max_depth=30, min_samples_leaf=10, n_estimators=200; total time=   1.0s\n",
      "[CV] END max_depth=30, min_samples_leaf=10, n_estimators=200; total time=   1.0s\n",
      "[CV] END max_depth=30, min_samples_leaf=10, n_estimators=200; total time=   1.0s\n",
      "[CV] END max_depth=30, min_samples_leaf=10, n_estimators=300; total time=   1.5s\n",
      "[CV] END max_depth=30, min_samples_leaf=10, n_estimators=300; total time=   1.5s\n",
      "[CV] END max_depth=30, min_samples_leaf=10, n_estimators=300; total time=   1.5s\n",
      "[CV] END max_depth=30, min_samples_leaf=15, n_estimators=100; total time=   0.5s\n",
      "[CV] END max_depth=30, min_samples_leaf=15, n_estimators=100; total time=   0.5s\n",
      "[CV] END max_depth=30, min_samples_leaf=15, n_estimators=100; total time=   0.5s\n",
      "[CV] END max_depth=30, min_samples_leaf=15, n_estimators=200; total time=   0.9s\n",
      "[CV] END max_depth=30, min_samples_leaf=15, n_estimators=200; total time=   0.9s\n",
      "[CV] END max_depth=30, min_samples_leaf=15, n_estimators=200; total time=   1.0s\n",
      "[CV] END max_depth=30, min_samples_leaf=15, n_estimators=300; total time=   1.4s\n",
      "[CV] END max_depth=30, min_samples_leaf=15, n_estimators=300; total time=   1.3s\n",
      "[CV] END max_depth=30, min_samples_leaf=15, n_estimators=300; total time=   1.4s\n"
     ]
    },
    {
     "data": {
      "text/html": [
       "<style>#sk-container-id-1 {color: black;background-color: white;}#sk-container-id-1 pre{padding: 0;}#sk-container-id-1 div.sk-toggleable {background-color: white;}#sk-container-id-1 label.sk-toggleable__label {cursor: pointer;display: block;width: 100%;margin-bottom: 0;padding: 0.3em;box-sizing: border-box;text-align: center;}#sk-container-id-1 label.sk-toggleable__label-arrow:before {content: \"▸\";float: left;margin-right: 0.25em;color: #696969;}#sk-container-id-1 label.sk-toggleable__label-arrow:hover:before {color: black;}#sk-container-id-1 div.sk-estimator:hover label.sk-toggleable__label-arrow:before {color: black;}#sk-container-id-1 div.sk-toggleable__content {max-height: 0;max-width: 0;overflow: hidden;text-align: left;background-color: #f0f8ff;}#sk-container-id-1 div.sk-toggleable__content pre {margin: 0.2em;color: black;border-radius: 0.25em;background-color: #f0f8ff;}#sk-container-id-1 input.sk-toggleable__control:checked~div.sk-toggleable__content {max-height: 200px;max-width: 100%;overflow: auto;}#sk-container-id-1 input.sk-toggleable__control:checked~label.sk-toggleable__label-arrow:before {content: \"▾\";}#sk-container-id-1 div.sk-estimator input.sk-toggleable__control:checked~label.sk-toggleable__label {background-color: #d4ebff;}#sk-container-id-1 div.sk-label input.sk-toggleable__control:checked~label.sk-toggleable__label {background-color: #d4ebff;}#sk-container-id-1 input.sk-hidden--visually {border: 0;clip: rect(1px 1px 1px 1px);clip: rect(1px, 1px, 1px, 1px);height: 1px;margin: -1px;overflow: hidden;padding: 0;position: absolute;width: 1px;}#sk-container-id-1 div.sk-estimator {font-family: monospace;background-color: #f0f8ff;border: 1px dotted black;border-radius: 0.25em;box-sizing: border-box;margin-bottom: 0.5em;}#sk-container-id-1 div.sk-estimator:hover {background-color: #d4ebff;}#sk-container-id-1 div.sk-parallel-item::after {content: \"\";width: 100%;border-bottom: 1px solid gray;flex-grow: 1;}#sk-container-id-1 div.sk-label:hover label.sk-toggleable__label {background-color: #d4ebff;}#sk-container-id-1 div.sk-serial::before {content: \"\";position: absolute;border-left: 1px solid gray;box-sizing: border-box;top: 0;bottom: 0;left: 50%;z-index: 0;}#sk-container-id-1 div.sk-serial {display: flex;flex-direction: column;align-items: center;background-color: white;padding-right: 0.2em;padding-left: 0.2em;position: relative;}#sk-container-id-1 div.sk-item {position: relative;z-index: 1;}#sk-container-id-1 div.sk-parallel {display: flex;align-items: stretch;justify-content: center;background-color: white;position: relative;}#sk-container-id-1 div.sk-item::before, #sk-container-id-1 div.sk-parallel-item::before {content: \"\";position: absolute;border-left: 1px solid gray;box-sizing: border-box;top: 0;bottom: 0;left: 50%;z-index: -1;}#sk-container-id-1 div.sk-parallel-item {display: flex;flex-direction: column;z-index: 1;position: relative;background-color: white;}#sk-container-id-1 div.sk-parallel-item:first-child::after {align-self: flex-end;width: 50%;}#sk-container-id-1 div.sk-parallel-item:last-child::after {align-self: flex-start;width: 50%;}#sk-container-id-1 div.sk-parallel-item:only-child::after {width: 0;}#sk-container-id-1 div.sk-dashed-wrapped {border: 1px dashed gray;margin: 0 0.4em 0.5em 0.4em;box-sizing: border-box;padding-bottom: 0.4em;background-color: white;}#sk-container-id-1 div.sk-label label {font-family: monospace;font-weight: bold;display: inline-block;line-height: 1.2em;}#sk-container-id-1 div.sk-label-container {text-align: center;}#sk-container-id-1 div.sk-container {/* jupyter's `normalize.less` sets `[hidden] { display: none; }` but bootstrap.min.css set `[hidden] { display: none !important; }` so we also need the `!important` here to be able to override the default hidden behavior on the sphinx rendered scikit-learn.org. See: https://github.com/scikit-learn/scikit-learn/issues/21755 */display: inline-block !important;position: relative;}#sk-container-id-1 div.sk-text-repr-fallback {display: none;}</style><div id=\"sk-container-id-1\" class=\"sk-top-container\"><div class=\"sk-text-repr-fallback\"><pre>GridSearchCV(cv=3,\n",
       "             estimator=RandomForestRegressor(max_features=&#x27;log2&#x27;,\n",
       "                                             random_state=0),\n",
       "             param_grid=[{&#x27;max_depth&#x27;: [10, 20, 30],\n",
       "                          &#x27;min_samples_leaf&#x27;: [5, 10, 15],\n",
       "                          &#x27;n_estimators&#x27;: [100, 200, 300]}],\n",
       "             verbose=2)</pre><b>In a Jupyter environment, please rerun this cell to show the HTML representation or trust the notebook. <br />On GitHub, the HTML representation is unable to render, please try loading this page with nbviewer.org.</b></div><div class=\"sk-container\" hidden><div class=\"sk-item sk-dashed-wrapped\"><div class=\"sk-label-container\"><div class=\"sk-label sk-toggleable\"><input class=\"sk-toggleable__control sk-hidden--visually\" id=\"sk-estimator-id-1\" type=\"checkbox\" ><label for=\"sk-estimator-id-1\" class=\"sk-toggleable__label sk-toggleable__label-arrow\">GridSearchCV</label><div class=\"sk-toggleable__content\"><pre>GridSearchCV(cv=3,\n",
       "             estimator=RandomForestRegressor(max_features=&#x27;log2&#x27;,\n",
       "                                             random_state=0),\n",
       "             param_grid=[{&#x27;max_depth&#x27;: [10, 20, 30],\n",
       "                          &#x27;min_samples_leaf&#x27;: [5, 10, 15],\n",
       "                          &#x27;n_estimators&#x27;: [100, 200, 300]}],\n",
       "             verbose=2)</pre></div></div></div><div class=\"sk-parallel\"><div class=\"sk-parallel-item\"><div class=\"sk-item\"><div class=\"sk-label-container\"><div class=\"sk-label sk-toggleable\"><input class=\"sk-toggleable__control sk-hidden--visually\" id=\"sk-estimator-id-2\" type=\"checkbox\" ><label for=\"sk-estimator-id-2\" class=\"sk-toggleable__label sk-toggleable__label-arrow\">estimator: RandomForestRegressor</label><div class=\"sk-toggleable__content\"><pre>RandomForestRegressor(max_features=&#x27;log2&#x27;, random_state=0)</pre></div></div></div><div class=\"sk-serial\"><div class=\"sk-item\"><div class=\"sk-estimator sk-toggleable\"><input class=\"sk-toggleable__control sk-hidden--visually\" id=\"sk-estimator-id-3\" type=\"checkbox\" ><label for=\"sk-estimator-id-3\" class=\"sk-toggleable__label sk-toggleable__label-arrow\">RandomForestRegressor</label><div class=\"sk-toggleable__content\"><pre>RandomForestRegressor(max_features=&#x27;log2&#x27;, random_state=0)</pre></div></div></div></div></div></div></div></div></div></div>"
      ],
      "text/plain": [
       "GridSearchCV(cv=3,\n",
       "             estimator=RandomForestRegressor(max_features='log2',\n",
       "                                             random_state=0),\n",
       "             param_grid=[{'max_depth': [10, 20, 30],\n",
       "                          'min_samples_leaf': [5, 10, 15],\n",
       "                          'n_estimators': [100, 200, 300]}],\n",
       "             verbose=2)"
      ]
     },
     "execution_count": 7,
     "metadata": {},
     "output_type": "execute_result"
    }
   ],
   "source": [
    "# GridSearchCV\n",
    "if False:\n",
    "    params = [{\n",
    "        'n_estimators': [100, 200, 300],\n",
    "        'max_depth': [10, 20, 30],\n",
    "        'min_samples_leaf': [5, 10, 15]\n",
    "    }]\n",
    "\n",
    "    gscv = GridSearchCV(\n",
    "        RFR(random_state=0, max_features='log2'),\n",
    "        param_grid=params,\n",
    "        cv=3,\n",
    "        verbose=2\n",
    "        )\n",
    "\n",
    "    gscv.fit(train_X, train_y)"
   ]
  },
  {
   "cell_type": "code",
   "execution_count": 8,
   "metadata": {},
   "outputs": [
    {
     "name": "stdout",
     "output_type": "stream",
     "text": [
      "{'max_depth': 20, 'min_samples_leaf': 5, 'n_estimators': 200}\n",
      "train score:  0.566182482821103\n",
      "valid score:  0.6407919575221911\n"
     ]
    }
   ],
   "source": [
    "# GridSearchCV check params\n",
    "if False:\n",
    "    model_rf_best = gscv.best_estimator_\n",
    "    print(gscv.best_params_)\n",
    "\n",
    "    train_pred = model_rf_best.predict(train_X)\n",
    "    print('train score: ', rmsle(train_y, train_pred))\n",
    "\n",
    "    valid_pred = model_rf_best.predict(valid_X)\n",
    "    print('valid score: ', rmsle(valid_y, valid_pred))\n",
    "\n",
    "    print(pd.DataFrame(gscv.cv_results_).sort_values('rank_test_score').T)"
   ]
  },
  {
   "cell_type": "code",
   "execution_count": 11,
   "metadata": {},
   "outputs": [
    {
     "name": "stdout",
     "output_type": "stream",
     "text": [
      "train score:  0.28304786806763416\n",
      "valid score:  0.3629093510948012\n"
     ]
    }
   ],
   "source": [
    "model_rf_best = RFR(random_state=0, max_depth=20, min_samples_leaf=5, n_estimators=200)\n",
    "model_rf_best.fit(train_X, train_y)\n",
    "\n",
    "pred = model_rf_best.predict(train_X)\n",
    "print('train score: ', rmsle(train_y, pred))\n",
    "\n",
    "pred = model_rf_best.predict(valid_X)\n",
    "print('valid score: ', rmsle(valid_y, pred))"
   ]
  },
  {
   "cell_type": "code",
   "execution_count": 8,
   "metadata": {},
   "outputs": [],
   "source": [
    "model_rf_test = RFR(random_state=0, max_depth=20, min_samples_leaf=5, n_estimators=200)\n",
    "model_rf_test.fit(train.drop(columns=drop_cols), train.loc[:, 'count'])\n",
    "\n",
    "pred = model_rf_test.predict(test.loc[:, test_use_cols])\n",
    "df_submit = pd.DataFrame({'datetime': test.datetime, 'count': pred})\n",
    "df_submit.to_csv('./data/output/submittion.csv', index=False)"
   ]
  }
 ],
 "metadata": {
  "kernelspec": {
   "display_name": ".venv_bike",
   "language": "python",
   "name": "python3"
  },
  "language_info": {
   "codemirror_mode": {
    "name": "ipython",
    "version": 3
   },
   "file_extension": ".py",
   "mimetype": "text/x-python",
   "name": "python",
   "nbconvert_exporter": "python",
   "pygments_lexer": "ipython3",
   "version": "3.11.2"
  },
  "orig_nbformat": 4
 },
 "nbformat": 4,
 "nbformat_minor": 2
}
